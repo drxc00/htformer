{
 "cells": [
  {
   "cell_type": "markdown",
   "metadata": {},
   "source": [
    "# Test the trained prototype model"
   ]
  },
  {
   "cell_type": "code",
   "execution_count": 39,
   "metadata": {},
   "outputs": [],
   "source": [
    "import torch\n",
    "import numpy as np\n",
    "from torch.utils.data import Dataset, DataLoader\n"
   ]
  },
  {
   "cell_type": "markdown",
   "metadata": {},
   "source": [
    "## Create a simple pipeline\n",
    "This will include:\n",
    "- using raw video data.\n",
    "- Processing the raw video data.\n",
    "- Passing the processed video data into the model.\n",
    "- Displaying the results."
   ]
  },
  {
   "cell_type": "code",
   "execution_count": 40,
   "metadata": {},
   "outputs": [],
   "source": [
    "\n",
    "from keypoint_extractor import KeypointExtractorV2"
   ]
  },
  {
   "cell_type": "code",
   "execution_count": 41,
   "metadata": {},
   "outputs": [],
   "source": [
    "def load_and_extract(path: str) -> np.ndarray:\n",
    "    extractor = KeypointExtractorV2(r\"models/mediapipe/pose_landmarker_full.task\")\n",
    "    keypoints = extractor.extract(path)\n",
    "    \n",
    "    max_frames = 200\n",
    "    pad_len = max_frames - len(keypoints)\n",
    "    if pad_len > 0:\n",
    "        pad = np.zeros((pad_len, keypoints.shape[1], keypoints.shape[2]))  # Preserve all dimensions\n",
    "        padded_sample = np.concatenate((keypoints, pad), axis=0)\n",
    "    else:\n",
    "        padded_sample = keypoints\n",
    "\n",
    "    return np.array(padded_sample)\n",
    "        "
   ]
  },
  {
   "cell_type": "code",
   "execution_count": 42,
   "metadata": {},
   "outputs": [],
   "source": [
    "def load_and_extract_for_inference(video_path: str, max_frames: int = 200) -> tuple[np.ndarray, np.ndarray]:\n",
    "    \"\"\"\n",
    "    Loads a video, extracts keypoints, pads them to max_frames,\n",
    "    and generates an attention mask.\n",
    "\n",
    "    Args:\n",
    "        video_path: Path to the input video file.\n",
    "        max_frames: The maximum sequence length used during training.\n",
    "\n",
    "    Returns:\n",
    "        A tuple:\n",
    "            - padded_keypoints: np.ndarray of shape (max_frames, num_keypoints, coordinates)\n",
    "            - attention_mask: np.ndarray of shape (max_frames,)\n",
    "    \"\"\"\n",
    "    extractor = KeypointExtractorV2(r\"models/mediapipe/pose_landmarker_full.task\")\n",
    "    keypoints = extractor.extract(video_path) # keypoints will be (actual_len, num_keypoints, coords)\n",
    "\n",
    "    actual_len = keypoints.shape[0]\n",
    "\n",
    "    # Initialize padded_sample and attention_mask\n",
    "    padded_sample = np.zeros((max_frames, keypoints.shape[1], keypoints.shape[2]), dtype=keypoints.dtype)\n",
    "    attention_mask = np.zeros(max_frames, dtype=np.float32) # Use float32 for mask\n",
    "\n",
    "    # Copy actual keypoints to the padded array\n",
    "    if actual_len > max_frames:\n",
    "        # If the actual length is greater than max_frames, truncate it.\n",
    "        # This aligns with how you filtered during training for `create_transformer_ready_arrays`.\n",
    "        padded_sample = keypoints[:max_frames, :, :]\n",
    "        attention_mask[:] = 1.0 # All elements are valid up to max_frames\n",
    "        print(f\"Warning: Video '{video_path}' was truncated from {actual_len} to {max_frames} frames.\")\n",
    "    else:\n",
    "        padded_sample[:actual_len, :, :] = keypoints\n",
    "        attention_mask[:actual_len] = 1.0 # Set mask to 1 for actual data points\n",
    "\n",
    "    # Drop visibility dimension (assuming it's the 4th coord, like in your training data prep)\n",
    "    padded_sample = padded_sample[:, :, :3]\n",
    "\n",
    "    return padded_sample, attention_mask"
   ]
  },
  {
   "cell_type": "code",
   "execution_count": 43,
   "metadata": {},
   "outputs": [],
   "source": [
    "video_to_test_path = 'data/raw/deadlifts/22a1eea2-80f4-41e8-a6d6-976ee610d8d4_V1-0024.mp4'\n",
    "labels_map = {0: \"Squats\", 1: \"Deadlifts\", 2: \"Shoulder Press\"}"
   ]
  },
  {
   "cell_type": "code",
   "execution_count": 44,
   "metadata": {},
   "outputs": [
    {
     "data": {
      "text/plain": [
       "<All keys matched successfully>"
      ]
     },
     "execution_count": 44,
     "metadata": {},
     "output_type": "execute_result"
    }
   ],
   "source": [
    "from hierarchical_transformer_prototype import HierarchicalTransformer\n",
    "\n",
    "model = HierarchicalTransformer(\n",
    "    num_joints=33,\n",
    "    num_frames=378,\n",
    "    d_model=64,\n",
    "    nhead=4,\n",
    "    num_spatial_layers=1,\n",
    "    num_temporal_layers=1,\n",
    "    num_classes=3,\n",
    "    dim_feedforward=512\n",
    ")\n",
    "model.load_state_dict(torch.load(\"models/hierarchical transformer/hierarchical_transformer_weights_2025-06-20_small_1.pth\"))"
   ]
  },
  {
   "cell_type": "code",
   "execution_count": 45,
   "metadata": {},
   "outputs": [
    {
     "name": "stdout",
     "output_type": "stream",
     "text": [
      "Processing data/raw/deadlifts/22a1eea2-80f4-41e8-a6d6-976ee610d8d4_V1-0024.mp4: 270x480, 95 frames\n",
      "Extracted and normalized 95 frames from data/raw/deadlifts/22a1eea2-80f4-41e8-a6d6-976ee610d8d4_V1-0024.mp4\n"
     ]
    },
    {
     "data": {
      "text/plain": [
       "(200, 33, 3)"
      ]
     },
     "execution_count": 45,
     "metadata": {},
     "output_type": "execute_result"
    }
   ],
   "source": [
    "video = load_and_extract(video_to_test_path)\n",
    "x_sample = video[:, :, :3]\n",
    "x_sample.shape"
   ]
  },
  {
   "cell_type": "code",
   "execution_count": 46,
   "metadata": {},
   "outputs": [
    {
     "data": {
      "text/plain": [
       "torch.Size([1, 200, 33, 3])"
      ]
     },
     "execution_count": 46,
     "metadata": {},
     "output_type": "execute_result"
    }
   ],
   "source": [
    "# inference\n",
    "x_tensor = torch.tensor(x_sample, dtype=torch.float32).unsqueeze(0)\n",
    "x_tensor.shape"
   ]
  },
  {
   "cell_type": "code",
   "execution_count": 47,
   "metadata": {},
   "outputs": [
    {
     "name": "stdout",
     "output_type": "stream",
     "text": [
      "Old Model:\n",
      "\n",
      "Video: data/raw/deadlifts/22a1eea2-80f4-41e8-a6d6-976ee610d8d4_V1-0024.mp4\n",
      "Predicted Class Index: 2\n",
      "Predicted Exercise: Shoulder Press\n"
     ]
    }
   ],
   "source": [
    "model.eval()\n",
    "with torch.no_grad():\n",
    "    logits = model(x_tensor)\n",
    "    predicted_class = torch.argmax(logits, dim=1).item()\n",
    "\n",
    "# Squats: 0 , Deadlifts: 1, Shoulder Press: 2\n",
    "print(\"Old Model:\")\n",
    "print(f\"\\nVideo: {video_to_test_path}\")\n",
    "print(\"Predicted Class Index:\", predicted_class)\n",
    "print(\"Predicted Exercise:\", labels_map[predicted_class])"
   ]
  },
  {
   "cell_type": "markdown",
   "metadata": {},
   "source": [
    "# New Model"
   ]
  },
  {
   "cell_type": "code",
   "execution_count": 48,
   "metadata": {},
   "outputs": [],
   "source": [
    "from hierarchical_transformer_model_v2 import HierarchicalTransformer as HTV2"
   ]
  },
  {
   "cell_type": "code",
   "execution_count": 49,
   "metadata": {},
   "outputs": [],
   "source": [
    "# New model\n",
    "model_v2 = HTV2(\n",
    "   num_joints=33,\n",
    "    num_frames=200,\n",
    "    d_model=64,\n",
    "    nhead=4,\n",
    "    num_spatial_layers=1,\n",
    "    num_temporal_layers=1,\n",
    "    num_classes=3,\n",
    "    dim_feedforward=512,\n",
    "    dropout=0.1\n",
    ")"
   ]
  },
  {
   "cell_type": "code",
   "execution_count": 50,
   "metadata": {},
   "outputs": [
    {
     "name": "stdout",
     "output_type": "stream",
     "text": [
      "Model weights loaded successfully.\n"
     ]
    }
   ],
   "source": [
    "try:\n",
    "    model_v2.load_state_dict(torch.load(\"models/hierarchical transformer/hierarchical_transformer_v2_weights_2025-06-21.pth\"))\n",
    "    print(\"Model weights loaded successfully.\") # You should see this print!\n",
    "except FileNotFoundError:\n",
    "    print(\"Error: Model weights file not found. Please check the path and ensure it exists.\")\n",
    "    # You might want to exit or raise an exception here if loading is critical\n",
    "    exit()\n",
    "except Exception as e:\n",
    "    print(f\"An unexpected error occurred while loading model weights: {e}\")\n",
    "    exit()"
   ]
  },
  {
   "cell_type": "code",
   "execution_count": 51,
   "metadata": {},
   "outputs": [
    {
     "name": "stdout",
     "output_type": "stream",
     "text": [
      "Processing data/raw/deadlifts/22a1eea2-80f4-41e8-a6d6-976ee610d8d4_V1-0024.mp4: 270x480, 95 frames\n",
      "Extracted and normalized 95 frames from data/raw/deadlifts/22a1eea2-80f4-41e8-a6d6-976ee610d8d4_V1-0024.mp4\n"
     ]
    }
   ],
   "source": [
    "# Load and process the video for inference\n",
    "x_np, mask_np = load_and_extract_for_inference(video_to_test_path, max_frames=200)"
   ]
  },
  {
   "cell_type": "code",
   "execution_count": 52,
   "metadata": {},
   "outputs": [
    {
     "name": "stdout",
     "output_type": "stream",
     "text": [
      "New Model (V2):\n",
      "\n",
      "Video: data/raw/deadlifts/22a1eea2-80f4-41e8-a6d6-976ee610d8d4_V1-0024.mp4\n",
      "Predicted Class Index: 1\n",
      "Predicted Exercise: Deadlifts\n"
     ]
    }
   ],
   "source": [
    "# Convert to PyTorch tensors and add batch dimension\n",
    "# x_np is (max_frames, num_keypoints, coordinates)\n",
    "# We need (batch_size, max_frames, num_keypoints, coordinates) for the model\n",
    "x_tensor = torch.from_numpy(x_np).float().unsqueeze(0) # Add batch dimension\n",
    "mask_tensor = torch.from_numpy(mask_np).float().unsqueeze(0) # Add batch dimension for mask\n",
    "\n",
    "# Ensure tensors are on the correct device (CPU or GPU)\n",
    "device = torch.device(\"cuda\" if torch.cuda.is_available() else \"cpu\")\n",
    "model_v2.to(device)\n",
    "x_tensor = x_tensor.to(device)\n",
    "mask_tensor = mask_tensor.to(device)\n",
    "\n",
    "with torch.no_grad(): # Disable gradient calculation for inference\n",
    "    # Pass both the input data and the attention mask to the model\n",
    "    logits = model_v2(x_tensor, temporal_mask=mask_tensor)\n",
    "\n",
    "    # Get the predicted class (highest logit)\n",
    "    predicted_class_idx = torch.argmax(logits, dim=1).item()\n",
    "    \n",
    "    # Get the probabilities (if needed)\n",
    "    probabilities = torch.softmax(logits, dim=1)[0] # [0] because it's a batch of 1\n",
    "\n",
    "# Print results\n",
    "print(\"New Model (V2):\")\n",
    "print(f\"\\nVideo: {video_to_test_path}\")\n",
    "print(f\"Predicted Class Index: {predicted_class_idx}\")\n",
    "print(f\"Predicted Exercise: {labels_map.get(predicted_class_idx, 'Unknown')}\")"
   ]
  },
  {
   "cell_type": "code",
   "execution_count": null,
   "metadata": {},
   "outputs": [],
   "source": []
  }
 ],
 "metadata": {
  "kernelspec": {
   "display_name": "thesis",
   "language": "python",
   "name": "python3"
  },
  "language_info": {
   "codemirror_mode": {
    "name": "ipython",
    "version": 3
   },
   "file_extension": ".py",
   "mimetype": "text/x-python",
   "name": "python",
   "nbconvert_exporter": "python",
   "pygments_lexer": "ipython3",
   "version": "3.12.10"
  }
 },
 "nbformat": 4,
 "nbformat_minor": 2
}
