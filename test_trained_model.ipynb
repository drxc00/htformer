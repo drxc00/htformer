{
 "cells": [
  {
   "cell_type": "markdown",
   "metadata": {},
   "source": [
    "# Test the trained prototype model"
   ]
  },
  {
   "cell_type": "code",
   "execution_count": 1,
   "metadata": {},
   "outputs": [],
   "source": [
    "import torch\n",
    "import numpy as np\n",
    "from torch.utils.data import Dataset, DataLoader\n"
   ]
  },
  {
   "cell_type": "markdown",
   "metadata": {},
   "source": [
    "## Create a simple pipeline\n",
    "This will include:\n",
    "- using raw video data.\n",
    "- Processing the raw video data.\n",
    "- Passing the processed video data into the model.\n",
    "- Displaying the results."
   ]
  },
  {
   "cell_type": "code",
   "execution_count": 2,
   "metadata": {},
   "outputs": [],
   "source": [
    "import mediapipe as mp\n",
    "from mediapipe.tasks import python\n",
    "from mediapipe.tasks.python import vision\n",
    "import cv2 as cv"
   ]
  },
  {
   "cell_type": "code",
   "execution_count": 3,
   "metadata": {},
   "outputs": [],
   "source": [
    "def resize(frame, target_size=(256, 256)):\n",
    "    h, w = frame.shape[:2]\n",
    "    scale = min(target_size[0]/h, target_size[1]/w)\n",
    "    new_w, new_h = int(w*scale), int(h*scale)\n",
    "    resized = cv.resize(frame, (new_w, new_h))\n",
    "    \n",
    "    # Create a blank canvas and paste the resized frame\n",
    "    canvas = np.zeros((target_size[1], target_size[0], 3), dtype=np.uint8)\n",
    "    y_offset = (target_size[1] - new_h) // 2\n",
    "    x_offset = (target_size[0] - new_w) // 2\n",
    "    canvas[y_offset:y_offset+new_h, x_offset:x_offset+new_w] = resized\n",
    "    return canvas"
   ]
  },
  {
   "cell_type": "code",
   "execution_count": 4,
   "metadata": {},
   "outputs": [],
   "source": [
    "def load_and_extract(path: str) -> np.ndarray:\n",
    "    BaseOptions = python.BaseOptions\n",
    "    PoseLandmarker = vision.PoseLandmarker\n",
    "    PoseLandmarkerOptions = vision.PoseLandmarkerOptions\n",
    "    VisionRunningMode = vision.RunningMode\n",
    "    \n",
    "    options = PoseLandmarkerOptions(\n",
    "    base_options=BaseOptions(\n",
    "        model_asset_path=r\"models/mediapipe/pose_landmarker_heavy.task\",\n",
    "        delegate=python.BaseOptions.Delegate.CPU),\n",
    "        running_mode=VisionRunningMode.VIDEO)\n",
    "\n",
    "    with PoseLandmarker.create_from_options(options) as landmarker:\n",
    "        cap = cv.VideoCapture(path)\n",
    "        keypoints = []\n",
    "        frame_idx = 0\n",
    "        while cap.isOpened():\n",
    "            r, frame = cap.read()\n",
    "            if not r: break\n",
    "            \n",
    "            rf = resize(frame)\n",
    "            mp_image = mp.Image(image_format=mp.ImageFormat.SRGB, data=rf)\n",
    "            detection_result = landmarker.detect_for_video(mp_image, frame_idx)\n",
    "            pose_landmarks_list = detection_result.pose_landmarks\n",
    "            \n",
    "            # Convert landmarks to a numpy-friendly format\n",
    "            frame_keypoints = []\n",
    "            if pose_landmarks_list:\n",
    "                for landmark in pose_landmarks_list[0]:\n",
    "                    frame_keypoints.append([landmark.x, landmark.y, landmark.z, landmark.visibility])\n",
    "            else:\n",
    "                # If no landmarks detected, add a placeholder (all zeros)\n",
    "                frame_keypoints = np.zeros((33, 4))  # MediaPipe pose has 33 landmarks with x,y,z,visibility\n",
    "                \n",
    "            keypoints.append(frame_keypoints)\n",
    "            frame_idx+=1\n",
    "            \n",
    "    # Pad or truncate to a fixed length\n",
    "    \n",
    "    keypoints = np.array(keypoints)\n",
    "    \n",
    "    max_frames = 331\n",
    "    pad_len = max_frames - len(keypoints)\n",
    "    if pad_len > 0:\n",
    "        pad = np.zeros((pad_len, keypoints.shape[1], keypoints.shape[2]))  # Preserve all dimensions\n",
    "        padded_sample = np.concatenate((keypoints, pad), axis=0)\n",
    "    else:\n",
    "        padded_sample = keypoints\n",
    "\n",
    "    return np.array(padded_sample)\n",
    "        "
   ]
  },
  {
   "cell_type": "code",
   "execution_count": 6,
   "metadata": {},
   "outputs": [
    {
     "data": {
      "text/plain": [
       "<All keys matched successfully>"
      ]
     },
     "execution_count": 6,
     "metadata": {},
     "output_type": "execute_result"
    }
   ],
   "source": [
    "from hierarchical_transformer_prototype import HierarchicalTransformer\n",
    "\n",
    "model = HierarchicalTransformer(\n",
    "    num_joints=33,\n",
    "    num_frames=331,\n",
    "    d_model=128,\n",
    "    nhead=8,\n",
    "    num_spatial_layers=2,\n",
    "    num_temporal_layers=2,\n",
    "    num_classes=2\n",
    ")\n",
    "model.load_state_dict(torch.load(\"hierarchical_transformer_weights.pth\"))"
   ]
  },
  {
   "cell_type": "code",
   "execution_count": 16,
   "metadata": {},
   "outputs": [
    {
     "data": {
      "text/plain": [
       "(331, 33, 3)"
      ]
     },
     "execution_count": 16,
     "metadata": {},
     "output_type": "execute_result"
    }
   ],
   "source": [
    "video = load_and_extract('data/unseen/squat_neil_3.mp4')\n",
    "x_sample = video[:, :, :3]\n",
    "x_sample.shape"
   ]
  },
  {
   "cell_type": "code",
   "execution_count": 17,
   "metadata": {},
   "outputs": [
    {
     "data": {
      "text/plain": [
       "torch.Size([1, 331, 33, 3])"
      ]
     },
     "execution_count": 17,
     "metadata": {},
     "output_type": "execute_result"
    }
   ],
   "source": [
    "# inference\n",
    "x_tensor = torch.tensor(x_sample, dtype=torch.float32).unsqueeze(0)\n",
    "x_tensor.shape"
   ]
  },
  {
   "cell_type": "code",
   "execution_count": 18,
   "metadata": {},
   "outputs": [
    {
     "name": "stdout",
     "output_type": "stream",
     "text": [
      "Predicted class: 0\n"
     ]
    }
   ],
   "source": [
    "model.eval()\n",
    "with torch.no_grad():\n",
    "    logits = model(x_tensor)\n",
    "    predicted_class = torch.argmax(logits, dim=1).item()\n",
    "\n",
    "# Squats: 0 , Deadlifts: 1\n",
    "print(\"Predicted class:\", predicted_class)"
   ]
  },
  {
   "cell_type": "code",
   "execution_count": null,
   "metadata": {},
   "outputs": [],
   "source": []
  }
 ],
 "metadata": {
  "kernelspec": {
   "display_name": "thesis",
   "language": "python",
   "name": "python3"
  },
  "language_info": {
   "codemirror_mode": {
    "name": "ipython",
    "version": 3
   },
   "file_extension": ".py",
   "mimetype": "text/x-python",
   "name": "python",
   "nbconvert_exporter": "python",
   "pygments_lexer": "ipython3",
   "version": "3.12.10"
  }
 },
 "nbformat": 4,
 "nbformat_minor": 2
}
