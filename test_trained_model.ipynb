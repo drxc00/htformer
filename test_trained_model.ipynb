{
 "cells": [
  {
   "cell_type": "markdown",
   "metadata": {},
   "source": [
    "# Test the trained prototype model"
   ]
  },
  {
   "cell_type": "code",
   "execution_count": 1,
   "metadata": {},
   "outputs": [],
   "source": [
    "import torch\n",
    "import numpy as np\n",
    "from torch.utils.data import Dataset, DataLoader\n"
   ]
  },
  {
   "cell_type": "markdown",
   "metadata": {},
   "source": [
    "## Create a simple pipeline\n",
    "This will include:\n",
    "- using raw video data.\n",
    "- Processing the raw video data.\n",
    "- Passing the processed video data into the model.\n",
    "- Displaying the results."
   ]
  },
  {
   "cell_type": "code",
   "execution_count": 2,
   "metadata": {},
   "outputs": [],
   "source": [
    "\n",
    "from keypoint_extractor import KeypointExtractor, KeypointExtractorV2"
   ]
  },
  {
   "cell_type": "code",
   "execution_count": 17,
   "metadata": {},
   "outputs": [],
   "source": [
    "def load_and_extract(path: str) -> np.ndarray:\n",
    "    extractor = KeypointExtractorV2(r\"models/mediapipe/pose_landmarker_full.task\")\n",
    "    keypoints = extractor.extract(path)\n",
    "    \n",
    "    max_frames = 331\n",
    "    pad_len = max_frames - len(keypoints)\n",
    "    if pad_len > 0:\n",
    "        pad = np.zeros((pad_len, keypoints.shape[1], keypoints.shape[2]))  # Preserve all dimensions\n",
    "        padded_sample = np.concatenate((keypoints, pad), axis=0)\n",
    "    else:\n",
    "        padded_sample = keypoints\n",
    "\n",
    "    return np.array(padded_sample)\n",
    "        "
   ]
  },
  {
   "cell_type": "code",
   "execution_count": 4,
   "metadata": {},
   "outputs": [
    {
     "name": "stderr",
     "output_type": "stream",
     "text": [
      "d:\\Thesis\\thesis\\Lib\\site-packages\\torch\\nn\\modules\\transformer.py:382: UserWarning: enable_nested_tensor is True, but self.use_nested_tensor is False because encoder_layer.self_attn.batch_first was not True(use batch_first for better inference performance)\n",
      "  warnings.warn(\n"
     ]
    },
    {
     "data": {
      "text/plain": [
       "<All keys matched successfully>"
      ]
     },
     "execution_count": 4,
     "metadata": {},
     "output_type": "execute_result"
    }
   ],
   "source": [
    "from hierarchical_transformer_prototype import HierarchicalTransformer\n",
    "\n",
    "model = HierarchicalTransformer(\n",
    "    num_joints=33,\n",
    "    num_frames=331,\n",
    "    d_model=128,\n",
    "    nhead=8,\n",
    "    num_spatial_layers=1,\n",
    "    num_temporal_layers=1,\n",
    "    num_classes=2\n",
    ")\n",
    "model.load_state_dict(torch.load(\"hierarchical_transformer_weights_2025-05-30.pth\"))"
   ]
  },
  {
   "cell_type": "code",
   "execution_count": 18,
   "metadata": {},
   "outputs": [
    {
     "name": "stdout",
     "output_type": "stream",
     "text": [
      "Processing data/raw/deadlifts/deadlift_42_rep_1.mp4: 360x430, 183 frames\n",
      "Extracted and normalized 182 frames from data/raw/deadlifts/deadlift_42_rep_1.mp4\n"
     ]
    },
    {
     "data": {
      "text/plain": [
       "(331, 33, 3)"
      ]
     },
     "execution_count": 18,
     "metadata": {},
     "output_type": "execute_result"
    }
   ],
   "source": [
    "video = load_and_extract('data/raw/deadlifts/deadlift_42_rep_1.mp4')\n",
    "x_sample = video[:, :, :3]\n",
    "x_sample.shape"
   ]
  },
  {
   "cell_type": "code",
   "execution_count": 20,
   "metadata": {},
   "outputs": [
    {
     "data": {
      "text/plain": [
       "torch.Size([1, 331, 33, 3])"
      ]
     },
     "execution_count": 20,
     "metadata": {},
     "output_type": "execute_result"
    }
   ],
   "source": [
    "# inference\n",
    "x_tensor = torch.tensor(x_sample, dtype=torch.float32).unsqueeze(0)\n",
    "x_tensor.shape"
   ]
  },
  {
   "cell_type": "code",
   "execution_count": 21,
   "metadata": {},
   "outputs": [
    {
     "name": "stdout",
     "output_type": "stream",
     "text": [
      "Predicted class: 1\n"
     ]
    }
   ],
   "source": [
    "model.eval()\n",
    "with torch.no_grad():\n",
    "    logits = model(x_tensor)\n",
    "    predicted_class = torch.argmax(logits, dim=1).item()\n",
    "\n",
    "# Squats: 0 , Deadlifts: 1\n",
    "print(\"Predicted class:\", predicted_class)"
   ]
  },
  {
   "cell_type": "code",
   "execution_count": 23,
   "metadata": {},
   "outputs": [
    {
     "ename": "RuntimeError",
     "evalue": "Error(s) in loading state_dict for HierarchicalTransformer:\n\tUnexpected key(s) in state_dict: \"spatial_encoder.transformer.layers.1.self_attn.in_proj_weight\", \"spatial_encoder.transformer.layers.1.self_attn.in_proj_bias\", \"spatial_encoder.transformer.layers.1.self_attn.out_proj.weight\", \"spatial_encoder.transformer.layers.1.self_attn.out_proj.bias\", \"spatial_encoder.transformer.layers.1.linear1.weight\", \"spatial_encoder.transformer.layers.1.linear1.bias\", \"spatial_encoder.transformer.layers.1.linear2.weight\", \"spatial_encoder.transformer.layers.1.linear2.bias\", \"spatial_encoder.transformer.layers.1.norm1.weight\", \"spatial_encoder.transformer.layers.1.norm1.bias\", \"spatial_encoder.transformer.layers.1.norm2.weight\", \"spatial_encoder.transformer.layers.1.norm2.bias\", \"temporal_encoder.transformer.layers.1.self_attn.in_proj_weight\", \"temporal_encoder.transformer.layers.1.self_attn.in_proj_bias\", \"temporal_encoder.transformer.layers.1.self_attn.out_proj.weight\", \"temporal_encoder.transformer.layers.1.self_attn.out_proj.bias\", \"temporal_encoder.transformer.layers.1.linear1.weight\", \"temporal_encoder.transformer.layers.1.linear1.bias\", \"temporal_encoder.transformer.layers.1.linear2.weight\", \"temporal_encoder.transformer.layers.1.linear2.bias\", \"temporal_encoder.transformer.layers.1.norm1.weight\", \"temporal_encoder.transformer.layers.1.norm1.bias\", \"temporal_encoder.transformer.layers.1.norm2.weight\", \"temporal_encoder.transformer.layers.1.norm2.bias\". ",
     "output_type": "error",
     "traceback": [
      "\u001b[31m---------------------------------------------------------------------------\u001b[39m",
      "\u001b[31mRuntimeError\u001b[39m                              Traceback (most recent call last)",
      "\u001b[36mCell\u001b[39m\u001b[36m \u001b[39m\u001b[32mIn[23]\u001b[39m\u001b[32m, line 10\u001b[39m\n\u001b[32m      1\u001b[39m oldmodel = HierarchicalTransformer(\n\u001b[32m      2\u001b[39m     num_joints=\u001b[32m33\u001b[39m,\n\u001b[32m      3\u001b[39m     num_frames=\u001b[32m331\u001b[39m,\n\u001b[32m   (...)\u001b[39m\u001b[32m      8\u001b[39m     num_classes=\u001b[32m2\u001b[39m\n\u001b[32m      9\u001b[39m )\n\u001b[32m---> \u001b[39m\u001b[32m10\u001b[39m \u001b[43mmodel\u001b[49m\u001b[43m.\u001b[49m\u001b[43mload_state_dict\u001b[49m\u001b[43m(\u001b[49m\u001b[43mtorch\u001b[49m\u001b[43m.\u001b[49m\u001b[43mload\u001b[49m\u001b[43m(\u001b[49m\u001b[33;43m\"\u001b[39;49m\u001b[33;43mhierarchical_transformer_weights.pth\u001b[39;49m\u001b[33;43m\"\u001b[39;49m\u001b[43m)\u001b[49m\u001b[43m)\u001b[49m\n",
      "\u001b[36mFile \u001b[39m\u001b[32md:\\Thesis\\thesis\\Lib\\site-packages\\torch\\nn\\modules\\module.py:2593\u001b[39m, in \u001b[36mModule.load_state_dict\u001b[39m\u001b[34m(self, state_dict, strict, assign)\u001b[39m\n\u001b[32m   2585\u001b[39m         error_msgs.insert(\n\u001b[32m   2586\u001b[39m             \u001b[32m0\u001b[39m,\n\u001b[32m   2587\u001b[39m             \u001b[33m\"\u001b[39m\u001b[33mMissing key(s) in state_dict: \u001b[39m\u001b[38;5;132;01m{}\u001b[39;00m\u001b[33m. \u001b[39m\u001b[33m\"\u001b[39m.format(\n\u001b[32m   2588\u001b[39m                 \u001b[33m\"\u001b[39m\u001b[33m, \u001b[39m\u001b[33m\"\u001b[39m.join(\u001b[33mf\u001b[39m\u001b[33m'\u001b[39m\u001b[33m\"\u001b[39m\u001b[38;5;132;01m{\u001b[39;00mk\u001b[38;5;132;01m}\u001b[39;00m\u001b[33m\"\u001b[39m\u001b[33m'\u001b[39m \u001b[38;5;28;01mfor\u001b[39;00m k \u001b[38;5;129;01min\u001b[39;00m missing_keys)\n\u001b[32m   2589\u001b[39m             ),\n\u001b[32m   2590\u001b[39m         )\n\u001b[32m   2592\u001b[39m \u001b[38;5;28;01mif\u001b[39;00m \u001b[38;5;28mlen\u001b[39m(error_msgs) > \u001b[32m0\u001b[39m:\n\u001b[32m-> \u001b[39m\u001b[32m2593\u001b[39m     \u001b[38;5;28;01mraise\u001b[39;00m \u001b[38;5;167;01mRuntimeError\u001b[39;00m(\n\u001b[32m   2594\u001b[39m         \u001b[33m\"\u001b[39m\u001b[33mError(s) in loading state_dict for \u001b[39m\u001b[38;5;132;01m{}\u001b[39;00m\u001b[33m:\u001b[39m\u001b[38;5;130;01m\\n\u001b[39;00m\u001b[38;5;130;01m\\t\u001b[39;00m\u001b[38;5;132;01m{}\u001b[39;00m\u001b[33m\"\u001b[39m.format(\n\u001b[32m   2595\u001b[39m             \u001b[38;5;28mself\u001b[39m.\u001b[34m__class__\u001b[39m.\u001b[34m__name__\u001b[39m, \u001b[33m\"\u001b[39m\u001b[38;5;130;01m\\n\u001b[39;00m\u001b[38;5;130;01m\\t\u001b[39;00m\u001b[33m\"\u001b[39m.join(error_msgs)\n\u001b[32m   2596\u001b[39m         )\n\u001b[32m   2597\u001b[39m     )\n\u001b[32m   2598\u001b[39m \u001b[38;5;28;01mreturn\u001b[39;00m _IncompatibleKeys(missing_keys, unexpected_keys)\n",
      "\u001b[31mRuntimeError\u001b[39m: Error(s) in loading state_dict for HierarchicalTransformer:\n\tUnexpected key(s) in state_dict: \"spatial_encoder.transformer.layers.1.self_attn.in_proj_weight\", \"spatial_encoder.transformer.layers.1.self_attn.in_proj_bias\", \"spatial_encoder.transformer.layers.1.self_attn.out_proj.weight\", \"spatial_encoder.transformer.layers.1.self_attn.out_proj.bias\", \"spatial_encoder.transformer.layers.1.linear1.weight\", \"spatial_encoder.transformer.layers.1.linear1.bias\", \"spatial_encoder.transformer.layers.1.linear2.weight\", \"spatial_encoder.transformer.layers.1.linear2.bias\", \"spatial_encoder.transformer.layers.1.norm1.weight\", \"spatial_encoder.transformer.layers.1.norm1.bias\", \"spatial_encoder.transformer.layers.1.norm2.weight\", \"spatial_encoder.transformer.layers.1.norm2.bias\", \"temporal_encoder.transformer.layers.1.self_attn.in_proj_weight\", \"temporal_encoder.transformer.layers.1.self_attn.in_proj_bias\", \"temporal_encoder.transformer.layers.1.self_attn.out_proj.weight\", \"temporal_encoder.transformer.layers.1.self_attn.out_proj.bias\", \"temporal_encoder.transformer.layers.1.linear1.weight\", \"temporal_encoder.transformer.layers.1.linear1.bias\", \"temporal_encoder.transformer.layers.1.linear2.weight\", \"temporal_encoder.transformer.layers.1.linear2.bias\", \"temporal_encoder.transformer.layers.1.norm1.weight\", \"temporal_encoder.transformer.layers.1.norm1.bias\", \"temporal_encoder.transformer.layers.1.norm2.weight\", \"temporal_encoder.transformer.layers.1.norm2.bias\". "
     ]
    }
   ],
   "source": [
    "oldmodel = HierarchicalTransformer(\n",
    "    num_joints=33,\n",
    "    num_frames=331,\n",
    "    d_model=128,\n",
    "    nhead=8,\n",
    "    num_spatial_layers=2,\n",
    "    num_temporal_layers=2,\n",
    "    num_classes=2\n",
    ")\n",
    "model.load_state_dict(torch.load(\"hierarchical_transformer_weights.pth\"))"
   ]
  },
  {
   "cell_type": "code",
   "execution_count": 33,
   "metadata": {},
   "outputs": [
    {
     "name": "stdout",
     "output_type": "stream",
     "text": [
      "Predicted class: 1\n"
     ]
    }
   ],
   "source": [
    "oldmodel.eval()\n",
    "with torch.no_grad():\n",
    "    logits = oldmodel(x_tensor)\n",
    "    predicted_class = torch.argmax(logits, dim=1).item()\n",
    "\n",
    "# Squats: 0 , Deadlifts: 1\n",
    "print(\"Predicted class:\", predicted_class)"
   ]
  },
  {
   "cell_type": "code",
   "execution_count": null,
   "metadata": {},
   "outputs": [],
   "source": []
  }
 ],
 "metadata": {
  "kernelspec": {
   "display_name": "thesis",
   "language": "python",
   "name": "python3"
  },
  "language_info": {
   "codemirror_mode": {
    "name": "ipython",
    "version": 3
   },
   "file_extension": ".py",
   "mimetype": "text/x-python",
   "name": "python",
   "nbconvert_exporter": "python",
   "pygments_lexer": "ipython3",
   "version": "3.12.10"
  }
 },
 "nbformat": 4,
 "nbformat_minor": 2
}
