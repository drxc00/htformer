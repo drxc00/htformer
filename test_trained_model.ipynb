{
 "cells": [
  {
   "cell_type": "markdown",
   "metadata": {},
   "source": [
    "# Test the trained prototype model"
   ]
  },
  {
   "cell_type": "code",
   "execution_count": 1,
   "metadata": {},
   "outputs": [],
   "source": [
    "import torch\n",
    "import numpy as np\n",
    "from torch.utils.data import Dataset, DataLoader\n"
   ]
  },
  {
   "cell_type": "markdown",
   "metadata": {},
   "source": [
    "## Create a simple pipeline\n",
    "This will include:\n",
    "- using raw video data.\n",
    "- Processing the raw video data.\n",
    "- Passing the processed video data into the model.\n",
    "- Displaying the results."
   ]
  },
  {
   "cell_type": "code",
   "execution_count": 2,
   "metadata": {},
   "outputs": [],
   "source": [
    "\n",
    "from keypoint_extractor import KeypointExtractor, KeypointExtractorV2"
   ]
  },
  {
   "cell_type": "code",
   "execution_count": 3,
   "metadata": {},
   "outputs": [],
   "source": [
    "def load_and_extract(path: str) -> np.ndarray:\n",
    "    extractor = KeypointExtractorV2(r\"models/mediapipe/pose_landmarker_heavy.task\")\n",
    "    keypoints = extractor.extract(path)\n",
    "    \n",
    "    max_frames = 331\n",
    "    pad_len = max_frames - len(keypoints)\n",
    "    if pad_len > 0:\n",
    "        pad = np.zeros((pad_len, keypoints.shape[1], keypoints.shape[2]))  # Preserve all dimensions\n",
    "        padded_sample = np.concatenate((keypoints, pad), axis=0)\n",
    "    else:\n",
    "        padded_sample = keypoints\n",
    "\n",
    "    return np.array(padded_sample)\n",
    "        "
   ]
  },
  {
   "cell_type": "code",
   "execution_count": 4,
   "metadata": {},
   "outputs": [
    {
     "name": "stderr",
     "output_type": "stream",
     "text": [
      "d:\\Thesis\\thesis\\Lib\\site-packages\\torch\\nn\\modules\\transformer.py:382: UserWarning: enable_nested_tensor is True, but self.use_nested_tensor is False because encoder_layer.self_attn.batch_first was not True(use batch_first for better inference performance)\n",
      "  warnings.warn(\n"
     ]
    },
    {
     "data": {
      "text/plain": [
       "<All keys matched successfully>"
      ]
     },
     "execution_count": 4,
     "metadata": {},
     "output_type": "execute_result"
    }
   ],
   "source": [
    "from hierarchical_transformer_prototype import HierarchicalTransformer\n",
    "\n",
    "model = HierarchicalTransformer(\n",
    "    num_joints=33,\n",
    "    num_frames=331,\n",
    "    d_model=128,\n",
    "    nhead=8,\n",
    "    num_spatial_layers=1,\n",
    "    num_temporal_layers=1,\n",
    "    num_classes=2\n",
    ")\n",
    "model.load_state_dict(torch.load(\"hierarchical_transformer_weights_2025-05-30.pth\"))"
   ]
  },
  {
   "cell_type": "code",
   "execution_count": 29,
   "metadata": {},
   "outputs": [
    {
     "name": "stdout",
     "output_type": "stream",
     "text": [
      "Processing data/unseen/squat_neil_2.mp4: 534x720, 39 frames\n",
      "Extracted and normalized 39 frames from data/unseen/squat_neil_2.mp4\n"
     ]
    },
    {
     "data": {
      "text/plain": [
       "(331, 33, 3)"
      ]
     },
     "execution_count": 29,
     "metadata": {},
     "output_type": "execute_result"
    }
   ],
   "source": [
    "video = load_and_extract('data/unseen/squat_neil_2.mp4')\n",
    "x_sample = video[:, :, :3]\n",
    "x_sample.shape"
   ]
  },
  {
   "cell_type": "code",
   "execution_count": 30,
   "metadata": {},
   "outputs": [
    {
     "data": {
      "text/plain": [
       "torch.Size([1, 331, 33, 3])"
      ]
     },
     "execution_count": 30,
     "metadata": {},
     "output_type": "execute_result"
    }
   ],
   "source": [
    "# inference\n",
    "x_tensor = torch.tensor(x_sample, dtype=torch.float32).unsqueeze(0)\n",
    "x_tensor.shape"
   ]
  },
  {
   "cell_type": "code",
   "execution_count": 31,
   "metadata": {},
   "outputs": [
    {
     "name": "stdout",
     "output_type": "stream",
     "text": [
      "Predicted class: 0\n"
     ]
    }
   ],
   "source": [
    "model.eval()\n",
    "with torch.no_grad():\n",
    "    logits = model(x_tensor)\n",
    "    predicted_class = torch.argmax(logits, dim=1).item()\n",
    "\n",
    "# Squats: 0 , Deadlifts: 1\n",
    "print(\"Predicted class:\", predicted_class)"
   ]
  },
  {
   "cell_type": "code",
   "execution_count": 32,
   "metadata": {},
   "outputs": [
    {
     "data": {
      "text/plain": [
       "<All keys matched successfully>"
      ]
     },
     "execution_count": 32,
     "metadata": {},
     "output_type": "execute_result"
    }
   ],
   "source": [
    "oldmodel = HierarchicalTransformer(\n",
    "    num_joints=33,\n",
    "    num_frames=331,\n",
    "    d_model=128,\n",
    "    nhead=8,\n",
    "    num_spatial_layers=2,\n",
    "    num_temporal_layers=2,\n",
    "    num_classes=2\n",
    ")\n",
    "model.load_state_dict(torch.load(\"hierarchical_transformer_weights.pth\"))"
   ]
  },
  {
   "cell_type": "code",
   "execution_count": 33,
   "metadata": {},
   "outputs": [
    {
     "name": "stdout",
     "output_type": "stream",
     "text": [
      "Predicted class: 1\n"
     ]
    }
   ],
   "source": [
    "oldmodel.eval()\n",
    "with torch.no_grad():\n",
    "    logits = oldmodel(x_tensor)\n",
    "    predicted_class = torch.argmax(logits, dim=1).item()\n",
    "\n",
    "# Squats: 0 , Deadlifts: 1\n",
    "print(\"Predicted class:\", predicted_class)"
   ]
  },
  {
   "cell_type": "code",
   "execution_count": null,
   "metadata": {},
   "outputs": [],
   "source": []
  }
 ],
 "metadata": {
  "kernelspec": {
   "display_name": "thesis",
   "language": "python",
   "name": "python3"
  },
  "language_info": {
   "codemirror_mode": {
    "name": "ipython",
    "version": 3
   },
   "file_extension": ".py",
   "mimetype": "text/x-python",
   "name": "python",
   "nbconvert_exporter": "python",
   "pygments_lexer": "ipython3",
   "version": "3.12.10"
  }
 },
 "nbformat": 4,
 "nbformat_minor": 2
}
