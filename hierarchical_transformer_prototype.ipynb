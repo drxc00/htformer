{
 "cells": [
  {
   "cell_type": "code",
   "execution_count": 7,
   "metadata": {},
   "outputs": [],
   "source": [
    "import numpy as np\n",
    "import torch\n",
    "import torch.nn as nn\n",
    "import math\n"
   ]
  },
  {
   "cell_type": "code",
   "execution_count": 2,
   "metadata": {},
   "outputs": [],
   "source": [
    "class PositionalEncoding(nn.Module):\n",
    "    \"\"\"\n",
    "    Sinusoidal positional encoding as in \"Attention Is All You Need\".\n",
    "    Adds positional information to token embeddings.\n",
    "    \"\"\"\n",
    "    def __init__(self, d_model: int, max_len: int = 5000):\n",
    "        super().__init__()\n",
    "        # Create matrix of shape (max_len, d_model)\n",
    "        pe = torch.zeros(max_len, d_model)\n",
    "        position = torch.arange(0, max_len, dtype=torch.float).unsqueeze(1)\n",
    "        div_term = torch.exp(torch.arange(0, d_model, 2).float() * (-math.log(10000.0) / d_model))\n",
    "        pe[:, 0::2] = torch.sin(position * div_term)\n",
    "        pe[:, 1::2] = torch.cos(position * div_term)\n",
    "        pe = pe.unsqueeze(1)  # shape (max_len, 1, d_model)\n",
    "        self.register_buffer('pe', pe)\n",
    "\n",
    "    def forward(self, x: torch.Tensor) -> torch.Tensor:\n",
    "        \"\"\"\n",
    "        Args:\n",
    "            x: Tensor of shape (seq_len, batch_size, d_model)\n",
    "        Returns:\n",
    "            x + positional encoding: same shape as input\n",
    "        \"\"\"\n",
    "        seq_len = x.size(0)\n",
    "        return x + self.pe[:seq_len]\n"
   ]
  },
  {
   "cell_type": "code",
   "execution_count": 3,
   "metadata": {},
   "outputs": [],
   "source": [
    "class SpatialTransformerEncoder(nn.Module):\n",
    "    \"\"\"\n",
    "    Captures spatial correlations between joints within each frame.\n",
    "    Processes all frames in parallel for efficiency.\n",
    "    \"\"\"\n",
    "    def __init__(\n",
    "        self,\n",
    "        d_model: int,\n",
    "        nhead: int,\n",
    "        num_layers: int,\n",
    "        num_joints: int,\n",
    "        dim_feedforward: int = 2048,\n",
    "        dropout: float = 0.1\n",
    "    ):\n",
    "        super().__init__()\n",
    "        encoder_layer = nn.TransformerEncoderLayer(\n",
    "            d_model=d_model,\n",
    "            nhead=nhead,\n",
    "            dim_feedforward=dim_feedforward,\n",
    "            dropout=dropout\n",
    "        )\n",
    "        self.transformer = nn.TransformerEncoder(encoder_layer, num_layers)\n",
    "        self.pos_encoder = PositionalEncoding(d_model, max_len=num_joints)\n",
    "\n",
    "    def forward(self, x: torch.Tensor) -> torch.Tensor:\n",
    "        \"\"\"\n",
    "        Args:\n",
    "            x: Tensor of shape (batch_size, num_frames, num_joints, d_model)\n",
    "        Returns:\n",
    "            y: Tensor of same shape as input\n",
    "        \"\"\"\n",
    "        b, f, j, d = x.shape\n",
    "        # Combine batch and frame dims: treat each frame as independent sequence\n",
    "        x = x.view(b * f, j, d).transpose(0, 1)  # (seq_len=j, batch=b*f, d_model=d)\n",
    "        x = self.pos_encoder(x)\n",
    "        y = self.transformer(x)  # (j, b*f, d)\n",
    "        y = y.transpose(0, 1).view(b, f, j, d)\n",
    "        return y\n"
   ]
  },
  {
   "cell_type": "code",
   "execution_count": 4,
   "metadata": {},
   "outputs": [],
   "source": [
    "class TemporalTransformerEncoder(nn.Module):\n",
    "    \"\"\"\n",
    "    Models temporal dependencies across frames.\n",
    "    \"\"\"\n",
    "    def __init__(\n",
    "        self,\n",
    "        d_model: int,\n",
    "        nhead: int,\n",
    "        num_layers: int,\n",
    "        num_frames: int,\n",
    "        dim_feedforward: int = 2048,\n",
    "        dropout: float = 0.1\n",
    "    ):\n",
    "        super().__init__()\n",
    "        encoder_layer = nn.TransformerEncoderLayer(\n",
    "            d_model=d_model,\n",
    "            nhead=nhead,\n",
    "            dim_feedforward=dim_feedforward,\n",
    "            dropout=dropout\n",
    "        )\n",
    "        self.transformer = nn.TransformerEncoder(encoder_layer, num_layers)\n",
    "        self.pos_encoder = PositionalEncoding(d_model, max_len=num_frames)\n",
    "\n",
    "    def forward(self, x: torch.Tensor) -> torch.Tensor:\n",
    "        \"\"\"\n",
    "        Args:\n",
    "            x: Tensor of shape (batch_size, num_frames, d_model)\n",
    "        Returns:\n",
    "            y: Tensor of same shape as input\n",
    "        \"\"\"\n",
    "        # Transformer expects (seq_len, batch_size, d_model)\n",
    "        x = x.transpose(0, 1)  # (num_frames, batch, d_model)\n",
    "        x = self.pos_encoder(x)\n",
    "        y = self.transformer(x)\n",
    "        y = y.transpose(0, 1)  # (batch, num_frames, d_model)\n",
    "        return y"
   ]
  },
  {
   "cell_type": "code",
   "execution_count": 5,
   "metadata": {},
   "outputs": [],
   "source": [
    "class HierarchicalTransformer(nn.Module):\n",
    "    \"\"\"\n",
    "    Hierarchical Transformer combining spatial and temporal encoders for exercise recognition.\n",
    "    Input: X of shape (batch_size, num_frames, num_joints, 3)\n",
    "    Output: logits over exercise classes\n",
    "    \"\"\"\n",
    "    def __init__(\n",
    "        self,\n",
    "        num_joints: int,\n",
    "        num_frames: int,\n",
    "        d_model: int,\n",
    "        nhead: int,\n",
    "        num_spatial_layers: int,\n",
    "        num_temporal_layers: int,\n",
    "        num_classes: int,\n",
    "        dim_feedforward: int = 2048,\n",
    "        dropout: float = 0.1\n",
    "    ):\n",
    "        super().__init__()\n",
    "        # Embed 3D coordinates into d_model dims\n",
    "        self.embedding = nn.Linear(3, d_model)\n",
    "\n",
    "        # Spatial transformer to capture joint correlations per frame\n",
    "        self.spatial_encoder = SpatialTransformerEncoder(\n",
    "            d_model=d_model,\n",
    "            nhead=nhead,\n",
    "            num_layers=num_spatial_layers,\n",
    "            num_joints=num_joints,\n",
    "            dim_feedforward=dim_feedforward,\n",
    "            dropout=dropout,\n",
    "        )\n",
    "\n",
    "        # Temporal transformer to capture motion across frames\n",
    "        self.temporal_encoder = TemporalTransformerEncoder(\n",
    "            d_model=d_model,\n",
    "            nhead=nhead,\n",
    "            num_layers=num_temporal_layers,\n",
    "            num_frames=num_frames,\n",
    "            dim_feedforward=dim_feedforward,\n",
    "            dropout=dropout,\n",
    "        )\n",
    "\n",
    "        # Classification head\n",
    "        self.classifier = nn.Linear(d_model, num_classes)\n",
    "\n",
    "    def forward(self, x: torch.Tensor) -> torch.Tensor:\n",
    "        \"\"\"\n",
    "        Args:\n",
    "            x: Tensor of shape (batch_size, num_frames, num_joints, 3)\n",
    "        Returns:\n",
    "            logits: Tensor of shape (batch_size, num_classes)\n",
    "        \"\"\"\n",
    "        # Embed coordinates\n",
    "        x = self.embedding(x)  # (batch, F, J, d_model)\n",
    "\n",
    "        # Spatial encoding\n",
    "        x = self.spatial_encoder(x)  # (batch, F, J, d_model)\n",
    "\n",
    "        # Aggregate joints per frame (mean pooling)\n",
    "        x = x.mean(dim=2)  # (batch, F, d_model)\n",
    "\n",
    "        # Temporal encoding\n",
    "        x = self.temporal_encoder(x)  # (batch, F, d_model)\n",
    "\n",
    "        # Global pooling across frames\n",
    "        x = x.mean(dim=1)  # (batch, d_model)\n",
    "\n",
    "        # Classification\n",
    "        logits = self.classifier(x)  # (batch, num_classes)\n",
    "        return logits"
   ]
  },
  {
   "cell_type": "code",
   "execution_count": 11,
   "metadata": {},
   "outputs": [],
   "source": [
    "batch_size = 8\n",
    "num_frames = 100\n",
    "num_joints = 33\n",
    "num_classes = 2\n",
    "model = HierarchicalTransformer(\n",
    "    num_joints=num_joints,\n",
    "    num_frames=num_frames,\n",
    "    d_model=128,\n",
    "    nhead=8,\n",
    "    num_spatial_layers=1,\n",
    "    num_temporal_layers=1,\n",
    "    num_classes=num_classes\n",
    ")\n",
    "# Dummy input: batch of sequences of 3D joint coords\n",
    "x = torch.rand(batch_size, num_frames, num_joints, 3)\n"
   ]
  },
  {
   "cell_type": "code",
   "execution_count": 13,
   "metadata": {},
   "outputs": [
    {
     "data": {
      "text/plain": [
       "torch.Size([8, 100, 33, 3])"
      ]
     },
     "execution_count": 13,
     "metadata": {},
     "output_type": "execute_result"
    }
   ],
   "source": [
    "x.shape"
   ]
  },
  {
   "cell_type": "code",
   "execution_count": 14,
   "metadata": {},
   "outputs": [
    {
     "name": "stdout",
     "output_type": "stream",
     "text": [
      "Logits shape: torch.Size([8, 2])\n"
     ]
    }
   ],
   "source": [
    "logits = model(x)\n",
    "print(\"Logits shape:\", logits.shape)  # expected (8, 3)"
   ]
  },
  {
   "cell_type": "code",
   "execution_count": 24,
   "metadata": {},
   "outputs": [
    {
     "name": "stdout",
     "output_type": "stream",
     "text": [
      "(1146, 331, 33, 3) (1146,)\n"
     ]
    }
   ],
   "source": [
    "# Test load\n",
    "data = np.load('data/keypoints/deadlifts_squats.npz')\n",
    "X = data['X'][:, :, :, :3]  # remove visibility => shape: (1146, 331, 33, 3)\n",
    "y = data['y']\n",
    "print(X.shape, y.shape)"
   ]
  },
  {
   "cell_type": "code",
   "execution_count": 34,
   "metadata": {},
   "outputs": [
    {
     "name": "stdout",
     "output_type": "stream",
     "text": [
      "True label: 0, Predicted: 1\n"
     ]
    },
    {
     "name": "stderr",
     "output_type": "stream",
     "text": [
      "C:\\Users\\Neil\\AppData\\Local\\Temp\\ipykernel_4920\\4253251879.py:2: UserWarning: To copy construct from a tensor, it is recommended to use sourceTensor.detach().clone() or sourceTensor.detach().clone().requires_grad_(True), rather than torch.tensor(sourceTensor).\n",
      "  x_sample = torch.tensor(X[1000]).unsqueeze(0).float()  # shape: (1, 331, 33, 3)\n"
     ]
    }
   ],
   "source": [
    "# Assume `model` is already loaded and on the correct device\n",
    "x_sample = torch.tensor(X[1000]).unsqueeze(0).float()  # shape: (1, 331, 33, 3)\n",
    "y_sample = y[0]\n",
    "\n",
    "# Ensure model matches the input shape (e.g., num_frames=331)\n",
    "model = HierarchicalTransformer(\n",
    "    num_joints=33,\n",
    "    num_frames=331,\n",
    "    d_model=128,\n",
    "    nhead=8,\n",
    "    num_spatial_layers=1,\n",
    "    num_temporal_layers=1,\n",
    "    num_classes=len(np.unique(y))\n",
    ")\n",
    "\n",
    "model.eval()\n",
    "with torch.no_grad():\n",
    "    logits = model(x_sample)\n",
    "    pred = torch.argmax(logits, dim=1).item()\n",
    "\n",
    "print(f\"True label: {y_sample}, Predicted: {pred}\")"
   ]
  },
  {
   "cell_type": "code",
   "execution_count": 36,
   "metadata": {},
   "outputs": [],
   "source": [
    "# Training\n",
    "import torch.optim as optim\n",
    "from torch.utils.data import TensorDataset, DataLoader\n",
    "from sklearn.model_selection import train_test_split"
   ]
  },
  {
   "cell_type": "code",
   "execution_count": 37,
   "metadata": {},
   "outputs": [],
   "source": [
    "data = np.load('data/keypoints/deadlifts_squats.npz')\n",
    "X = data['X'][:, :, :, :3]  # drop visibility\n",
    "y = data['y']\n",
    "\n",
    "# Convert to PyTorch tensors\n",
    "X_tensor = torch.tensor(X).float()\n",
    "y_tensor = torch.tensor(y).long()\n",
    "\n",
    "# Split train/test (simple split)\n",
    "from sklearn.model_selection import train_test_split\n",
    "X_train, X_val, y_train, y_val = train_test_split(X_tensor, y_tensor, test_size=0.2, random_state=42)\n",
    "\n",
    "# Create dataloaders\n",
    "train_dataset = TensorDataset(X_train, y_train)\n",
    "val_dataset = TensorDataset(X_val, y_val)\n",
    "train_loader = DataLoader(train_dataset, batch_size=16, shuffle=True)\n",
    "val_loader = DataLoader(val_dataset, batch_size=16)"
   ]
  },
  {
   "cell_type": "code",
   "execution_count": 38,
   "metadata": {},
   "outputs": [
    {
     "name": "stderr",
     "output_type": "stream",
     "text": [
      "d:\\Thesis\\thesis\\Lib\\site-packages\\torch\\nn\\modules\\transformer.py:382: UserWarning: enable_nested_tensor is True, but self.use_nested_tensor is False because encoder_layer.self_attn.batch_first was not True(use batch_first for better inference performance)\n",
      "  warnings.warn(\n"
     ]
    }
   ],
   "source": [
    "device = torch.device(\"cuda\" if torch.cuda.is_available() else \"cpu\")\n",
    "\n",
    "model = HierarchicalTransformer(\n",
    "    num_joints=33,\n",
    "    num_frames=331,\n",
    "    d_model=128,\n",
    "    nhead=8,\n",
    "    num_spatial_layers=1,\n",
    "    num_temporal_layers=1,\n",
    "    num_classes=len(torch.unique(y_tensor))\n",
    ").to(device)\n",
    "\n",
    "criterion = nn.CrossEntropyLoss()\n",
    "optimizer = optim.Adam(model.parameters(), lr=1e-4)"
   ]
  },
  {
   "cell_type": "code",
   "execution_count": 39,
   "metadata": {},
   "outputs": [
    {
     "name": "stdout",
     "output_type": "stream",
     "text": [
      "Epoch 1/10 | Train Loss: 0.6812, Acc: 0.5841 | Val Loss: 0.5110, Acc: 0.9043\n",
      "Epoch 2/10 | Train Loss: 0.2301, Acc: 0.9345 | Val Loss: 0.2265, Acc: 0.9174\n",
      "Epoch 3/10 | Train Loss: 0.1384, Acc: 0.9487 | Val Loss: 0.2068, Acc: 0.9391\n",
      "Epoch 4/10 | Train Loss: 0.1176, Acc: 0.9531 | Val Loss: 0.2206, Acc: 0.9174\n",
      "Epoch 5/10 | Train Loss: 0.1198, Acc: 0.9498 | Val Loss: 0.1913, Acc: 0.9391\n",
      "Epoch 6/10 | Train Loss: 0.0976, Acc: 0.9651 | Val Loss: 0.2661, Acc: 0.9043\n",
      "Epoch 7/10 | Train Loss: 0.0865, Acc: 0.9683 | Val Loss: 0.1993, Acc: 0.9391\n",
      "Epoch 8/10 | Train Loss: 0.0860, Acc: 0.9683 | Val Loss: 0.2831, Acc: 0.9043\n",
      "Epoch 9/10 | Train Loss: 0.0750, Acc: 0.9771 | Val Loss: 0.2265, Acc: 0.9304\n",
      "Epoch 10/10 | Train Loss: 0.0713, Acc: 0.9727 | Val Loss: 0.1894, Acc: 0.9391\n"
     ]
    }
   ],
   "source": [
    "num_epochs = 10\n",
    "\n",
    "for epoch in range(num_epochs):\n",
    "    model.train()\n",
    "    train_loss = 0\n",
    "    correct = 0\n",
    "\n",
    "    for X_batch, y_batch in train_loader:\n",
    "        X_batch = X_batch.to(device)\n",
    "        y_batch = y_batch.to(device)\n",
    "\n",
    "        optimizer.zero_grad()\n",
    "        outputs = model(X_batch)\n",
    "        loss = criterion(outputs, y_batch)\n",
    "        loss.backward()\n",
    "        optimizer.step()\n",
    "\n",
    "        train_loss += loss.item() * X_batch.size(0)\n",
    "        correct += (outputs.argmax(1) == y_batch).sum().item()\n",
    "\n",
    "    train_loss /= len(train_loader.dataset)\n",
    "    train_acc = correct / len(train_loader.dataset)\n",
    "\n",
    "    # Validation\n",
    "    model.eval()\n",
    "    val_loss = 0\n",
    "    val_correct = 0\n",
    "    with torch.no_grad():\n",
    "        for X_batch, y_batch in val_loader:\n",
    "            X_batch = X_batch.to(device)\n",
    "            y_batch = y_batch.to(device)\n",
    "\n",
    "            outputs = model(X_batch)\n",
    "            loss = criterion(outputs, y_batch)\n",
    "\n",
    "            val_loss += loss.item() * X_batch.size(0)\n",
    "            val_correct += (outputs.argmax(1) == y_batch).sum().item()\n",
    "\n",
    "    val_loss /= len(val_loader.dataset)\n",
    "    val_acc = val_correct / len(val_loader.dataset)\n",
    "\n",
    "    print(f\"Epoch {epoch+1}/{num_epochs} | Train Loss: {train_loss:.4f}, Acc: {train_acc:.4f} | Val Loss: {val_loss:.4f}, Acc: {val_acc:.4f}\")"
   ]
  },
  {
   "cell_type": "code",
   "execution_count": 40,
   "metadata": {},
   "outputs": [],
   "source": [
    "# save\n",
    "torch.save(model.state_dict(), 'hierarchical_transformer_weights.pth')"
   ]
  },
  {
   "cell_type": "code",
   "execution_count": null,
   "metadata": {},
   "outputs": [],
   "source": []
  }
 ],
 "metadata": {
  "kernelspec": {
   "display_name": "thesis",
   "language": "python",
   "name": "python3"
  },
  "language_info": {
   "codemirror_mode": {
    "name": "ipython",
    "version": 3
   },
   "file_extension": ".py",
   "mimetype": "text/x-python",
   "name": "python",
   "nbconvert_exporter": "python",
   "pygments_lexer": "ipython3",
   "version": "3.12.10"
  }
 },
 "nbformat": 4,
 "nbformat_minor": 2
}
