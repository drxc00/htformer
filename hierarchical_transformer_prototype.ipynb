{
 "cells": [
  {
   "cell_type": "code",
   "execution_count": 1,
   "metadata": {},
   "outputs": [],
   "source": [
    "import numpy as np\n",
    "import torch\n",
    "import torch.nn as nn\n",
    "import math"
   ]
  },
  {
   "cell_type": "code",
   "execution_count": 2,
   "metadata": {},
   "outputs": [],
   "source": [
    "class PositionalEncoding(nn.Module):\n",
    "    \"\"\"\n",
    "    Sinusoidal positional encoding as in \"Attention Is All You Need\".\n",
    "    Adds positional information to token embeddings.\n",
    "    \"\"\"\n",
    "    def __init__(self, d_model: int, max_len: int = 5000):\n",
    "        super().__init__()\n",
    "        # Create matrix of shape (max_len, d_model)\n",
    "        pe = torch.zeros(max_len, d_model)\n",
    "        position = torch.arange(0, max_len, dtype=torch.float).unsqueeze(1)\n",
    "        div_term = torch.exp(torch.arange(0, d_model, 2).float() * (-math.log(10000.0) / d_model))\n",
    "        pe[:, 0::2] = torch.sin(position * div_term)\n",
    "        pe[:, 1::2] = torch.cos(position * div_term)\n",
    "        pe = pe.unsqueeze(1)  # shape (max_len, 1, d_model)\n",
    "        self.register_buffer('pe', pe)\n",
    "\n",
    "    def forward(self, x: torch.Tensor) -> torch.Tensor:\n",
    "        \"\"\"\n",
    "        Args:\n",
    "            x: Tensor of shape (seq_len, batch_size, d_model)\n",
    "        Returns:\n",
    "            x + positional encoding: same shape as input\n",
    "        \"\"\"\n",
    "        seq_len = x.size(0)\n",
    "        return x + self.pe[:seq_len]\n"
   ]
  },
  {
   "cell_type": "code",
   "execution_count": 3,
   "metadata": {},
   "outputs": [],
   "source": [
    "class SpatialTransformerEncoder(nn.Module):\n",
    "    \"\"\"\n",
    "    Captures spatial correlations between joints within each frame.\n",
    "    Processes all frames in parallel for efficiency.\n",
    "    \"\"\"\n",
    "    def __init__(\n",
    "        self,\n",
    "        d_model: int,\n",
    "        nhead: int,\n",
    "        num_layers: int,\n",
    "        num_joints: int,\n",
    "        dim_feedforward: int = 2048,\n",
    "        dropout: float = 0.1\n",
    "    ):\n",
    "        super().__init__()\n",
    "        encoder_layer = nn.TransformerEncoderLayer(\n",
    "            d_model=d_model,\n",
    "            nhead=nhead,\n",
    "            dim_feedforward=dim_feedforward,\n",
    "            dropout=dropout,\n",
    "            batch_first=True\n",
    "        )\n",
    "        self.transformer = nn.TransformerEncoder(encoder_layer, num_layers)\n",
    "        self.pos_encoder = PositionalEncoding(d_model, max_len=num_joints)\n",
    "\n",
    "    def forward(self, x: torch.Tensor) -> torch.Tensor:\n",
    "        \"\"\"\n",
    "        input x: Tensor of shape (batch_size, num_frames, num_joints, d_model)\n",
    "        ouput y: same size\n",
    "        \"\"\"\n",
    "        b, f, j, d = x.shape\n",
    "        # Combine batch and frame dims: treat each frame as independent sequence\n",
    "        x = x.view(b * f, j, d).transpose(0, 1)  # (seq_len=j, batch=b*f, d_model=d)\n",
    "        x = self.pos_encoder(x)\n",
    "        y = self.transformer(x)  # (j, b*f, d)\n",
    "        y = y.transpose(0, 1).view(b, f, j, d)\n",
    "        return y\n"
   ]
  },
  {
   "cell_type": "code",
   "execution_count": 4,
   "metadata": {},
   "outputs": [],
   "source": [
    "class TemporalTransformerEncoder(nn.Module):\n",
    "    \"\"\"\n",
    "    Models temporal dependencies across frames.\n",
    "    \"\"\"\n",
    "    def __init__(\n",
    "        self,\n",
    "        d_model: int,\n",
    "        nhead: int,\n",
    "        num_layers: int,\n",
    "        num_frames: int,\n",
    "        dim_feedforward: int = 2048,\n",
    "        dropout: float = 0.1\n",
    "    ):\n",
    "        super().__init__()\n",
    "        encoder_layer = nn.TransformerEncoderLayer(\n",
    "            d_model=d_model,\n",
    "            nhead=nhead,\n",
    "            dim_feedforward=dim_feedforward,\n",
    "            dropout=dropout,\n",
    "            batch_first=True\n",
    "        )\n",
    "        self.transformer = nn.TransformerEncoder(encoder_layer, num_layers)\n",
    "        self.pos_encoder = PositionalEncoding(d_model, max_len=num_frames)\n",
    "\n",
    "    def forward(self, x: torch.Tensor) -> torch.Tensor:\n",
    "        \"\"\"\n",
    "        input x: Tensor of shape (batch_size, num_frames, num_joints, d_model)\n",
    "        ouput y: same size\n",
    "        \"\"\"\n",
    "        # Transformer expects (seq_len, batch_size, d_model)\n",
    "        x = x.transpose(0, 1)  # (num_frames, batch, d_model)\n",
    "        x = self.pos_encoder(x)\n",
    "        y = self.transformer(x)\n",
    "        y = y.transpose(0, 1)  # (batch, num_frames, d_model)\n",
    "        return y"
   ]
  },
  {
   "cell_type": "code",
   "execution_count": 5,
   "metadata": {},
   "outputs": [],
   "source": [
    "class HierarchicalTransformer(nn.Module):\n",
    "    \"\"\"\n",
    "    Hierarchical Transformer combining spatial and temporal encoders for exercise recognition.\n",
    "    Input: X of shape (batch_size, num_frames, num_joints, 3)\n",
    "    Output: logits over exercise classes\n",
    "    \"\"\"\n",
    "    def __init__(\n",
    "        self,\n",
    "        num_joints: int,\n",
    "        num_frames: int,\n",
    "        d_model: int,\n",
    "        nhead: int,\n",
    "        num_spatial_layers: int,\n",
    "        num_temporal_layers: int,\n",
    "        num_classes: int,\n",
    "        dim_feedforward: int = 2048,\n",
    "        dropout: float = 0.1\n",
    "    ):\n",
    "        super().__init__()\n",
    "        # Embed 3D coordinates into d_model dims\n",
    "        self.embedding = nn.Linear(3, d_model)\n",
    "\n",
    "        # Spatial transformer to capture joint correlations per frame\n",
    "        self.spatial_encoder = SpatialTransformerEncoder(\n",
    "            d_model=d_model,\n",
    "            nhead=nhead,\n",
    "            num_layers=num_spatial_layers,\n",
    "            num_joints=num_joints,\n",
    "            dim_feedforward=dim_feedforward,\n",
    "            dropout=dropout,\n",
    "        )\n",
    "\n",
    "        # Temporal transformer to capture motion across frames\n",
    "        self.temporal_encoder = TemporalTransformerEncoder(\n",
    "            d_model=d_model,\n",
    "            nhead=nhead,\n",
    "            num_layers=num_temporal_layers,\n",
    "            num_frames=num_frames,\n",
    "            dim_feedforward=dim_feedforward,\n",
    "            dropout=dropout,\n",
    "        )\n",
    "\n",
    "        # Classification head\n",
    "        self.classifier = nn.Linear(d_model, num_classes)\n",
    "\n",
    "    def forward(self, x: torch.Tensor) -> torch.Tensor:\n",
    "        \"\"\"\n",
    "        input x: Tensor of shape (batch_size, num_frames, num_joints, 3)\n",
    "        output logits: Tensor of shape (batch_size, num_classes)\n",
    "        \"\"\"\n",
    "        # Embed coordinates\n",
    "        x = self.embedding(x)  # (batch, F, J, d_model)\n",
    "\n",
    "        # Spatial encoding\n",
    "        x = self.spatial_encoder(x)  # (batch, F, J, d_model)\n",
    "\n",
    "        # Aggregate joints per frame (mean pooling)\n",
    "        x = x.mean(dim=2)  # (batch, F, d_model)\n",
    "\n",
    "        # Temporal encoding\n",
    "        x = self.temporal_encoder(x)  # (batch, F, d_model)\n",
    "\n",
    "        # Global pooling across frames\n",
    "        x = x.mean(dim=1)  # (batch, d_model)\n",
    "\n",
    "        # Classification\n",
    "        logits = self.classifier(x)  # (batch, num_classes)\n",
    "        return logits"
   ]
  },
  {
   "cell_type": "code",
   "execution_count": 6,
   "metadata": {},
   "outputs": [
    {
     "name": "stdout",
     "output_type": "stream",
     "text": [
      "(1962, 331, 33, 3) (1962,)\n"
     ]
    }
   ],
   "source": [
    "# Load data\n",
    "data = np.load('data/keypoints/deadlifts_squats_shoulder_press_2025-06-01.npz')\n",
    "X = data['X'][:, :, :, :3] \n",
    "y = data['y']\n",
    "print(X.shape, y.shape)"
   ]
  },
  {
   "cell_type": "markdown",
   "metadata": {},
   "source": [
    "## Training the model"
   ]
  },
  {
   "cell_type": "code",
   "execution_count": 7,
   "metadata": {},
   "outputs": [],
   "source": [
    "# Training\n",
    "import torch.optim as optim\n",
    "from torch.utils.data import TensorDataset, DataLoader\n",
    "from sklearn.model_selection import train_test_split"
   ]
  },
  {
   "cell_type": "code",
   "execution_count": 8,
   "metadata": {},
   "outputs": [],
   "source": [
    "data = np.load('data/keypoints/deadlifts_squats_shoulder_press_2025-06-01.npz')\n",
    "X = data['X'][:, :, :, :3]  # drop visibility\n",
    "y = data['y']\n",
    "\n",
    "# Convert to PyTorch tensors\n",
    "X_tensor = torch.tensor(X).float()\n",
    "y_tensor = torch.tensor(y).long()\n",
    "\n",
    "\n",
    "X_temp, X_test, y_temp, y_test = train_test_split(X_tensor, y_tensor, test_size=0.1, random_state=42)\n",
    "\n",
    "val_ratio = 0.1 / 0.9  # ≈ 0.1111 of remaining\n",
    "X_train, X_val, y_train, y_val = train_test_split(X_temp, y_temp, test_size=val_ratio, random_state=42)\n",
    "\n",
    "# Create dataloaders\n",
    "train_dataset = TensorDataset(X_train, y_train)\n",
    "val_dataset = TensorDataset(X_val, y_val)\n",
    "test_dataset = TensorDataset(X_test, y_test)\n",
    "\n",
    "\n",
    "train_loader = DataLoader(train_dataset, batch_size=32, shuffle=True)\n",
    "val_loader = DataLoader(val_dataset, batch_size=32)\n",
    "test_loader = DataLoader(test_dataset, batch_size=32)"
   ]
  },
  {
   "cell_type": "code",
   "execution_count": 9,
   "metadata": {},
   "outputs": [
    {
     "data": {
      "text/plain": [
       "tensor([0, 1, 2])"
      ]
     },
     "execution_count": 9,
     "metadata": {},
     "output_type": "execute_result"
    }
   ],
   "source": [
    "torch.unique(y_tensor)"
   ]
  },
  {
   "cell_type": "code",
   "execution_count": 10,
   "metadata": {},
   "outputs": [],
   "source": [
    "device = torch.device(\"cuda\" if torch.cuda.is_available() else \"cpu\")\n",
    "\n",
    "model = HierarchicalTransformer(\n",
    "    num_joints=33,\n",
    "    num_frames=331,\n",
    "    d_model=64,\n",
    "    dim_feedforward=512,\n",
    "    nhead=4,\n",
    "    num_spatial_layers=1,\n",
    "    num_temporal_layers=1,\n",
    "    num_classes=len(torch.unique(y_tensor))\n",
    ").to(device)\n",
    "\n",
    "criterion = nn.CrossEntropyLoss()\n",
    "optimizer = optim.Adam(model.parameters(), lr=1e-4)"
   ]
  },
  {
   "cell_type": "code",
   "execution_count": 11,
   "metadata": {},
   "outputs": [
    {
     "name": "stdout",
     "output_type": "stream",
     "text": [
      "Epoch 1/30 | Train Loss: 1.0803, Acc: 0.4177 | Val Loss: 1.0939, Acc: 0.3909\n",
      "Epoch 2/30 | Train Loss: 1.0800, Acc: 0.4177 | Val Loss: 1.0769, Acc: 0.3909\n",
      "Epoch 3/30 | Train Loss: 1.0648, Acc: 0.4503 | Val Loss: 1.0623, Acc: 0.3909\n",
      "Epoch 4/30 | Train Loss: 1.0386, Acc: 0.4566 | Val Loss: 1.0244, Acc: 0.4162\n",
      "Epoch 5/30 | Train Loss: 0.9757, Acc: 0.6231 | Val Loss: 0.9626, Acc: 0.4518\n",
      "Epoch 6/30 | Train Loss: 0.8702, Acc: 0.6665 | Val Loss: 0.8416, Acc: 0.6447\n",
      "Epoch 7/30 | Train Loss: 0.7925, Acc: 0.7251 | Val Loss: 0.7643, Acc: 0.7157\n"
     ]
    },
    {
     "ename": "KeyboardInterrupt",
     "evalue": "",
     "output_type": "error",
     "traceback": [
      "\u001b[31m---------------------------------------------------------------------------\u001b[39m",
      "\u001b[31mKeyboardInterrupt\u001b[39m                         Traceback (most recent call last)",
      "\u001b[36mCell\u001b[39m\u001b[36m \u001b[39m\u001b[32mIn[11]\u001b[39m\u001b[32m, line 18\u001b[39m\n\u001b[32m     15\u001b[39m     loss.backward()\n\u001b[32m     16\u001b[39m     optimizer.step()\n\u001b[32m---> \u001b[39m\u001b[32m18\u001b[39m     train_loss += \u001b[43mloss\u001b[49m\u001b[43m.\u001b[49m\u001b[43mitem\u001b[49m\u001b[43m(\u001b[49m\u001b[43m)\u001b[49m * X_batch.size(\u001b[32m0\u001b[39m)\n\u001b[32m     19\u001b[39m     correct += (outputs.argmax(\u001b[32m1\u001b[39m) == y_batch).sum().item()\n\u001b[32m     21\u001b[39m train_loss /= \u001b[38;5;28mlen\u001b[39m(train_loader.dataset)\n",
      "\u001b[31mKeyboardInterrupt\u001b[39m: "
     ]
    }
   ],
   "source": [
    "num_epochs = 30\n",
    "\n",
    "for epoch in range(num_epochs):\n",
    "    model.train()\n",
    "    train_loss = 0\n",
    "    correct = 0\n",
    "\n",
    "    for X_batch, y_batch in train_loader:\n",
    "        X_batch = X_batch.to(device)\n",
    "        y_batch = y_batch.to(device)\n",
    "\n",
    "        optimizer.zero_grad()\n",
    "        outputs = model(X_batch)\n",
    "        loss = criterion(outputs, y_batch)\n",
    "        loss.backward()\n",
    "        optimizer.step()\n",
    "\n",
    "        train_loss += loss.item() * X_batch.size(0)\n",
    "        correct += (outputs.argmax(1) == y_batch).sum().item()\n",
    "\n",
    "    train_loss /= len(train_loader.dataset)\n",
    "    train_acc = correct / len(train_loader.dataset)\n",
    "\n",
    "    # Validation\n",
    "    model.eval()\n",
    "    val_loss = 0\n",
    "    val_correct = 0\n",
    "    with torch.no_grad():\n",
    "        for X_batch, y_batch in val_loader:\n",
    "            X_batch = X_batch.to(device)\n",
    "            y_batch = y_batch.to(device)\n",
    "\n",
    "            outputs = model(X_batch)\n",
    "            loss = criterion(outputs, y_batch)\n",
    "\n",
    "            val_loss += loss.item() * X_batch.size(0)\n",
    "            val_correct += (outputs.argmax(1) == y_batch).sum().item()\n",
    "\n",
    "    val_loss /= len(val_loader.dataset)\n",
    "    val_acc = val_correct / len(val_loader.dataset)\n",
    "\n",
    "    print(f\"Epoch {epoch+1}/{num_epochs} | Train Loss: {train_loss:.4f}, Acc: {train_acc:.4f} | Val Loss: {val_loss:.4f}, Acc: {val_acc:.4f}\")"
   ]
  },
  {
   "cell_type": "code",
   "execution_count": null,
   "metadata": {},
   "outputs": [],
   "source": [
    "# save\n",
    "torch.save(model.state_dict(), 'hierarchical_transformer_weights_2025-06-02_small_2.pth')"
   ]
  },
  {
   "cell_type": "code",
   "execution_count": null,
   "metadata": {},
   "outputs": [
    {
     "name": "stdout",
     "output_type": "stream",
     "text": [
      "                precision    recall  f1-score   support\n",
      "\n",
      "        squats       0.89      0.87      0.88        63\n",
      "     deadlifts       0.96      1.00      0.98        50\n",
      "shoulder_press       0.93      0.92      0.92        84\n",
      "\n",
      "      accuracy                           0.92       197\n",
      "     macro avg       0.93      0.93      0.93       197\n",
      "  weighted avg       0.92      0.92      0.92       197\n",
      "\n"
     ]
    }
   ],
   "source": [
    "from sklearn.metrics import classification_report\n",
    "\n",
    "# Switch to eval mode\n",
    "model.eval()\n",
    "\n",
    "# Collect all predictions and true labels\n",
    "all_preds = []\n",
    "all_labels = []\n",
    "\n",
    "with torch.no_grad():\n",
    "    for X_batch, y_batch in test_loader:\n",
    "        X_batch = X_batch.to(device)\n",
    "        y_batch = y_batch.to(device)\n",
    "\n",
    "        outputs = model(X_batch)\n",
    "        preds = outputs.argmax(1)\n",
    "\n",
    "        all_preds.extend(preds.cpu().numpy())\n",
    "        all_labels.extend(y_batch.cpu().numpy())\n",
    "\n",
    "# Generate classification report\n",
    "report = classification_report(all_labels, all_preds, target_names=['squats', 'deadlifts', \"shoulder_press\"])  # replace with your actual class names\n",
    "print(report)"
   ]
  },
  {
   "cell_type": "code",
   "execution_count": null,
   "metadata": {},
   "outputs": [],
   "source": []
  }
 ],
 "metadata": {
  "kernelspec": {
   "display_name": "thesis",
   "language": "python",
   "name": "python3"
  },
  "language_info": {
   "codemirror_mode": {
    "name": "ipython",
    "version": 3
   },
   "file_extension": ".py",
   "mimetype": "text/x-python",
   "name": "python",
   "nbconvert_exporter": "python",
   "pygments_lexer": "ipython3",
   "version": "3.12.10"
  }
 },
 "nbformat": 4,
 "nbformat_minor": 2
}
