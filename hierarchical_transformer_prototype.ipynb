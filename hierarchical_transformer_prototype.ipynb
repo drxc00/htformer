{
 "cells": [
  {
   "cell_type": "code",
   "execution_count": 1,
   "metadata": {},
   "outputs": [],
   "source": [
    "import numpy as np\n",
    "import torch\n",
    "import torch.nn as nn\n",
    "import math"
   ]
  },
  {
   "cell_type": "code",
   "execution_count": 2,
   "metadata": {},
   "outputs": [],
   "source": [
    "class PositionalEncoding(nn.Module):\n",
    "    \"\"\"\n",
    "    Sinusoidal positional encoding as in \"Attention Is All You Need\".\n",
    "    Adds positional information to token embeddings.\n",
    "    \"\"\"\n",
    "    def __init__(self, d_model: int, max_len: int = 5000):\n",
    "        super().__init__()\n",
    "        # Create matrix of shape (max_len, d_model)\n",
    "        pe = torch.zeros(max_len, d_model)\n",
    "        position = torch.arange(0, max_len, dtype=torch.float).unsqueeze(1)\n",
    "        div_term = torch.exp(torch.arange(0, d_model, 2).float() * (-math.log(10000.0) / d_model))\n",
    "        pe[:, 0::2] = torch.sin(position * div_term)\n",
    "        pe[:, 1::2] = torch.cos(position * div_term)\n",
    "        pe = pe.unsqueeze(1)  # shape (max_len, 1, d_model)\n",
    "        self.register_buffer('pe', pe)\n",
    "\n",
    "    def forward(self, x: torch.Tensor) -> torch.Tensor:\n",
    "        \"\"\"\n",
    "        Args:\n",
    "            x: Tensor of shape (seq_len, batch_size, d_model)\n",
    "        Returns:\n",
    "            x + positional encoding: same shape as input\n",
    "        \"\"\"\n",
    "        seq_len = x.size(0)\n",
    "        return x + self.pe[:seq_len]\n"
   ]
  },
  {
   "cell_type": "code",
   "execution_count": 3,
   "metadata": {},
   "outputs": [],
   "source": [
    "class SpatialTransformerEncoder(nn.Module):\n",
    "    \"\"\"\n",
    "    Captures spatial correlations between joints within each frame.\n",
    "    Processes all frames in parallel for efficiency.\n",
    "    \"\"\"\n",
    "    def __init__(\n",
    "        self,\n",
    "        d_model: int,\n",
    "        nhead: int,\n",
    "        num_layers: int,\n",
    "        num_joints: int,\n",
    "        dim_feedforward: int = 2048,\n",
    "        dropout: float = 0.1\n",
    "    ):\n",
    "        super().__init__()\n",
    "        encoder_layer = nn.TransformerEncoderLayer(\n",
    "            d_model=d_model,\n",
    "            nhead=nhead,\n",
    "            dim_feedforward=dim_feedforward,\n",
    "            dropout=dropout,\n",
    "            batch_first=True\n",
    "        )\n",
    "        self.transformer = nn.TransformerEncoder(encoder_layer, num_layers)\n",
    "        self.pos_encoder = PositionalEncoding(d_model, max_len=num_joints)\n",
    "\n",
    "    def forward(self, x: torch.Tensor) -> torch.Tensor:\n",
    "        \"\"\"\n",
    "        input x: Tensor of shape (batch_size, num_frames, num_joints, d_model)\n",
    "        ouput y: same size\n",
    "        \"\"\"\n",
    "        b, f, j, d = x.shape\n",
    "        # Combine batch and frame dims: treat each frame as independent sequence\n",
    "        x = x.view(b * f, j, d).transpose(0, 1)  # (seq_len=j, batch=b*f, d_model=d)\n",
    "        x = self.pos_encoder(x)\n",
    "        y = self.transformer(x)  # (j, b*f, d)\n",
    "        y = y.transpose(0, 1).view(b, f, j, d)\n",
    "        return y\n"
   ]
  },
  {
   "cell_type": "code",
   "execution_count": 4,
   "metadata": {},
   "outputs": [],
   "source": [
    "class TemporalTransformerEncoder(nn.Module):\n",
    "    \"\"\"\n",
    "    Models temporal dependencies across frames.\n",
    "    \"\"\"\n",
    "    def __init__(\n",
    "        self,\n",
    "        d_model: int,\n",
    "        nhead: int,\n",
    "        num_layers: int,\n",
    "        num_frames: int,\n",
    "        dim_feedforward: int = 2048,\n",
    "        dropout: float = 0.1\n",
    "    ):\n",
    "        super().__init__()\n",
    "        encoder_layer = nn.TransformerEncoderLayer(\n",
    "            d_model=d_model,\n",
    "            nhead=nhead,\n",
    "            dim_feedforward=dim_feedforward,\n",
    "            dropout=dropout,\n",
    "            batch_first=True\n",
    "        )\n",
    "        self.transformer = nn.TransformerEncoder(encoder_layer, num_layers)\n",
    "        self.pos_encoder = PositionalEncoding(d_model, max_len=num_frames)\n",
    "\n",
    "    def forward(self, x: torch.Tensor) -> torch.Tensor:\n",
    "        \"\"\"\n",
    "        input x: Tensor of shape (batch_size, num_frames, num_joints, d_model)\n",
    "        ouput y: same size\n",
    "        \"\"\"\n",
    "        # Transformer expects (seq_len, batch_size, d_model)\n",
    "        x = x.transpose(0, 1)  # (num_frames, batch, d_model)\n",
    "        x = self.pos_encoder(x)\n",
    "        y = self.transformer(x)\n",
    "        y = y.transpose(0, 1)  # (batch, num_frames, d_model)\n",
    "        return y"
   ]
  },
  {
   "cell_type": "code",
   "execution_count": 5,
   "metadata": {},
   "outputs": [],
   "source": [
    "class HierarchicalTransformer(nn.Module):\n",
    "    \"\"\"\n",
    "    Hierarchical Transformer combining spatial and temporal encoders for exercise recognition.\n",
    "    Input: X of shape (batch_size, num_frames, num_joints, 3)\n",
    "    Output: logits over exercise classes\n",
    "    \"\"\"\n",
    "    def __init__(\n",
    "        self,\n",
    "        num_joints: int,\n",
    "        num_frames: int,\n",
    "        d_model: int,\n",
    "        nhead: int,\n",
    "        num_spatial_layers: int,\n",
    "        num_temporal_layers: int,\n",
    "        num_classes: int,\n",
    "        dim_feedforward: int = 2048,\n",
    "        dropout: float = 0.1\n",
    "    ):\n",
    "        super().__init__()\n",
    "        # Embed 3D coordinates into d_model dims\n",
    "        self.embedding = nn.Linear(3, d_model)\n",
    "\n",
    "        # Spatial transformer to capture joint correlations per frame\n",
    "        self.spatial_encoder = SpatialTransformerEncoder(\n",
    "            d_model=d_model,\n",
    "            nhead=nhead,\n",
    "            num_layers=num_spatial_layers,\n",
    "            num_joints=num_joints,\n",
    "            dim_feedforward=dim_feedforward,\n",
    "            dropout=dropout,\n",
    "        )\n",
    "\n",
    "        # Temporal transformer to capture motion across frames\n",
    "        self.temporal_encoder = TemporalTransformerEncoder(\n",
    "            d_model=d_model,\n",
    "            nhead=nhead,\n",
    "            num_layers=num_temporal_layers,\n",
    "            num_frames=num_frames,\n",
    "            dim_feedforward=dim_feedforward,\n",
    "            dropout=dropout,\n",
    "        )\n",
    "\n",
    "        # Classification head\n",
    "        self.classifier = nn.Linear(d_model, num_classes)\n",
    "\n",
    "    def forward(self, x: torch.Tensor) -> torch.Tensor:\n",
    "        \"\"\"\n",
    "        input x: Tensor of shape (batch_size, num_frames, num_joints, 3)\n",
    "        output logits: Tensor of shape (batch_size, num_classes)\n",
    "        \"\"\"\n",
    "        # Embed coordinates\n",
    "        x = self.embedding(x)  # (batch, F, J, d_model)\n",
    "\n",
    "        # Spatial encoding\n",
    "        x = self.spatial_encoder(x)  # (batch, F, J, d_model)\n",
    "\n",
    "        # Aggregate joints per frame (mean pooling)\n",
    "        x = x.mean(dim=2)  # (batch, F, d_model)\n",
    "\n",
    "        # Temporal encoding\n",
    "        x = self.temporal_encoder(x)  # (batch, F, d_model)\n",
    "\n",
    "        # Global pooling across frames\n",
    "        x = x.mean(dim=1)  # (batch, d_model)\n",
    "\n",
    "        # Classification\n",
    "        logits = self.classifier(x)  # (batch, num_classes)\n",
    "        return logits"
   ]
  },
  {
   "cell_type": "code",
   "execution_count": 6,
   "metadata": {},
   "outputs": [
    {
     "name": "stdout",
     "output_type": "stream",
     "text": [
      "(1962, 331, 33, 3) (1962,)\n"
     ]
    }
   ],
   "source": [
    "# Load data\n",
    "data = np.load('data/keypoints/deadlifts_squats_shoulder_press_2025-06-01.npz')\n",
    "X = data['X'][:, :, :, :3] \n",
    "y = data['y']\n",
    "print(X.shape, y.shape)"
   ]
  },
  {
   "cell_type": "markdown",
   "metadata": {},
   "source": [
    "## Training the model"
   ]
  },
  {
   "cell_type": "code",
   "execution_count": 7,
   "metadata": {},
   "outputs": [],
   "source": [
    "# Training\n",
    "import torch.optim as optim\n",
    "from torch.utils.data import TensorDataset, DataLoader\n",
    "from sklearn.model_selection import train_test_split"
   ]
  },
  {
   "cell_type": "code",
   "execution_count": 8,
   "metadata": {},
   "outputs": [],
   "source": [
    "data = np.load('data/keypoints/deadlifts_squats_shoulder_press_2025-06-01.npz')\n",
    "X = data['X'][:, :, :, :3]  # drop visibility\n",
    "y = data['y']\n",
    "\n",
    "# Convert to PyTorch tensors\n",
    "X_tensor = torch.tensor(X).float()\n",
    "y_tensor = torch.tensor(y).long()\n",
    "\n",
    "\n",
    "X_temp, X_test, y_temp, y_test = train_test_split(X_tensor, y_tensor, test_size=0.1, random_state=42)\n",
    "\n",
    "val_ratio = 0.1 / 0.9  # ≈ 0.1111 of remaining\n",
    "X_train, X_val, y_train, y_val = train_test_split(X_temp, y_temp, test_size=val_ratio, random_state=42)\n",
    "\n",
    "# Create dataloaders\n",
    "train_dataset = TensorDataset(X_train, y_train)\n",
    "val_dataset = TensorDataset(X_val, y_val)\n",
    "test_dataset = TensorDataset(X_test, y_test)\n",
    "\n",
    "\n",
    "train_loader = DataLoader(train_dataset, batch_size=16, shuffle=True)\n",
    "val_loader = DataLoader(val_dataset, batch_size=16)\n",
    "test_loader = DataLoader(test_dataset, batch_size=16)"
   ]
  },
  {
   "cell_type": "code",
   "execution_count": 9,
   "metadata": {},
   "outputs": [
    {
     "data": {
      "text/plain": [
       "tensor([0, 1, 2])"
      ]
     },
     "execution_count": 9,
     "metadata": {},
     "output_type": "execute_result"
    }
   ],
   "source": [
    "torch.unique(y_tensor)"
   ]
  },
  {
   "cell_type": "code",
   "execution_count": 10,
   "metadata": {},
   "outputs": [],
   "source": [
    "device = torch.device(\"cuda\" if torch.cuda.is_available() else \"cpu\")\n",
    "\n",
    "model = HierarchicalTransformer(\n",
    "    num_joints=33,\n",
    "    num_frames=331,\n",
    "    d_model=64,\n",
    "    dim_feedforward=512,\n",
    "    nhead=4,\n",
    "    num_spatial_layers=1,\n",
    "    num_temporal_layers=1,\n",
    "    num_classes=len(torch.unique(y_tensor))\n",
    ").to(device)\n",
    "\n",
    "criterion = nn.CrossEntropyLoss()\n",
    "optimizer = optim.Adam(model.parameters(), lr=1e-4)"
   ]
  },
  {
   "cell_type": "code",
   "execution_count": 11,
   "metadata": {},
   "outputs": [
    {
     "name": "stdout",
     "output_type": "stream",
     "text": [
      "Epoch 1/30 | Train Loss: 1.0866, Acc: 0.4088 | Val Loss: 1.0816, Acc: 0.3909\n",
      "Epoch 2/30 | Train Loss: 1.0651, Acc: 0.4158 | Val Loss: 1.0652, Acc: 0.3452\n",
      "Epoch 3/30 | Train Loss: 1.0048, Acc: 0.4828 | Val Loss: 0.9879, Acc: 0.5635\n",
      "Epoch 4/30 | Train Loss: 0.8734, Acc: 0.6703 | Val Loss: 0.8127, Acc: 0.6497\n",
      "Epoch 5/30 | Train Loss: 0.7552, Acc: 0.7526 | Val Loss: 0.7210, Acc: 0.7310\n",
      "Epoch 6/30 | Train Loss: 0.6922, Acc: 0.7768 | Val Loss: 0.7016, Acc: 0.7208\n",
      "Epoch 7/30 | Train Loss: 0.6409, Acc: 0.7997 | Val Loss: 0.6618, Acc: 0.7107\n",
      "Epoch 8/30 | Train Loss: 0.5963, Acc: 0.8125 | Val Loss: 0.5745, Acc: 0.8274\n",
      "Epoch 9/30 | Train Loss: 0.5414, Acc: 0.8450 | Val Loss: 0.5460, Acc: 0.8122\n",
      "Epoch 10/30 | Train Loss: 0.5099, Acc: 0.8661 | Val Loss: 0.5309, Acc: 0.8426\n",
      "Epoch 11/30 | Train Loss: 0.4793, Acc: 0.8693 | Val Loss: 0.4996, Acc: 0.8020\n",
      "Epoch 12/30 | Train Loss: 0.4481, Acc: 0.8846 | Val Loss: 0.4641, Acc: 0.8477\n",
      "Epoch 13/30 | Train Loss: 0.4215, Acc: 0.8992 | Val Loss: 0.4283, Acc: 0.8680\n",
      "Epoch 14/30 | Train Loss: 0.3954, Acc: 0.8980 | Val Loss: 0.4112, Acc: 0.8782\n",
      "Epoch 15/30 | Train Loss: 0.3734, Acc: 0.9005 | Val Loss: 0.3781, Acc: 0.8731\n",
      "Epoch 16/30 | Train Loss: 0.3523, Acc: 0.9196 | Val Loss: 0.3719, Acc: 0.8832\n",
      "Epoch 17/30 | Train Loss: 0.3329, Acc: 0.9203 | Val Loss: 0.3973, Acc: 0.8782\n",
      "Epoch 18/30 | Train Loss: 0.3148, Acc: 0.9267 | Val Loss: 0.3267, Acc: 0.8883\n",
      "Epoch 19/30 | Train Loss: 0.2998, Acc: 0.9286 | Val Loss: 0.3499, Acc: 0.8680\n",
      "Epoch 20/30 | Train Loss: 0.3013, Acc: 0.9158 | Val Loss: 0.3933, Acc: 0.8579\n",
      "Epoch 21/30 | Train Loss: 0.2860, Acc: 0.9196 | Val Loss: 0.3130, Acc: 0.8782\n",
      "Epoch 22/30 | Train Loss: 0.2685, Acc: 0.9286 | Val Loss: 0.2737, Acc: 0.9086\n",
      "Epoch 23/30 | Train Loss: 0.2560, Acc: 0.9369 | Val Loss: 0.3052, Acc: 0.8832\n",
      "Epoch 24/30 | Train Loss: 0.2462, Acc: 0.9330 | Val Loss: 0.2724, Acc: 0.9086\n",
      "Epoch 25/30 | Train Loss: 0.2438, Acc: 0.9292 | Val Loss: 0.2676, Acc: 0.8883\n",
      "Epoch 26/30 | Train Loss: 0.2293, Acc: 0.9381 | Val Loss: 0.3239, Acc: 0.8680\n",
      "Epoch 27/30 | Train Loss: 0.2244, Acc: 0.9388 | Val Loss: 0.2521, Acc: 0.8832\n",
      "Epoch 28/30 | Train Loss: 0.2129, Acc: 0.9445 | Val Loss: 0.2577, Acc: 0.8934\n",
      "Epoch 29/30 | Train Loss: 0.2074, Acc: 0.9471 | Val Loss: 0.2551, Acc: 0.8883\n",
      "Epoch 30/30 | Train Loss: 0.2110, Acc: 0.9420 | Val Loss: 0.2299, Acc: 0.9188\n"
     ]
    }
   ],
   "source": [
    "num_epochs = 30\n",
    "train_loss_history = []\n",
    "val_losss_history = []\n",
    "\n",
    "for epoch in range(num_epochs):\n",
    "    model.train()\n",
    "    train_loss = 0\n",
    "    correct = 0\n",
    "\n",
    "    for X_batch, y_batch in train_loader:\n",
    "        X_batch = X_batch.to(device)\n",
    "        y_batch = y_batch.to(device)\n",
    "\n",
    "        optimizer.zero_grad()\n",
    "        outputs = model(X_batch)\n",
    "        loss = criterion(outputs, y_batch)\n",
    "        loss.backward()\n",
    "        optimizer.step()\n",
    "\n",
    "        train_loss += loss.item() * X_batch.size(0)\n",
    "        correct += (outputs.argmax(1) == y_batch).sum().item()\n",
    "\n",
    "    train_loss /= len(train_loader.dataset)\n",
    "    train_acc = correct / len(train_loader.dataset)\n",
    "    \n",
    "    train_loss_history.append(train_loss)\n",
    "\n",
    "    # Validation\n",
    "    model.eval()\n",
    "    val_loss = 0\n",
    "    val_correct = 0\n",
    "    with torch.no_grad():\n",
    "        for X_batch, y_batch in val_loader:\n",
    "            X_batch = X_batch.to(device)\n",
    "            y_batch = y_batch.to(device)\n",
    "\n",
    "            outputs = model(X_batch)\n",
    "            loss = criterion(outputs, y_batch)\n",
    "\n",
    "            val_loss += loss.item() * X_batch.size(0)\n",
    "            val_correct += (outputs.argmax(1) == y_batch).sum().item()\n",
    "\n",
    "    val_loss /= len(val_loader.dataset)\n",
    "    val_acc = val_correct / len(val_loader.dataset)\n",
    "    \n",
    "    val_losss_history.append(val_loss)\n",
    "\n",
    "    print(f\"Epoch {epoch+1}/{num_epochs} | Train Loss: {train_loss:.4f}, Acc: {train_acc:.4f} | Val Loss: {val_loss:.4f}, Acc: {val_acc:.4f}\")"
   ]
  },
  {
   "cell_type": "code",
   "execution_count": 15,
   "metadata": {},
   "outputs": [],
   "source": [
    "# save\n",
    "torch.save(model.state_dict(), 'models/hierarchical transformer/hierarchical_transformer_weights_2025-06-03_small_1.pth')"
   ]
  },
  {
   "cell_type": "code",
   "execution_count": 13,
   "metadata": {},
   "outputs": [
    {
     "name": "stdout",
     "output_type": "stream",
     "text": [
      "                precision    recall  f1-score   support\n",
      "\n",
      "        squats       0.92      0.97      0.95        63\n",
      "     deadlifts       1.00      1.00      1.00        50\n",
      "shoulder_press       0.98      0.94      0.96        84\n",
      "\n",
      "      accuracy                           0.96       197\n",
      "     macro avg       0.97      0.97      0.97       197\n",
      "  weighted avg       0.97      0.96      0.96       197\n",
      "\n"
     ]
    }
   ],
   "source": [
    "from sklearn.metrics import classification_report\n",
    "\n",
    "# Switch to eval mode\n",
    "model.eval()\n",
    "\n",
    "# Collect all predictions and true labels\n",
    "all_preds = []\n",
    "all_labels = []\n",
    "\n",
    "with torch.no_grad():\n",
    "    for X_batch, y_batch in test_loader:\n",
    "        X_batch = X_batch.to(device)\n",
    "        y_batch = y_batch.to(device)\n",
    "\n",
    "        outputs = model(X_batch)\n",
    "        preds = outputs.argmax(1)\n",
    "\n",
    "        all_preds.extend(preds.cpu().numpy())\n",
    "        all_labels.extend(y_batch.cpu().numpy())\n",
    "\n",
    "# Generate classification report\n",
    "report = classification_report(all_labels, all_preds, target_names=['squats', 'deadlifts', \"shoulder_press\"])  # replace with your actual class names\n",
    "print(report)"
   ]
  },
  {
   "cell_type": "code",
   "execution_count": 14,
   "metadata": {},
   "outputs": [
    {
     "data": {
      "image/png": "[encoded data removed]",
      "text/plain": [
       "<Figure size 1000x500 with 1 Axes>"
      ]
     },
     "metadata": {},
     "output_type": "display_data"
    }
   ],
   "source": [
    "import matplotlib.pyplot as plt\n",
    "\n",
    "# Plot training and validation loss\n",
    "plt.figure(figsize=(10, 5))\n",
    "plt.plot(train_loss_history, label='Training loss')\n",
    "plt.plot(val_losss_history, label='Validation loss')\n",
    "plt.xlabel('Epoch')\n",
    "plt.ylabel('Loss')\n",
    "plt.legend()\n",
    "plt.show()"
   ]
  },
  {
   "cell_type": "code",
   "execution_count": null,
   "metadata": {},
   "outputs": [],
   "source": []
  }
 ],
 "metadata": {
  "kernelspec": {
   "display_name": "thesis",
   "language": "python",
   "name": "python3"
  },
  "language_info": {
   "codemirror_mode": {
    "name": "ipython",
    "version": 3
   },
   "file_extension": ".py",
   "mimetype": "text/x-python",
   "name": "python",
   "nbconvert_exporter": "python",
   "pygments_lexer": "ipython3",
   "version": "3.12.10"
  }
 },
 "nbformat": 4,
 "nbformat_minor": 2
}
