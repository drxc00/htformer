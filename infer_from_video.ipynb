{
 "cells": [
  {
   "cell_type": "code",
   "execution_count": 9,
   "id": "9c50bea2",
   "metadata": {},
   "outputs": [],
   "source": [
    "import torch\n",
    "from core.models.hierarchical_transformer import HierarchicalTransformer\n",
    "from core.keypoint_extractor import KeypointExtractorV2\n",
    "from core.utils import process_sample\n",
    "import numpy as np"
   ]
  },
  {
   "cell_type": "code",
   "execution_count": 10,
   "id": "d8575f7e",
   "metadata": {},
   "outputs": [],
   "source": [
    "htformer_weights = \"models/final/hierarchical_transformer_f201_d64_h2_s1_t1_do0.1_20250701_2251.pth\"\n",
    "device = torch.device(\"cuda\" if torch.cuda.is_available() else \"cpu\")"
   ]
  },
  {
   "cell_type": "code",
   "execution_count": 11,
   "id": "94fb80a6",
   "metadata": {},
   "outputs": [
    {
     "data": {
      "text/plain": [
       "<All keys matched successfully>"
      ]
     },
     "execution_count": 11,
     "metadata": {},
     "output_type": "execute_result"
    }
   ],
   "source": [
    "htformer = HierarchicalTransformer(\n",
    "    num_joints=33,\n",
    "    num_frames=201,\n",
    "    d_model=64,\n",
    "    nhead=2,\n",
    "    num_spatial_layers=1,\n",
    "    num_temporal_layers=1,\n",
    "    num_classes=3,\n",
    "    dim_feedforward=2048,\n",
    "    dropout=0.1\n",
    ").to(device)\n",
    "htformer.load_state_dict(torch.load(htformer_weights, map_location=device))"
   ]
  },
  {
   "cell_type": "code",
   "execution_count": 12,
   "id": "38b9e925",
   "metadata": {},
   "outputs": [],
   "source": [
    "# Define other models: KeypointExtractorV2\n",
    "extractor = KeypointExtractorV2(model_path=\"models/mediapipe/pose_landmarker_full.task\")"
   ]
  },
  {
   "cell_type": "code",
   "execution_count": 38,
   "id": "a1b709d1",
   "metadata": {},
   "outputs": [],
   "source": [
    "# Inference helpfer function\n",
    "def infer_from_video(video_path, keypoint_extractor, model):\n",
    "    # Have a clean state\n",
    "    model.eval()\n",
    "\n",
    "    labels = {0: \"squats\", 1: \"deadlifts\", 2:\"shoulder_press\"}\n",
    "    \n",
    "    video = keypoint_extractor.extract(video_path)\n",
    "    padded_sample, attention_mask, _ = process_sample(video, max_frames=201)\n",
    "    \n",
    "    padded_sample = np.array(padded_sample)[:, :, :3]\n",
    "    attention_mask = np.array(attention_mask)\n",
    "    \n",
    "    # Conver to torch tensors\n",
    "    X_tensor = torch.tensor(padded_sample, dtype=torch.float32).to(device)\n",
    "    mask_tensor = torch.tensor(attention_mask, dtype=torch.float32).to(device)\n",
    "    \n",
    "    # Add batch dimension\n",
    "    X_tensor = X_tensor.unsqueeze(0)\n",
    "    mask_tensor = mask_tensor.unsqueeze(0)\n",
    "    \n",
    "    with torch.no_grad():\n",
    "        output = model(X_tensor, mask_tensor)\n",
    "        pred = output.argmax(1)\n",
    "        print(\"Predicted class:\", labels[pred.item()])"
   ]
  },
  {
   "cell_type": "code",
   "execution_count": 42,
   "id": "02006ed0",
   "metadata": {},
   "outputs": [
    {
     "name": "stdout",
     "output_type": "stream",
     "text": [
      "Processing data/unseen/squat_neil_3.mp4: 534x720, 31 frames\n",
      "Extracted and normalized 30 frames from data/unseen/squat_neil_3.mp4\n",
      "Predicted class: squats\n"
     ]
    }
   ],
   "source": [
    "infer_from_video(\n",
    "    video_path=\"data/unseen/squat_neil_3.mp4\",\n",
    "    keypoint_extractor=extractor,\n",
    "    model=htformer\n",
    ")"
   ]
  },
  {
   "cell_type": "code",
   "execution_count": null,
   "id": "4f2bfda5",
   "metadata": {},
   "outputs": [],
   "source": []
  }
 ],
 "metadata": {
  "kernelspec": {
   "display_name": "thesis",
   "language": "python",
   "name": "python3"
  },
  "language_info": {
   "codemirror_mode": {
    "name": "ipython",
    "version": 3
   },
   "file_extension": ".py",
   "mimetype": "text/x-python",
   "name": "python",
   "nbconvert_exporter": "python",
   "pygments_lexer": "ipython3",
   "version": "3.12.10"
  }
 },
 "nbformat": 4,
 "nbformat_minor": 5
}
