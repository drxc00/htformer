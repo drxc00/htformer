{
 "cells": [
  {
   "cell_type": "markdown",
   "id": "27a01b66",
   "metadata": {},
   "source": [
    "Out dataset is compose of 2 classes (squats and deadlifts)\n",
    "Currently we have extracted around 500+ .npy files for each class.\n",
    "Separated in 2 folders: squats and deadlifts under the data/keypoints folder.\n",
    "The data is extracted from the videos using the extract_keypoints.py script.\n",
    "Our goal in this script is to load the data and create a dataset that can be used for training and testing.\n",
    "We will combine the data from both classes into a single dataset and create labels for each class.\n",
    "The labels will be 0 for squats and 1 for deadlifts."
   ]
  },
  {
   "cell_type": "code",
   "execution_count": 1,
   "id": "29a3bda0",
   "metadata": {},
   "outputs": [],
   "source": [
    "import os\n",
    "import numpy as np"
   ]
  },
  {
   "cell_type": "code",
   "execution_count": 2,
   "id": "fb9f86c8",
   "metadata": {},
   "outputs": [],
   "source": [
    "def load_npy(path: str) -> np.ndarray:\n",
    "    if not os.path.exists(path):\n",
    "        raise FileNotFoundError(f\"File not found: {path}\")\n",
    "    return np.load(path, allow_pickle=True)  # allow_pickle=True for loading object arrays"
   ]
  },
  {
   "cell_type": "code",
   "execution_count": 3,
   "id": "e6776c27",
   "metadata": {},
   "outputs": [],
   "source": [
    "sample = load_npy(path=\"data/keypoints/deadlifts/deadlift_10.npy\")"
   ]
  },
  {
   "cell_type": "code",
   "execution_count": 4,
   "id": "519b4efb",
   "metadata": {},
   "outputs": [
    {
     "data": {
      "text/plain": [
       "(78, 33, 4)"
      ]
     },
     "execution_count": 4,
     "metadata": {},
     "output_type": "execute_result"
    }
   ],
   "source": [
    "# We want to verify the shape of the data we have extracted.\n",
    "# We expect a shape of (F, J, 4) where F is the number of frames, J is the number of joints, and 4 represents the x, y, z, and visibility values.\n",
    "sample.shape"
   ]
  },
  {
   "cell_type": "code",
   "execution_count": 5,
   "id": "11896457",
   "metadata": {},
   "outputs": [
    {
     "data": {
      "text/plain": [
       "(33, 4)"
      ]
     },
     "execution_count": 5,
     "metadata": {},
     "output_type": "execute_result"
    }
   ],
   "source": [
    "sample[0].shape  # Check the shape of the first frame to confirm the number of joints and values per joint"
   ]
  },
  {
   "cell_type": "code",
   "execution_count": 6,
   "id": "569e3d32",
   "metadata": {},
   "outputs": [
    {
     "data": {
      "text/plain": [
       "array([0.07330841, 1.67114449, 0.15921673, 0.99966794])"
      ]
     },
     "execution_count": 6,
     "metadata": {},
     "output_type": "execute_result"
    }
   ],
   "source": [
    "sample[10][0]  # Check the values of the first joint in the first frame to confirm the x, y, z, and confidence values"
   ]
  },
  {
   "cell_type": "code",
   "execution_count": 7,
   "id": "0af68d2e",
   "metadata": {},
   "outputs": [
    {
     "name": "stdout",
     "output_type": "stream",
     "text": [
      "Processed 1146 samples with 331 max frames\n",
      "X shape: (1146, 331, 33, 4), y shape: (1146,)\n"
     ]
    }
   ],
   "source": [
    "# Let us process every data file in each directory.\n",
    "# The directory name is the class of the exercise.\n",
    "\n",
    "# Assign numerical lables to each class\n",
    "labels = { \"squats\": 0, \"deadlifts\": 1}\n",
    "\n",
    "temp_samples = []  # List to hold all samples\n",
    "\n",
    "MAX_FRAMES = 0\n",
    "\n",
    "for exercise, label in labels.items():\n",
    "    folder_path = os.path.join(\"data/keypoints\", exercise)\n",
    "    for file in os.listdir(folder_path):\n",
    "        if file.endswith(\".npy\"):\n",
    "            path = os.path.join(folder_path, file)\n",
    "            sample = np.load(path)\n",
    "            temp_samples.append((sample, label))\n",
    "            if sample.shape[0] > MAX_FRAMES:\n",
    "                MAX_FRAMES = sample.shape[0]\n",
    "\n",
    "# Pass through the sample and pad each sample to the maximum number of frames\n",
    "# Pass through the samples and pad each sample to the maximum number of frames\n",
    "X = []  # Feature data\n",
    "y = []  # Labels\n",
    "\n",
    "for sample, label in temp_samples:\n",
    "    # Use the sample directly - it's already a numpy array\n",
    "    sample_frames = sample.shape[0]\n",
    "    pad_len = MAX_FRAMES - sample_frames\n",
    "    \n",
    "    if pad_len > 0:\n",
    "        # Make sure we use the same shape for padding\n",
    "        pad = np.zeros((pad_len, sample.shape[1], sample.shape[2]))  # Preserve all dimensions\n",
    "        padded_sample = np.concatenate((sample, pad), axis=0)\n",
    "    else:\n",
    "        padded_sample = sample\n",
    "    \n",
    "    X.append(padded_sample)\n",
    "    y.append(label)\n",
    "\n",
    "# Convert to numpy arrays\n",
    "X = np.array(X)\n",
    "y = np.array(y)\n",
    "\n",
    "print(f\"Processed {len(X)} samples with {MAX_FRAMES} max frames\")\n",
    "print(f\"X shape: {X.shape}, y shape: {y.shape}\")\n"
   ]
  },
  {
   "cell_type": "code",
   "execution_count": 8,
   "id": "8545eb58",
   "metadata": {},
   "outputs": [],
   "source": [
    "final = np.savez_compressed(\"data/keypoints/deadlifts_squats_2025-05-30.npz\", X=X, y=y)"
   ]
  },
  {
   "cell_type": "code",
   "execution_count": 9,
   "id": "12dffa38",
   "metadata": {},
   "outputs": [
    {
     "data": {
      "text/plain": [
       "((1146, 331, 33, 4), (1146,))"
      ]
     },
     "execution_count": 9,
     "metadata": {},
     "output_type": "execute_result"
    }
   ],
   "source": [
    "# test the saved file\n",
    "loaded = np.load(\"data/keypoints/deadlifts_squats_2025-05-30.npz\")\n",
    "\n",
    "loaded[\"X\"].shape, loaded[\"y\"].shape  # Check the shapes of the loaded data"
   ]
  },
  {
   "cell_type": "code",
   "execution_count": null,
   "id": "3daacb88",
   "metadata": {},
   "outputs": [],
   "source": []
  }
 ],
 "metadata": {
  "kernelspec": {
   "display_name": "thesis",
   "language": "python",
   "name": "python3"
  },
  "language_info": {
   "codemirror_mode": {
    "name": "ipython",
    "version": 3
   },
   "file_extension": ".py",
   "mimetype": "text/x-python",
   "name": "python",
   "nbconvert_exporter": "python",
   "pygments_lexer": "ipython3",
   "version": "3.12.10"
  }
 },
 "nbformat": 4,
 "nbformat_minor": 5
}
