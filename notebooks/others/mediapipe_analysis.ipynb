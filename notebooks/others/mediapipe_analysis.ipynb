{
 "cells": [
  {
   "cell_type": "code",
   "execution_count": 5,
   "id": "825dff44",
   "metadata": {},
   "outputs": [],
   "source": [
    "import sys\n",
    "import os\n",
    "\n",
    "# Go up to project root (from inside training/)\n",
    "project_root = os.path.abspath(os.path.join(os.getcwd(), '../..'))\n",
    "if project_root not in sys.path:\n",
    "    sys.path.append(project_root)"
   ]
  },
  {
   "cell_type": "code",
   "execution_count": 14,
   "id": "1be47a49",
   "metadata": {},
   "outputs": [],
   "source": [
    "import numpy as np\n",
    "import matplotlib.pyplot as plt\n",
    "import pandas as pd"
   ]
  },
  {
   "cell_type": "code",
   "execution_count": 15,
   "id": "52e639fd",
   "metadata": {},
   "outputs": [],
   "source": [
    "labels = {\"squats\": 0, \"deadlifts\": 1, \"shoulder_press\": 2}\n",
    "data = {exercise: {\"valid_frames\": [], \"blank_frames\": [], \"total_frames\": []} for exercise in labels}\n",
    "\n",
    "for exercise, label in labels.items():\n",
    "    folder_path = os.path.join(\"../../data/keypoints\", exercise)\n",
    "    if not os.path.exists(folder_path):\n",
    "        print(f\"Warning: {folder_path} does not exist\")\n",
    "        continue\n",
    "\n",
    "    for file in os.listdir(folder_path):\n",
    "        if file.endswith(\".npy\"):\n",
    "            path = os.path.join(folder_path, file)\n",
    "            try:\n",
    "                sample = np.load(path)  # Shape: (frames, 33, 4)\n",
    "                total_frames = sample.shape[0]\n",
    "                \n",
    "                # A frame is blank if all 33 keypoints are zero\n",
    "                blank_frames = np.sum(np.all(sample == 0, axis=(1, 2)))\n",
    "                valid_frames = total_frames - blank_frames\n",
    "\n",
    "                data[exercise][\"valid_frames\"].append(valid_frames)\n",
    "                data[exercise][\"blank_frames\"].append(blank_frames)\n",
    "                data[exercise][\"total_frames\"].append(total_frames)\n",
    "                \n",
    "            except Exception as e:\n",
    "                print(f\"Error loading {path}: {e}\")"
   ]
  },
  {
   "cell_type": "code",
   "execution_count": 16,
   "id": "16f55e90",
   "metadata": {},
   "outputs": [
    {
     "data": {
      "image/png": "[encoded data removed]",
      "text/plain": [
       "<Figure size 800x500 with 1 Axes>"
      ]
     },
     "metadata": {},
     "output_type": "display_data"
    }
   ],
   "source": [
    "avg_valid_ratios = {\n",
    "    ex: (np.sum(data[ex][\"valid_frames\"]) / np.sum(data[ex][\"total_frames\"])) * 100\n",
    "    for ex in data\n",
    "}\n",
    "\n",
    "plt.figure(figsize=(8, 5))\n",
    "plt.bar(avg_valid_ratios.keys(), avg_valid_ratios.values(), color='skyblue')\n",
    "plt.title(\"Average Percentage of Valid (Detected) Frames per Exercise\")\n",
    "plt.ylabel(\"Valid Frame %\")\n",
    "plt.ylim(0, 100)\n",
    "plt.grid(axis='y', linestyle='--', alpha=0.7)\n",
    "plt.show()"
   ]
  },
  {
   "cell_type": "code",
   "execution_count": 17,
   "id": "1082ef90",
   "metadata": {},
   "outputs": [
    {
     "name": "stdout",
     "output_type": "stream",
     "text": [
      "         Exercise  Samples  Total Frames  Valid Frames  Blank Frames  \\\n",
      "0          squats      892        103516         96484          7032   \n",
      "1       deadlifts      672         82154         80209          1945   \n",
      "2  shoulder_press      660         53600         50201          3399   \n",
      "\n",
      "  Valid Frame %  \n",
      "0        93.21%  \n",
      "1        97.63%  \n",
      "2        93.66%  \n"
     ]
    }
   ],
   "source": [
    "summary = []\n",
    "\n",
    "for ex in data:\n",
    "    total_samples = len(data[ex][\"total_frames\"])\n",
    "    total_valid = np.sum(data[ex][\"valid_frames\"])\n",
    "    total_blank = np.sum(data[ex][\"blank_frames\"])\n",
    "    total_frames = np.sum(data[ex][\"total_frames\"])\n",
    "    valid_ratio = (total_valid / total_frames) * 100\n",
    "\n",
    "    summary.append({\n",
    "        \"Exercise\": ex,\n",
    "        \"Samples\": total_samples,\n",
    "        \"Total Frames\": total_frames,\n",
    "        \"Valid Frames\": total_valid,\n",
    "        \"Blank Frames\": total_blank,\n",
    "        \"Valid Frame %\": f\"{valid_ratio:.2f}%\"\n",
    "    })\n",
    "\n",
    "df = pd.DataFrame(summary)\n",
    "print(df)\n"
   ]
  },
  {
   "cell_type": "code",
   "execution_count": null,
   "id": "b0491543",
   "metadata": {},
   "outputs": [],
   "source": []
  }
 ],
 "metadata": {
  "kernelspec": {
   "display_name": "thesis",
   "language": "python",
   "name": "python3"
  },
  "language_info": {
   "codemirror_mode": {
    "name": "ipython",
    "version": 3
   },
   "file_extension": ".py",
   "mimetype": "text/x-python",
   "name": "python",
   "nbconvert_exporter": "python",
   "pygments_lexer": "ipython3",
   "version": "3.12.10"
  }
 },
 "nbformat": 4,
 "nbformat_minor": 5
}
