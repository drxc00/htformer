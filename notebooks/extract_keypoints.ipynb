{
 "cells": [
  {
   "cell_type": "code",
   "execution_count": 1,
   "id": "b0092293",
   "metadata": {},
   "outputs": [],
   "source": [
    "import sys\n",
    "import os\n",
    "\n",
    "# Go up to project root (from inside training/)\n",
    "project_root = os.path.abspath(os.path.join(os.getcwd(), '../.'))\n",
    "if project_root not in sys.path:\n",
    "    sys.path.append(project_root)"
   ]
  },
  {
   "cell_type": "code",
   "execution_count": 2,
   "id": "481bc55a",
   "metadata": {},
   "outputs": [],
   "source": [
    "from core.keypoint_extractor import KeypointExtractorV2\n",
    "from core.augment import DataAugmentor\n",
    "import numpy as np\n",
    "import os"
   ]
  },
  {
   "cell_type": "code",
   "execution_count": 3,
   "id": "d5c43147",
   "metadata": {},
   "outputs": [],
   "source": [
    "# Select the directory where the videos are stored\n",
    "exercise = \"shoulder_press\""
   ]
  },
  {
   "cell_type": "code",
   "execution_count": 4,
   "id": "39f1dca7",
   "metadata": {},
   "outputs": [],
   "source": [
    "# Augmentation\n",
    "# augmentor = DataAugmentor(input_dir=f\".././data/raw/{exercise}\", output_dir=f\".././data/augmented/{exercise}\")"
   ]
  },
  {
   "cell_type": "code",
   "execution_count": 5,
   "id": "bb2be08c",
   "metadata": {},
   "outputs": [],
   "source": [
    "# Run\n",
    "# augmentor.run()"
   ]
  },
  {
   "cell_type": "code",
   "execution_count": 6,
   "id": "5ed29ded",
   "metadata": {},
   "outputs": [],
   "source": [
    "# Keypoints extraction\n",
    "extractor = KeypointExtractorV2(model_path=\".././models/mediapipe/pose_landmarker_heavy.task\")"
   ]
  },
  {
   "cell_type": "code",
   "execution_count": 7,
   "id": "e139a844",
   "metadata": {},
   "outputs": [
    {
     "name": "stdout",
     "output_type": "stream",
     "text": [
      "Processing .././data/testing/shoulder_press/art_1.mp4: 262x480, 112 frames\n",
      "Extracted and normalized 111 frames from .././data/testing/shoulder_press/art_1.mp4\n",
      "Extracted keypoints for art_1.mp4\n",
      "Processing .././data/testing/shoulder_press/art_2.mp4: 262x480, 77 frames\n",
      "Extracted and normalized 77 frames from .././data/testing/shoulder_press/art_2.mp4\n",
      "Extracted keypoints for art_2.mp4\n",
      "Processing .././data/testing/shoulder_press/art_3.mp4: 262x480, 119 frames\n",
      "Extracted and normalized 119 frames from .././data/testing/shoulder_press/art_3.mp4\n",
      "Extracted keypoints for art_3.mp4\n",
      "Processing .././data/testing/shoulder_press/josiah_1.mp4: 720x1280, 91 frames\n",
      "Extracted and normalized 91 frames from .././data/testing/shoulder_press/josiah_1.mp4\n",
      "Extracted keypoints for josiah_1.mp4\n",
      "Processing .././data/testing/shoulder_press/josiah_2.mp4: 720x1280, 78 frames\n",
      "Extracted and normalized 78 frames from .././data/testing/shoulder_press/josiah_2.mp4\n",
      "Extracted keypoints for josiah_2.mp4\n",
      "Processing .././data/testing/shoulder_press/josiah_3.mp4: 720x1280, 82 frames\n",
      "Extracted and normalized 82 frames from .././data/testing/shoulder_press/josiah_3.mp4\n",
      "Extracted keypoints for josiah_3.mp4\n",
      "Processing .././data/testing/shoulder_press/josiah_4.mp4: 720x1280, 84 frames\n",
      "Extracted and normalized 84 frames from .././data/testing/shoulder_press/josiah_4.mp4\n",
      "Extracted keypoints for josiah_4.mp4\n",
      "Processing .././data/testing/shoulder_press/josiah_5.mp4: 720x1280, 94 frames\n",
      "Extracted and normalized 94 frames from .././data/testing/shoulder_press/josiah_5.mp4\n",
      "Extracted keypoints for josiah_5.mp4\n",
      "Processing .././data/testing/shoulder_press/josiah_6.mp4: 720x1280, 102 frames\n",
      "Extracted and normalized 102 frames from .././data/testing/shoulder_press/josiah_6.mp4\n",
      "Extracted keypoints for josiah_6.mp4\n",
      "Processing .././data/testing/shoulder_press/mark_kevin.mp4: 270x480, 73 frames\n",
      "Extracted and normalized 72 frames from .././data/testing/shoulder_press/mark_kevin.mp4\n",
      "Extracted keypoints for mark_kevin.mp4\n",
      "Processing .././data/testing/shoulder_press/mark_kevin_1.mp4: 270x480, 64 frames\n",
      "Extracted and normalized 63 frames from .././data/testing/shoulder_press/mark_kevin_1.mp4\n",
      "Extracted keypoints for mark_kevin_1.mp4\n",
      "Processing .././data/testing/shoulder_press/renzo_1_1.mp4: 720x1280, 87 frames\n",
      "Extracted and normalized 87 frames from .././data/testing/shoulder_press/renzo_1_1.mp4\n",
      "Extracted keypoints for renzo_1_1.mp4\n",
      "Processing .././data/testing/shoulder_press/renzo_1_2.mp4: 720x1280, 65 frames\n",
      "Extracted and normalized 65 frames from .././data/testing/shoulder_press/renzo_1_2.mp4\n",
      "Extracted keypoints for renzo_1_2.mp4\n",
      "Processing .././data/testing/shoulder_press/renzo_2_1.mp4: 720x1280, 75 frames\n",
      "Extracted and normalized 75 frames from .././data/testing/shoulder_press/renzo_2_1.mp4\n",
      "Extracted keypoints for renzo_2_1.mp4\n",
      "Processing .././data/testing/shoulder_press/renzo_2_2.mp4: 720x1280, 85 frames\n",
      "Extracted and normalized 85 frames from .././data/testing/shoulder_press/renzo_2_2.mp4\n",
      "Extracted keypoints for renzo_2_2.mp4\n",
      "Processing .././data/testing/shoulder_press/renzo_3_1.mp4: 720x1280, 97 frames\n",
      "Extracted and normalized 97 frames from .././data/testing/shoulder_press/renzo_3_1.mp4\n",
      "Extracted keypoints for renzo_3_1.mp4\n",
      "Processing .././data/testing/shoulder_press/renzo_3_2.mp4: 720x1280, 89 frames\n",
      "Extracted and normalized 89 frames from .././data/testing/shoulder_press/renzo_3_2.mp4\n",
      "Extracted keypoints for renzo_3_2.mp4\n",
      "Processing .././data/testing/shoulder_press/zai_1_1.mp4: 270x480, 94 frames\n",
      "Extracted and normalized 93 frames from .././data/testing/shoulder_press/zai_1_1.mp4\n",
      "Extracted keypoints for zai_1_1.mp4\n",
      "Processing .././data/testing/shoulder_press/zai_1_2.mp4: 270x480, 80 frames\n",
      "Extracted and normalized 80 frames from .././data/testing/shoulder_press/zai_1_2.mp4\n",
      "Extracted keypoints for zai_1_2.mp4\n",
      "Processing .././data/testing/shoulder_press/zai_2.mp4: 270x480, 80 frames\n",
      "Extracted and normalized 80 frames from .././data/testing/shoulder_press/zai_2.mp4\n",
      "Extracted keypoints for zai_2.mp4\n",
      "Processing .././data/testing/shoulder_press/zai_2_1.mp4: 270x480, 62 frames\n",
      "Extracted and normalized 62 frames from .././data/testing/shoulder_press/zai_2_1.mp4\n",
      "Extracted keypoints for zai_2_1.mp4\n",
      "Processing .././data/testing/shoulder_press/zai_3.mp4: 270x480, 76 frames\n",
      "Extracted and normalized 75 frames from .././data/testing/shoulder_press/zai_3.mp4\n",
      "Extracted keypoints for zai_3.mp4\n",
      "Processing .././data/testing/shoulder_press/zai_4.mp4: 270x480, 61 frames\n",
      "Extracted and normalized 60 frames from .././data/testing/shoulder_press/zai_4.mp4\n",
      "Extracted keypoints for zai_4.mp4\n"
     ]
    }
   ],
   "source": [
    "# Create output directory if it doesn't exist\n",
    "input_dir = f\".././data/testing/{exercise}/\"\n",
    "output_dir = f\".././data/keypoints/testing/{exercise}/\"\n",
    "if not os.path.exists(output_dir):\n",
    "    os.makedirs(output_dir)\n",
    "\n",
    "file_count = 0  # Reset file count for each extraction session\n",
    "\n",
    "# We want to save the name of the file and the extractd keypoint file to a CSV file\n",
    "keypoints_file_mapping = dict()\n",
    "\n",
    "# Loop through all files in the input directory\n",
    "for file in os.listdir(input_dir):\n",
    "    if file.endswith(\".mp4\"):\n",
    "        # Extract keypoints from the file\n",
    "        keypoints = extractor.extract(os.path.join(input_dir, file))\n",
    "        \n",
    "        # Save keypoints to a NumPy file\n",
    "        output_path = os.path.join(output_dir, exercise + \"_\" + str(file_count) + \".npy\")\n",
    "        np.save(output_path, keypoints)\n",
    "        \n",
    "        # Save the name of the file and the extracted keypoint file to a CSV file\n",
    "        keypoints_file_mapping[file] = output_path\n",
    "        \n",
    "        file_count += 1\n",
    "        \n",
    "        print(f\"Extracted keypoints for {file}\")"
   ]
  },
  {
   "cell_type": "code",
   "execution_count": null,
   "id": "fc394bec",
   "metadata": {},
   "outputs": [
    {
     "ename": "",
     "evalue": "",
     "output_type": "error",
     "traceback": [
      "\u001b[1;31mThe Kernel crashed while executing code in the current cell or a previous cell. \n",
      "\u001b[1;31mPlease review the code in the cell(s) to identify a possible cause of the failure. \n",
      "\u001b[1;31mClick <a href='https://aka.ms/vscodeJupyterKernelCrash'>here</a> for more info. \n",
      "\u001b[1;31mView Jupyter <a href='command:jupyter.viewOutput'>log</a> for further details."
     ]
    }
   ],
   "source": [
    "# Save the keypoints file mapping to a CSV file\n",
    "import pandas as pd\n",
    "\n",
    "mapping_df = pd.DataFrame(list(keypoints_file_mapping.items()), columns=['video_file', 'keypoints_file'])\n",
    "mapping_df.to_csv(os.path.join(output_dir, 'keypoints_file_mapping.csv'), index=False)"
   ]
  },
  {
   "cell_type": "code",
   "execution_count": null,
   "id": "a333f6fd",
   "metadata": {},
   "outputs": [],
   "source": []
  }
 ],
 "metadata": {
  "kernelspec": {
   "display_name": "thesis",
   "language": "python",
   "name": "python3"
  },
  "language_info": {
   "codemirror_mode": {
    "name": "ipython",
    "version": 3
   },
   "file_extension": ".py",
   "mimetype": "text/x-python",
   "name": "python",
   "nbconvert_exporter": "python",
   "pygments_lexer": "ipython3",
   "version": "3.12.10"
  }
 },
 "nbformat": 4,
 "nbformat_minor": 5
}
