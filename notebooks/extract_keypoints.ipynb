{
 "cells": [
  {
   "cell_type": "code",
   "execution_count": 15,
   "id": "b0092293",
   "metadata": {},
   "outputs": [],
   "source": [
    "import sys\n",
    "import os\n",
    "\n",
    "# Go up to project root (from inside training/)\n",
    "project_root = os.path.abspath(os.path.join(os.getcwd(), '../.'))\n",
    "if project_root not in sys.path:\n",
    "    sys.path.append(project_root)"
   ]
  },
  {
   "cell_type": "code",
   "execution_count": 16,
   "id": "481bc55a",
   "metadata": {},
   "outputs": [],
   "source": [
    "from core.keypoint_extractor import KeypointExtractorV2\n",
    "from core.augment import DataAugmentor\n",
    "import numpy as np\n",
    "import os"
   ]
  },
  {
   "cell_type": "code",
   "execution_count": 17,
   "id": "d5c43147",
   "metadata": {},
   "outputs": [],
   "source": [
    "# Select the directory where the videos are stored\n",
    "exercise = \"deadlifts\""
   ]
  },
  {
   "cell_type": "code",
   "execution_count": 18,
   "id": "39f1dca7",
   "metadata": {},
   "outputs": [],
   "source": [
    "# Augmentation\n",
    "# augmentor = DataAugmentor(input_dir=f\".././data/raw/{exercise}\", output_dir=f\".././data/augmented/{exercise}\")"
   ]
  },
  {
   "cell_type": "code",
   "execution_count": 19,
   "id": "bb2be08c",
   "metadata": {},
   "outputs": [],
   "source": [
    "# Run\n",
    "# augmentor.run()"
   ]
  },
  {
   "cell_type": "code",
   "execution_count": 20,
   "id": "5ed29ded",
   "metadata": {},
   "outputs": [],
   "source": [
    "# Keypoints extraction\n",
    "extractor = KeypointExtractorV2(model_path=\".././models/mediapipe/pose_landmarker_heavy.task\")"
   ]
  },
  {
   "cell_type": "code",
   "execution_count": 21,
   "id": "e139a844",
   "metadata": {},
   "outputs": [
    {
     "name": "stdout",
     "output_type": "stream",
     "text": [
      "Processing .././data/testing/deadlifts/ally_1_2.mp4: 720x1280, 89 frames\n",
      "Extracted and normalized 89 frames from .././data/testing/deadlifts/ally_1_2.mp4\n",
      "Extracted keypoints for ally_1_2.mp4\n",
      "Processing .././data/testing/deadlifts/ally_2_1.mp4: 720x1280, 86 frames\n",
      "Extracted and normalized 86 frames from .././data/testing/deadlifts/ally_2_1.mp4\n",
      "Extracted keypoints for ally_2_1.mp4\n",
      "Processing .././data/testing/deadlifts/ally_3_1.mp4: 720x1280, 109 frames\n",
      "Extracted and normalized 109 frames from .././data/testing/deadlifts/ally_3_1.mp4\n",
      "Extracted keypoints for ally_3_1.mp4\n",
      "Processing .././data/testing/deadlifts/josiah_1 (online-video-cutter.com).mp4: 270x480, 95 frames\n",
      "Extracted and normalized 95 frames from .././data/testing/deadlifts/josiah_1 (online-video-cutter.com).mp4\n",
      "Extracted keypoints for josiah_1 (online-video-cutter.com).mp4\n",
      "Processing .././data/testing/deadlifts/neil_occlusion.mp4: 576x768, 154 frames\n",
      "Extracted and normalized 154 frames from .././data/testing/deadlifts/neil_occlusion.mp4\n",
      "Extracted keypoints for neil_occlusion.mp4\n",
      "Processing .././data/testing/deadlifts/neil_occlusion_pro_max.mp4: 576x768, 158 frames\n",
      "Extracted and normalized 158 frames from .././data/testing/deadlifts/neil_occlusion_pro_max.mp4\n",
      "Extracted keypoints for neil_occlusion_pro_max.mp4\n"
     ]
    }
   ],
   "source": [
    "# Create output directory if it doesn't exist\n",
    "input_dir = f\".././data/testing/{exercise}/\"\n",
    "output_dir = f\".././data/keypoints/testing/{exercise}/\"\n",
    "if not os.path.exists(output_dir):\n",
    "    os.makedirs(output_dir)\n",
    "\n",
    "file_count = 0  # Reset file count for each extraction session\n",
    "\n",
    "# Loop through all files in the input directory\n",
    "for file in os.listdir(input_dir):\n",
    "    if file.endswith(\".mp4\"):\n",
    "        # Extract keypoints from the file\n",
    "        keypoints = extractor.extract(os.path.join(input_dir, file))\n",
    "        \n",
    "        # Save keypoints to a NumPy file\n",
    "        output_path = os.path.join(output_dir, exercise + \"_\" + str(file_count) + \".npy\")\n",
    "        np.save(output_path, keypoints)\n",
    "        \n",
    "        file_count += 1\n",
    "        \n",
    "        print(f\"Extracted keypoints for {file}\")"
   ]
  },
  {
   "cell_type": "code",
   "execution_count": null,
   "id": "fc394bec",
   "metadata": {},
   "outputs": [],
   "source": []
  }
 ],
 "metadata": {
  "kernelspec": {
   "display_name": "thesis",
   "language": "python",
   "name": "python3"
  },
  "language_info": {
   "codemirror_mode": {
    "name": "ipython",
    "version": 3
   },
   "file_extension": ".py",
   "mimetype": "text/x-python",
   "name": "python",
   "nbconvert_exporter": "python",
   "pygments_lexer": "ipython3",
   "version": "3.12.10"
  }
 },
 "nbformat": 4,
 "nbformat_minor": 5
}
