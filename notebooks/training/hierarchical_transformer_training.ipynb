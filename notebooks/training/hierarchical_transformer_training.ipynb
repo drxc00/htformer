{
 "cells": [
  {
   "cell_type": "code",
   "execution_count": 1,
   "id": "abecd419",
   "metadata": {},
   "outputs": [],
   "source": [
    "import sys\n",
    "import os\n",
    "\n",
    "# Go up to project root (from inside training/)\n",
    "project_root = os.path.abspath(os.path.join(os.getcwd(), '../..'))\n",
    "if project_root not in sys.path:\n",
    "    sys.path.append(project_root)"
   ]
  },
  {
   "cell_type": "code",
   "execution_count": 2,
   "id": "e114dec2",
   "metadata": {},
   "outputs": [],
   "source": [
    "import numpy as np\n",
    "import torch\n",
    "import torch.nn as nn\n",
    "import gc\n",
    "import random\n",
    "from core.models.hierarchical_transformer import HierarchicalTransformer\n",
    "from core.utils import create_transformer_dataset, generate_model_filename\n",
    "import torch.optim as optim\n",
    "from torch.utils.data import TensorDataset, DataLoader\n",
    "from sklearn.model_selection import train_test_split\n",
    "from sklearn.metrics import confusion_matrix, classification_report, ConfusionMatrixDisplay\n",
    "import matplotlib.pyplot as plt\n",
    "import os\n",
    "import time\n"
   ]
  },
  {
   "cell_type": "code",
   "execution_count": 3,
   "id": "de693c66",
   "metadata": {},
   "outputs": [
    {
     "name": "stdout",
     "output_type": "stream",
     "text": [
      "Clean slate initialized!\n"
     ]
    }
   ],
   "source": [
    "def initial_cleanup():\n",
    "    # Memory cleanup\n",
    "    if torch.cuda.is_available():\n",
    "        torch.cuda.empty_cache()\n",
    "        torch.cuda.ipc_collect()\n",
    "    gc.collect()\n",
    "    \n",
    "    # Set random seeds\n",
    "    random.seed(69)\n",
    "    np.random.seed(69)\n",
    "    torch.manual_seed(69)\n",
    "    if torch.cuda.is_available():\n",
    "        torch.cuda.manual_seed(69)\n",
    "        torch.cuda.manual_seed_all(69)\n",
    "    torch.backends.cudnn.deterministic = True\n",
    "    torch.backends.cudnn.benchmark = False\n",
    "    \n",
    "    print(\"Clean slate initialized!\")\n",
    "\n",
    "# Call this at the top of your notebook\n",
    "initial_cleanup()"
   ]
  },
  {
   "cell_type": "code",
   "execution_count": 4,
   "id": "19631198",
   "metadata": {},
   "outputs": [
    {
     "name": "stdout",
     "output_type": "stream",
     "text": [
      "Using max_frames = 200 (95.0th percentile)\n",
      "Sequence length stats - Min: 0, Max: 404\n",
      "Filtering out sample with length 236\n",
      "Filtering out sample with length 236\n",
      "Filtering out sample with length 267\n",
      "Filtering out sample with length 267\n",
      "Filtering out sample with length 237\n",
      "Filtering out sample with length 237\n",
      "Filtering out sample with length 248\n",
      "Filtering out sample with length 248\n",
      "Filtering out sample with length 207\n",
      "Filtering out sample with length 207\n",
      "Filtering out sample with length 219\n",
      "Filtering out sample with length 219\n",
      "Filtering out sample with length 280\n",
      "Filtering out sample with length 280\n",
      "Filtering out sample with length 249\n",
      "Filtering out sample with length 249\n",
      "Filtering out sample with length 247\n",
      "Filtering out sample with length 247\n",
      "Filtering out sample with length 210\n",
      "Filtering out sample with length 210\n",
      "Filtering out sample with length 215\n",
      "Filtering out sample with length 215\n",
      "Filtering out sample with length 283\n",
      "Filtering out sample with length 283\n",
      "Filtering out sample with length 247\n",
      "Filtering out sample with length 247\n",
      "Filtering out sample with length 203\n",
      "Filtering out sample with length 203\n",
      "Filtering out sample with length 281\n",
      "Filtering out sample with length 281\n",
      "Filtering out sample with length 208\n",
      "Filtering out sample with length 208\n",
      "Filtering out sample with length 229\n",
      "Filtering out sample with length 229\n",
      "Filtering out sample with length 309\n",
      "Filtering out sample with length 309\n",
      "Filtering out sample with length 236\n",
      "Filtering out sample with length 236\n",
      "Filtering out sample with length 404\n",
      "Filtering out sample with length 404\n",
      "Filtering out sample with length 256\n",
      "Filtering out sample with length 256\n",
      "Filtering out sample with length 230\n",
      "Filtering out sample with length 230\n",
      "Filtering out sample with length 236\n",
      "Filtering out sample with length 236\n",
      "Filtering out sample with length 217\n",
      "Filtering out sample with length 217\n",
      "Filtering out sample with length 261\n",
      "Filtering out sample with length 261\n",
      "Filtering out sample with length 222\n",
      "Filtering out sample with length 315\n",
      "Filtering out sample with length 205\n",
      "Filtering out sample with length 216\n",
      "Filtering out sample with length 201\n",
      "Filtering out sample with length 238\n",
      "Filtering out sample with length 305\n",
      "Filtering out sample with length 263\n",
      "Filtering out sample with length 237\n",
      "Filtering out sample with length 212\n",
      "Filtering out sample with length 240\n",
      "Filtering out sample with length 331\n",
      "Filtering out sample with length 339\n",
      "Filtering out sample with length 309\n",
      "Filtering out sample with length 209\n",
      "Filtering out sample with length 207\n",
      "Filtering out sample with length 378\n",
      "Filtering out sample with length 342\n",
      "Filtering out sample with length 207\n",
      "Filtering out sample with length 221\n",
      "Filtering out sample with length 315\n",
      "Filtering out sample with length 263\n",
      "Filtering out sample with length 305\n",
      "Filtering out sample with length 205\n",
      "Filtering out sample with length 263\n",
      "Filtering out sample with length 212\n",
      "Filtering out sample with length 266\n",
      "Filtering out sample with length 331\n",
      "Filtering out sample with length 201\n",
      "Filtering out sample with length 240\n",
      "Filtering out sample with length 201\n",
      "Filtering out sample with length 205\n",
      "Filtering out sample with length 235\n",
      "Filtering out sample with length 262\n",
      "Filtering out sample with length 209\n",
      "Filtering out sample with length 221\n",
      "Filtering out sample with length 218\n",
      "Filtering out sample with length 339\n",
      "Filtering out sample with length 342\n",
      "Filtering out sample with length 309\n",
      "Filtering out sample with length 238\n",
      "Filtering out sample with length 266\n",
      "Filtering out sample with length 237\n",
      "Filtering out sample with length 216\n",
      "Filtering out sample with length 235\n",
      "Filtering out sample with length 262\n",
      "Filtering out sample with length 222\n",
      "Filtering out sample with length 249\n",
      "Filtering out sample with length 201\n",
      "Filtering out sample with length 205\n",
      "Filtering out sample with length 218\n",
      "Filtering out sample with length 249\n",
      "Filtering out sample with length 378\n",
      "Filtering out sample with length 263\n",
      "Filtering out sample with length 226\n",
      "Filtering out sample with length 226\n",
      "Filtering out sample with length 226\n",
      "Filtering out sample with length 226\n",
      "Filtering out sample with length 201\n",
      "Filtering out sample with length 201\n",
      "Filtering out sample with length 214\n",
      "Filtering out sample with length 214\n",
      "Kept 2112 out of 2224 samples\n",
      "Final dataset shape:\n",
      "X: (2112, 200, 33, 4)\n",
      "y: (2112,)\n",
      "attention_masks: (2112, 200)\n",
      "sequence_lengths: (2112,)\n",
      "Kept 2112 out of 2224 samples\n",
      "Number of samples filtered out due to length: 112\n"
     ]
    }
   ],
   "source": [
    "X_np, y_np, attention_masks_np, sequence_lengths_np = create_transformer_dataset(data_dir=\"../../data/keypoints\",verbose=False)"
   ]
  },
  {
   "cell_type": "code",
   "execution_count": 5,
   "id": "6d89d2c2",
   "metadata": {},
   "outputs": [],
   "source": [
    "# Convert to PyTorch tensors\n",
    "X_np = X_np[:, :, :, :3]  # shape: (N, F, J, 3)\n",
    "attention_masks_np = attention_masks_np  # shape: (N, F)\n",
    "\n",
    "# First split: TrainVal vs Test\n",
    "X_temp, X_test, y_temp, y_test, mask_temp, mask_test = train_test_split(\n",
    "    X_np, y_np, attention_masks_np, \n",
    "    test_size=0.1, random_state=69, stratify=y_np\n",
    ")\n",
    "\n",
    "# Second split: Train vs Val\n",
    "val_ratio = 0.1 / 0.9  # same as before\n",
    "X_train, X_val, y_train, y_val, mask_train, mask_val = train_test_split(\n",
    "    X_temp, y_temp, mask_temp, \n",
    "    test_size=val_ratio, random_state=69, stratify=y_temp\n",
    ")\n",
    "\n",
    "# Convert to tensors\n",
    "X_train = torch.from_numpy(X_train).float()\n",
    "X_val = torch.from_numpy(X_val).float()\n",
    "X_test = torch.from_numpy(X_test).float()\n",
    "\n",
    "y_train = torch.from_numpy(y_train).long()\n",
    "y_val = torch.from_numpy(y_val).long()\n",
    "y_test = torch.from_numpy(y_test).long()\n",
    "\n",
    "mask_train = torch.from_numpy(mask_train).float()\n",
    "mask_val = torch.from_numpy(mask_val).float()\n",
    "mask_test = torch.from_numpy(mask_test).float()\n",
    "\n",
    "# Create datasets\n",
    "train_dataset = TensorDataset(X_train, y_train, mask_train)\n",
    "val_dataset = TensorDataset(X_val, y_val, mask_val)\n",
    "test_dataset = TensorDataset(X_test, y_test, mask_test)\n",
    "\n",
    "# Create dataloaders\n",
    "train_loader = DataLoader(train_dataset, batch_size=16, shuffle=True)\n",
    "val_loader = DataLoader(val_dataset, batch_size=16)\n",
    "test_loader = DataLoader(test_dataset, batch_size=16)"
   ]
  },
  {
   "cell_type": "code",
   "execution_count": 6,
   "id": "1cc4146b",
   "metadata": {},
   "outputs": [],
   "source": [
    "parameters = dict(\n",
    "    num_joints=33,\n",
    "    num_frames=200,\n",
    "    d_model=128,\n",
    "    nhead=4,\n",
    "    num_spatial_layers=1,\n",
    "    num_temporal_layers=1,\n",
    "    num_classes=3,\n",
    "    dim_feedforward=1024,\n",
    "    dropout=0.25\n",
    ")\n",
    "\n",
    "epochs = 50"
   ]
  },
  {
   "cell_type": "code",
   "execution_count": 7,
   "id": "baddde04",
   "metadata": {},
   "outputs": [],
   "source": [
    "device = torch.device(\"cuda\" if torch.cuda.is_available() else \"cpu\")\n",
    "\n",
    "model = HierarchicalTransformer(**parameters).to(device)\n",
    "\n",
    "criterion = nn.CrossEntropyLoss(label_smoothing=0.03)\n",
    "optimizer = optim.AdamW(model.parameters(), lr=3e-5, weight_decay=1e-4)\n",
    "scheduler = optim.lr_scheduler.CosineAnnealingLR(optimizer, T_max=epochs, eta_min=1e-6)"
   ]
  },
  {
   "cell_type": "code",
   "execution_count": null,
   "id": "f9413477",
   "metadata": {},
   "outputs": [
    {
     "name": "stderr",
     "output_type": "stream",
     "text": [
      "d:\\Thesis\\thesis\\Lib\\site-packages\\torch\\nn\\modules\\transformer.py:505: UserWarning: The PyTorch API of nested tensors is in prototype stage and will change in the near future. We recommend specifying layout=torch.jagged when constructing a nested tensor, as this layout receives active development, has better operator coverage, and works with torch.compile. (Triggered internally at C:\\actions-runner\\_work\\pytorch\\pytorch\\pytorch\\aten\\src\\ATen\\NestedTensorImpl.cpp:182.)\n",
      "  output = torch._nested_tensor_from_mask(\n"
     ]
    },
    {
     "name": "stdout",
     "output_type": "stream",
     "text": [
      "Epoch 1/50 | Train Loss: 1.0481, Acc: 0.4491 | Val Loss: 0.9895, Acc: 0.6274 | Time: 1m 13.63s\n",
      "Epoch 2/50 | Train Loss: 0.8965, Acc: 0.6754 | Val Loss: 0.7237, Acc: 0.7736 | Time: 1m 14.27s\n",
      "Epoch 3/50 | Train Loss: 0.6559, Acc: 0.7719 | Val Loss: 0.5042, Acc: 0.8302 | Time: 1m 14.22s\n",
      "Epoch 4/50 | Train Loss: 0.5093, Acc: 0.8483 | Val Loss: 0.3951, Acc: 0.9009 | Time: 1m 14.37s\n",
      "Epoch 5/50 | Train Loss: 0.4156, Acc: 0.8981 | Val Loss: 0.3397, Acc: 0.9198 | Time: 1m 14.62s\n",
      "Epoch 6/50 | Train Loss: 0.3471, Acc: 0.9165 | Val Loss: 0.2858, Acc: 0.9434 | Time: 1m 14.40s\n",
      "Epoch 7/50 | Train Loss: 0.3127, Acc: 0.9390 | Val Loss: 0.2749, Acc: 0.9528 | Time: 1m 15.89s\n",
      "Epoch 8/50 | Train Loss: 0.2893, Acc: 0.9425 | Val Loss: 0.2571, Acc: 0.9575 | Time: 1m 17.42s\n",
      "Epoch 9/50 | Train Loss: 0.2694, Acc: 0.9473 | Val Loss: 0.2534, Acc: 0.9434 | Time: 1m 17.29s\n",
      "Epoch 10/50 | Train Loss: 0.2613, Acc: 0.9467 | Val Loss: 0.2506, Acc: 0.9528 | Time: 1m 17.24s\n",
      "Epoch 11/50 | Train Loss: 0.2503, Acc: 0.9514 | Val Loss: 0.2336, Acc: 0.9623 | Time: 1m 15.79s\n",
      "Epoch 12/50 | Train Loss: 0.2522, Acc: 0.9467 | Val Loss: 0.2303, Acc: 0.9528 | Time: 1m 17.30s\n",
      "Epoch 13/50 | Train Loss: 0.2397, Acc: 0.9544 | Val Loss: 0.2273, Acc: 0.9575 | Time: 1m 18.00s\n",
      "Epoch 14/50 | Train Loss: 0.2355, Acc: 0.9538 | Val Loss: 0.2200, Acc: 0.9575 | Time: 1m 15.33s\n",
      "Epoch 15/50 | Train Loss: 0.2287, Acc: 0.9562 | Val Loss: 0.2332, Acc: 0.9528 | Time: 1m 15.04s\n",
      "Epoch 16/50 | Train Loss: 0.2242, Acc: 0.9573 | Val Loss: 0.2421, Acc: 0.9575 | Time: 1m 17.51s\n",
      "Epoch 17/50 | Train Loss: 0.2208, Acc: 0.9573 | Val Loss: 0.2089, Acc: 0.9623 | Time: 1m 18.36s\n",
      "Epoch 18/50 | Train Loss: 0.2163, Acc: 0.9603 | Val Loss: 0.2068, Acc: 0.9670 | Time: 1m 15.70s\n",
      "Epoch 19/50 | Train Loss: 0.2170, Acc: 0.9615 | Val Loss: 0.2056, Acc: 0.9670 | Time: 1m 13.97s\n",
      "Epoch 20/50 | Train Loss: 0.2119, Acc: 0.9609 | Val Loss: 0.2121, Acc: 0.9670 | Time: 1m 14.64s\n",
      "Epoch 21/50 | Train Loss: 0.2079, Acc: 0.9650 | Val Loss: 0.2085, Acc: 0.9670 | Time: 1m 15.45s\n",
      "Epoch 22/50 | Train Loss: 0.2118, Acc: 0.9621 | Val Loss: 0.1983, Acc: 0.9717 | Time: 1m 15.44s\n",
      "Epoch 23/50 | Train Loss: 0.2067, Acc: 0.9674 | Val Loss: 0.2031, Acc: 0.9717 | Time: 1m 14.82s\n",
      "Epoch 24/50 | Train Loss: 0.2045, Acc: 0.9698 | Val Loss: 0.1952, Acc: 0.9811 | Time: 1m 15.90s\n"
     ]
    }
   ],
   "source": [
    "\n",
    "train_loss_history = []\n",
    "val_loss_history = []\n",
    "\n",
    "train_acc_history = []\n",
    "val_acc_history = []\n",
    "\n",
    "patience = 3  # Number of epochs to wait for improvement\n",
    "best_val_loss = float('inf')\n",
    "epochs_no_improve = 0\n",
    "\n",
    "for epoch in range(epochs):\n",
    "    start_time = time.time()  # Start timer\n",
    "    \n",
    "    model.train()\n",
    "    train_loss = 0\n",
    "    correct = 0\n",
    "\n",
    "    for X_batch, y_batch, mask_batch in train_loader:\n",
    "        \n",
    "        X_batch = X_batch.to(device)\n",
    "        y_batch = y_batch.to(device)\n",
    "        mask_batch = mask_batch.to(device)\n",
    "\n",
    "        optimizer.zero_grad()\n",
    "        outputs = model(x=X_batch, temporal_mask=mask_batch)\n",
    "        loss = criterion(outputs, y_batch)\n",
    "        loss.backward()\n",
    "        optimizer.step()\n",
    "        \n",
    "\n",
    "        train_loss += loss.item() * X_batch.size(0)\n",
    "        correct += (outputs.argmax(1) == y_batch).sum().item()\n",
    "\n",
    "    train_loss /= len(train_loader.dataset)\n",
    "    train_acc = correct / len(train_loader.dataset)\n",
    "    \n",
    "    train_loss_history.append(train_loss)\n",
    "    train_acc_history.append(train_acc)\n",
    "\n",
    "     # ---------- VALIDATION ----------\n",
    "    model.eval()\n",
    "    val_loss = 0\n",
    "    val_correct = 0\n",
    "    with torch.no_grad():\n",
    "        for X_batch, y_batch, mask_batch in val_loader:\n",
    "            X_batch = X_batch.to(device)\n",
    "            y_batch = y_batch.to(device)\n",
    "            mask_batch = mask_batch.to(device)\n",
    "            \n",
    "            outputs = model(x=X_batch, temporal_mask=mask_batch)\n",
    "            loss = criterion(outputs, y_batch)\n",
    "\n",
    "            val_loss += loss.item() * X_batch.size(0)\n",
    "            val_correct += (outputs.argmax(1) == y_batch).sum().item()\n",
    "\n",
    "    val_loss /= len(val_loader.dataset)\n",
    "    \n",
    "    scheduler.step() # Update learning rate\n",
    "    \n",
    "    val_acc = val_correct / len(val_loader.dataset)\n",
    "    \n",
    "    val_loss_history.append(val_loss)\n",
    "    val_acc_history.append(val_acc)\n",
    "    \n",
    "    end_time = time.time()  # End timer\n",
    "    epoch_time = end_time - start_time\n",
    "    \n",
    "    minutes = int(epoch_time // 60)\n",
    "    seconds = epoch_time % 60\n",
    "\n",
    "    print(f\"Epoch {epoch+1}/{epochs} | Train Loss: {train_loss:.4f}, Acc: {train_acc:.4f} | Val Loss: {val_loss:.4f}, Acc: {val_acc:.4f} | Time: {minutes}m {seconds:.2f}s\")\n",
    "    \n",
    "    # ---------- EARLY STOPPING ----------\n",
    "    if val_loss < best_val_loss:\n",
    "        best_val_loss = val_loss\n",
    "        epochs_no_improve = 0\n",
    "    else:\n",
    "        epochs_no_improve += 1\n",
    "\n",
    "    if epochs_no_improve >= patience:\n",
    "        print(f\"Early stopping triggered at epoch {epoch+1}.\")\n",
    "        break"
   ]
  },
  {
   "cell_type": "code",
   "execution_count": null,
   "id": "898fd116",
   "metadata": {},
   "outputs": [
    {
     "name": "stdout",
     "output_type": "stream",
     "text": [
      "                precision    recall  f1-score   support\n",
      "\n",
      "        squats       0.95      0.96      0.96        85\n",
      "     deadlifts       0.95      1.00      0.98        62\n",
      "shoulder_press       0.98      0.92      0.95        65\n",
      "\n",
      "      accuracy                           0.96       212\n",
      "     macro avg       0.96      0.96      0.96       212\n",
      "  weighted avg       0.96      0.96      0.96       212\n",
      "\n"
     ]
    }
   ],
   "source": [
    "# Switch to eval mode\n",
    "model.eval()\n",
    "\n",
    "# Collect all predictions and true labels\n",
    "all_preds = []\n",
    "all_labels = []\n",
    "\n",
    "with torch.no_grad():\n",
    "    for X_batch, y_batch, mask_batch in test_loader:\n",
    "        X_batch = X_batch.to(device)\n",
    "        y_batch = y_batch.to(device)\n",
    "        mask_batch = mask_batch.to(device)\n",
    "\n",
    "        # If your model uses the mask in forward()\n",
    "        outputs = model(X_batch, mask_batch)\n",
    "\n",
    "        preds = outputs.argmax(1)\n",
    "\n",
    "        all_preds.extend(preds.cpu().numpy())\n",
    "        all_labels.extend(y_batch.cpu().numpy())\n",
    "\n",
    "# Generate classification report\n",
    "report = classification_report(all_labels, all_preds, target_names=['squats', 'deadlifts', 'shoulder_press'])\n",
    "print(report)"
   ]
  },
  {
   "cell_type": "code",
   "execution_count": null,
   "id": "b29591de",
   "metadata": {},
   "outputs": [
    {
     "name": "stdout",
     "output_type": "stream",
     "text": [
      "[[82  2  1]\n",
      " [ 0 62  0]\n",
      " [ 4  1 60]]\n"
     ]
    },
    {
     "data": {
      "image/png": "[encoded data removed]",
      "text/plain": [
       "<Figure size 640x480 with 2 Axes>"
      ]
     },
     "metadata": {},
     "output_type": "display_data"
    }
   ],
   "source": [
    "matrix = confusion_matrix(all_labels, all_preds)\n",
    "print(matrix)\n",
    "\n",
    "class_names = ['Squats', 'Deadlifts', 'Shoulder Press']\n",
    "\n",
    "ConfusionMatrixDisplay.from_predictions(all_labels, all_preds,\n",
    "                                        display_labels=class_names,\n",
    "                                        cmap='Blues')\n",
    "plt.title(\"Confusion Matrix\")\n",
    "plt.show()"
   ]
  },
  {
   "cell_type": "code",
   "execution_count": null,
   "id": "857eb6b6",
   "metadata": {},
   "outputs": [
    {
     "data": {
      "image/png": "[encoded data removed]",
      "text/plain": [
       "<Figure size 1000x500 with 1 Axes>"
      ]
     },
     "metadata": {},
     "output_type": "display_data"
    }
   ],
   "source": [
    "# Plot training and validation loss\n",
    "plt.figure(figsize=(10, 5))\n",
    "plt.plot(train_loss_history, label='Training loss')\n",
    "plt.plot(val_loss_history, label='Validation loss')\n",
    "plt.xlabel('Epoch')\n",
    "plt.ylabel('Loss')\n",
    "plt.legend()\n",
    "plt.show()"
   ]
  },
  {
   "cell_type": "code",
   "execution_count": null,
   "id": "4ac83c83",
   "metadata": {},
   "outputs": [
    {
     "data": {
      "image/png": "[encoded data removed]",
      "text/plain": [
       "<Figure size 1000x500 with 1 Axes>"
      ]
     },
     "metadata": {},
     "output_type": "display_data"
    }
   ],
   "source": [
    "plt.figure(figsize=(10, 5))\n",
    "plt.plot(train_acc_history, label='Training accuracy')\n",
    "plt.plot(val_acc_history, label='Validation accuracy')\n",
    "plt.xlabel('Epoch')\n",
    "plt.ylabel('Accuracy')\n",
    "plt.legend()\n",
    "plt.show()"
   ]
  },
  {
   "cell_type": "code",
   "execution_count": null,
   "id": "13316e06",
   "metadata": {},
   "outputs": [],
   "source": [
    "# Save model to disk\n",
    "# OLD\n",
    "# torch.save(model.state_dict(), '../../models/hierarchical transformer/hierarchical_transformer_v2_weights_2025-06-23_complete.pth')"
   ]
  },
  {
   "cell_type": "code",
   "execution_count": null,
   "id": "b7002964",
   "metadata": {},
   "outputs": [],
   "source": [
    "model_name = \"hierarchical_transformer\"\n",
    "filename = generate_model_filename(base_name=model_name, params=parameters)\n",
    "# Save\n",
    "save_path = os.path.join(\"../../models\", model_name, filename)\n",
    "os.makedirs(os.path.dirname(save_path), exist_ok=True)\n",
    "torch.save(model.state_dict(), save_path)\n"
   ]
  },
  {
   "cell_type": "code",
   "execution_count": null,
   "id": "bd954024",
   "metadata": {},
   "outputs": [],
   "source": []
  }
 ],
 "metadata": {
  "kernelspec": {
   "display_name": "thesis",
   "language": "python",
   "name": "python3"
  },
  "language_info": {
   "codemirror_mode": {
    "name": "ipython",
    "version": 3
   },
   "file_extension": ".py",
   "mimetype": "text/x-python",
   "name": "python",
   "nbconvert_exporter": "python",
   "pygments_lexer": "ipython3",
   "version": "3.12.10"
  }
 },
 "nbformat": 4,
 "nbformat_minor": 5
}
