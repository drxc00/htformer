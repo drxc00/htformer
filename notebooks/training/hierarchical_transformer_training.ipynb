{
 "cells": [
  {
   "cell_type": "code",
   "execution_count": 1,
   "id": "abecd419",
   "metadata": {},
   "outputs": [],
   "source": [
    "import sys\n",
    "import os\n",
    "\n",
    "# Go up to project root (from inside training/)\n",
    "project_root = os.path.abspath(os.path.join(os.getcwd(), '../..'))\n",
    "if project_root not in sys.path:\n",
    "    sys.path.append(project_root)"
   ]
  },
  {
   "cell_type": "code",
   "execution_count": 2,
   "id": "e114dec2",
   "metadata": {},
   "outputs": [],
   "source": [
    "import numpy as np\n",
    "import torch\n",
    "import torch.nn as nn\n",
    "import gc\n",
    "import random\n",
    "from core.models.hierarchical_transformer import HierarchicalTransformer\n",
    "from core.utils import create_transformer_dataset, generate_model_filename\n",
    "import torch.optim as optim\n",
    "from torch.utils.data import TensorDataset, DataLoader\n",
    "from sklearn.model_selection import train_test_split\n",
    "from sklearn.metrics import confusion_matrix, classification_report, ConfusionMatrixDisplay\n",
    "import matplotlib.pyplot as plt\n",
    "import os\n"
   ]
  },
  {
   "cell_type": "code",
   "execution_count": 3,
   "id": "de693c66",
   "metadata": {},
   "outputs": [
    {
     "name": "stdout",
     "output_type": "stream",
     "text": [
      "Clean slate initialized!\n"
     ]
    }
   ],
   "source": [
    "def initial_cleanup():\n",
    "    # Memory cleanup\n",
    "    if torch.cuda.is_available():\n",
    "        torch.cuda.empty_cache()\n",
    "        torch.cuda.ipc_collect()\n",
    "    gc.collect()\n",
    "    \n",
    "    # Set random seeds\n",
    "    random.seed(69)\n",
    "    np.random.seed(69)\n",
    "    torch.manual_seed(69)\n",
    "    if torch.cuda.is_available():\n",
    "        torch.cuda.manual_seed(69)\n",
    "        torch.cuda.manual_seed_all(69)\n",
    "    torch.backends.cudnn.deterministic = True\n",
    "    torch.backends.cudnn.benchmark = False\n",
    "    \n",
    "    print(\"Clean slate initialized!\")\n",
    "\n",
    "# Call this at the top of your notebook\n",
    "initial_cleanup()"
   ]
  },
  {
   "cell_type": "code",
   "execution_count": 4,
   "id": "19631198",
   "metadata": {},
   "outputs": [
    {
     "name": "stdout",
     "output_type": "stream",
     "text": [
      "Using max_frames = 200 (95.0th percentile)\n",
      "Sequence length stats - Min: 0, Max: 404\n",
      "Filtering out sample with length 236\n",
      "Filtering out sample with length 236\n",
      "Filtering out sample with length 267\n",
      "Filtering out sample with length 267\n",
      "Filtering out sample with length 237\n",
      "Filtering out sample with length 237\n",
      "Filtering out sample with length 248\n",
      "Filtering out sample with length 248\n",
      "Filtering out sample with length 207\n",
      "Filtering out sample with length 207\n",
      "Filtering out sample with length 219\n",
      "Filtering out sample with length 219\n",
      "Filtering out sample with length 280\n",
      "Filtering out sample with length 280\n",
      "Filtering out sample with length 249\n",
      "Filtering out sample with length 249\n",
      "Filtering out sample with length 247\n",
      "Filtering out sample with length 247\n",
      "Filtering out sample with length 210\n",
      "Filtering out sample with length 210\n",
      "Filtering out sample with length 215\n",
      "Filtering out sample with length 215\n",
      "Filtering out sample with length 283\n",
      "Filtering out sample with length 283\n",
      "Filtering out sample with length 247\n",
      "Filtering out sample with length 247\n",
      "Filtering out sample with length 203\n",
      "Filtering out sample with length 203\n",
      "Filtering out sample with length 281\n",
      "Filtering out sample with length 281\n",
      "Filtering out sample with length 208\n",
      "Filtering out sample with length 208\n",
      "Filtering out sample with length 229\n",
      "Filtering out sample with length 229\n",
      "Filtering out sample with length 309\n",
      "Filtering out sample with length 309\n",
      "Filtering out sample with length 236\n",
      "Filtering out sample with length 236\n",
      "Filtering out sample with length 404\n",
      "Filtering out sample with length 404\n",
      "Filtering out sample with length 256\n",
      "Filtering out sample with length 256\n",
      "Filtering out sample with length 230\n",
      "Filtering out sample with length 230\n",
      "Filtering out sample with length 236\n",
      "Filtering out sample with length 236\n",
      "Filtering out sample with length 217\n",
      "Filtering out sample with length 217\n",
      "Filtering out sample with length 261\n",
      "Filtering out sample with length 261\n",
      "Filtering out sample with length 222\n",
      "Filtering out sample with length 315\n",
      "Filtering out sample with length 205\n",
      "Filtering out sample with length 216\n",
      "Filtering out sample with length 201\n",
      "Filtering out sample with length 238\n",
      "Filtering out sample with length 305\n",
      "Filtering out sample with length 263\n",
      "Filtering out sample with length 237\n",
      "Filtering out sample with length 212\n",
      "Filtering out sample with length 240\n",
      "Filtering out sample with length 331\n",
      "Filtering out sample with length 339\n",
      "Filtering out sample with length 309\n",
      "Filtering out sample with length 209\n",
      "Filtering out sample with length 207\n",
      "Filtering out sample with length 378\n",
      "Filtering out sample with length 342\n",
      "Filtering out sample with length 207\n",
      "Filtering out sample with length 221\n",
      "Filtering out sample with length 315\n",
      "Filtering out sample with length 263\n",
      "Filtering out sample with length 305\n",
      "Filtering out sample with length 205\n",
      "Filtering out sample with length 263\n",
      "Filtering out sample with length 212\n",
      "Filtering out sample with length 266\n",
      "Filtering out sample with length 331\n",
      "Filtering out sample with length 201\n",
      "Filtering out sample with length 240\n",
      "Filtering out sample with length 201\n",
      "Filtering out sample with length 205\n",
      "Filtering out sample with length 235\n",
      "Filtering out sample with length 262\n",
      "Filtering out sample with length 209\n",
      "Filtering out sample with length 221\n",
      "Filtering out sample with length 218\n",
      "Filtering out sample with length 339\n",
      "Filtering out sample with length 342\n",
      "Filtering out sample with length 309\n",
      "Filtering out sample with length 238\n",
      "Filtering out sample with length 266\n",
      "Filtering out sample with length 237\n",
      "Filtering out sample with length 216\n",
      "Filtering out sample with length 235\n",
      "Filtering out sample with length 262\n",
      "Filtering out sample with length 222\n",
      "Filtering out sample with length 249\n",
      "Filtering out sample with length 201\n",
      "Filtering out sample with length 205\n",
      "Filtering out sample with length 218\n",
      "Filtering out sample with length 249\n",
      "Filtering out sample with length 378\n",
      "Filtering out sample with length 263\n",
      "Filtering out sample with length 226\n",
      "Filtering out sample with length 226\n",
      "Filtering out sample with length 226\n",
      "Filtering out sample with length 226\n",
      "Filtering out sample with length 201\n",
      "Filtering out sample with length 201\n",
      "Filtering out sample with length 214\n",
      "Filtering out sample with length 214\n",
      "Kept 2112 out of 2224 samples\n",
      "Final dataset shape:\n",
      "X: (2112, 200, 33, 4)\n",
      "y: (2112,)\n",
      "attention_masks: (2112, 200)\n",
      "sequence_lengths: (2112,)\n",
      "Kept 2112 out of 2224 samples\n",
      "Number of samples filtered out due to length: 112\n"
     ]
    }
   ],
   "source": [
    "X_np, y_np, attention_masks_np, sequence_lengths_np = create_transformer_dataset(data_dir=\"../../data/keypoints\",verbose=False)"
   ]
  },
  {
   "cell_type": "code",
   "execution_count": 5,
   "id": "6d89d2c2",
   "metadata": {},
   "outputs": [],
   "source": [
    "# Convert to PyTorch tensors\n",
    "X_np = X_np[:, :, :, :3]  # shape: (N, F, J, 3)\n",
    "attention_masks_np = attention_masks_np  # shape: (N, F)\n",
    "\n",
    "# First split: TrainVal vs Test\n",
    "X_temp, X_test, y_temp, y_test, mask_temp, mask_test = train_test_split(\n",
    "    X_np, y_np, attention_masks_np, \n",
    "    test_size=0.1, random_state=69, stratify=y_np\n",
    ")\n",
    "\n",
    "# Second split: Train vs Val\n",
    "val_ratio = 0.1 / 0.9  # same as before\n",
    "X_train, X_val, y_train, y_val, mask_train, mask_val = train_test_split(\n",
    "    X_temp, y_temp, mask_temp, \n",
    "    test_size=val_ratio, random_state=69, stratify=y_temp\n",
    ")\n",
    "\n",
    "# Convert to tensors\n",
    "X_train = torch.from_numpy(X_train).float()\n",
    "X_val = torch.from_numpy(X_val).float()\n",
    "X_test = torch.from_numpy(X_test).float()\n",
    "\n",
    "y_train = torch.from_numpy(y_train).long()\n",
    "y_val = torch.from_numpy(y_val).long()\n",
    "y_test = torch.from_numpy(y_test).long()\n",
    "\n",
    "mask_train = torch.from_numpy(mask_train).float()\n",
    "mask_val = torch.from_numpy(mask_val).float()\n",
    "mask_test = torch.from_numpy(mask_test).float()\n",
    "\n",
    "# Create datasets\n",
    "train_dataset = TensorDataset(X_train, y_train, mask_train)\n",
    "val_dataset = TensorDataset(X_val, y_val, mask_val)\n",
    "test_dataset = TensorDataset(X_test, y_test, mask_test)\n",
    "\n",
    "# Create dataloaders\n",
    "train_loader = DataLoader(train_dataset, batch_size=16, shuffle=True)\n",
    "val_loader = DataLoader(val_dataset, batch_size=16)\n",
    "test_loader = DataLoader(test_dataset, batch_size=16)"
   ]
  },
  {
   "cell_type": "code",
   "execution_count": 6,
   "id": "1cc4146b",
   "metadata": {},
   "outputs": [],
   "source": [
    "parameters = dict(\n",
    "    num_joints=33,\n",
    "    num_frames=200,\n",
    "    d_model=128,\n",
    "    nhead=4,\n",
    "    num_spatial_layers=1,\n",
    "    num_temporal_layers=1,\n",
    "    num_classes=3,\n",
    "    dim_feedforward=1024,\n",
    "    dropout=0.35\n",
    ")\n",
    "\n",
    "epochs = 50"
   ]
  },
  {
   "cell_type": "code",
   "execution_count": 7,
   "id": "baddde04",
   "metadata": {},
   "outputs": [],
   "source": [
    "device = torch.device(\"cuda\" if torch.cuda.is_available() else \"cpu\")\n",
    "\n",
    "model = HierarchicalTransformer(**parameters).to(device)\n",
    "\n",
    "criterion = nn.CrossEntropyLoss(label_smoothing=0.02)\n",
    "optimizer = optim.AdamW(model.parameters(), lr=3e-5, weight_decay=1e-4)\n",
    "scheduler = optim.lr_scheduler.CosineAnnealingLR(optimizer, T_max=epochs, eta_min=1e-6)"
   ]
  },
  {
   "cell_type": "code",
   "execution_count": 8,
   "id": "f9413477",
   "metadata": {},
   "outputs": [
    {
     "name": "stderr",
     "output_type": "stream",
     "text": [
      "d:\\Thesis\\thesis\\Lib\\site-packages\\torch\\nn\\modules\\transformer.py:505: UserWarning: The PyTorch API of nested tensors is in prototype stage and will change in the near future. We recommend specifying layout=torch.jagged when constructing a nested tensor, as this layout receives active development, has better operator coverage, and works with torch.compile. (Triggered internally at C:\\actions-runner\\_work\\pytorch\\pytorch\\pytorch\\aten\\src\\ATen\\NestedTensorImpl.cpp:182.)\n",
      "  output = torch._nested_tensor_from_mask(\n"
     ]
    },
    {
     "name": "stdout",
     "output_type": "stream",
     "text": [
      "Epoch 1/50 | Train Loss: 1.0509, Acc: 0.4485 | Val Loss: 0.9910, Acc: 0.6462\n",
      "Epoch 2/50 | Train Loss: 0.9131, Acc: 0.6594 | Val Loss: 0.7390, Acc: 0.7594\n",
      "Epoch 3/50 | Train Loss: 0.6786, Acc: 0.7618 | Val Loss: 0.5058, Acc: 0.8255\n",
      "Epoch 4/50 | Train Loss: 0.5244, Acc: 0.8282 | Val Loss: 0.3913, Acc: 0.9104\n",
      "Epoch 5/50 | Train Loss: 0.4257, Acc: 0.8821 | Val Loss: 0.3247, Acc: 0.9057\n",
      "Epoch 6/50 | Train Loss: 0.3501, Acc: 0.9111 | Val Loss: 0.2654, Acc: 0.9481\n",
      "Epoch 7/50 | Train Loss: 0.3080, Acc: 0.9313 | Val Loss: 0.2617, Acc: 0.9434\n",
      "Epoch 8/50 | Train Loss: 0.2786, Acc: 0.9408 | Val Loss: 0.2379, Acc: 0.9528\n",
      "Epoch 9/50 | Train Loss: 0.2546, Acc: 0.9425 | Val Loss: 0.2291, Acc: 0.9528\n",
      "Epoch 10/50 | Train Loss: 0.2435, Acc: 0.9437 | Val Loss: 0.2343, Acc: 0.9528\n",
      "Epoch 11/50 | Train Loss: 0.2320, Acc: 0.9485 | Val Loss: 0.2092, Acc: 0.9623\n",
      "Epoch 12/50 | Train Loss: 0.2343, Acc: 0.9449 | Val Loss: 0.2106, Acc: 0.9481\n",
      "Epoch 13/50 | Train Loss: 0.2176, Acc: 0.9532 | Val Loss: 0.2105, Acc: 0.9528\n",
      "Epoch 14/50 | Train Loss: 0.2131, Acc: 0.9526 | Val Loss: 0.2021, Acc: 0.9575\n",
      "Epoch 15/50 | Train Loss: 0.2058, Acc: 0.9562 | Val Loss: 0.2191, Acc: 0.9481\n",
      "Epoch 16/50 | Train Loss: 0.2008, Acc: 0.9568 | Val Loss: 0.2338, Acc: 0.9528\n",
      "Epoch 17/50 | Train Loss: 0.1964, Acc: 0.9550 | Val Loss: 0.1892, Acc: 0.9575\n",
      "Epoch 18/50 | Train Loss: 0.1911, Acc: 0.9609 | Val Loss: 0.1850, Acc: 0.9623\n",
      "Epoch 19/50 | Train Loss: 0.1916, Acc: 0.9615 | Val Loss: 0.1809, Acc: 0.9623\n",
      "Epoch 20/50 | Train Loss: 0.1865, Acc: 0.9603 | Val Loss: 0.1927, Acc: 0.9670\n",
      "Epoch 21/50 | Train Loss: 0.1816, Acc: 0.9656 | Val Loss: 0.1871, Acc: 0.9670\n",
      "Epoch 22/50 | Train Loss: 0.1848, Acc: 0.9603 | Val Loss: 0.1736, Acc: 0.9670\n",
      "Epoch 23/50 | Train Loss: 0.1793, Acc: 0.9674 | Val Loss: 0.1802, Acc: 0.9670\n",
      "Epoch 24/50 | Train Loss: 0.1769, Acc: 0.9692 | Val Loss: 0.1669, Acc: 0.9717\n",
      "Epoch 25/50 | Train Loss: 0.1755, Acc: 0.9692 | Val Loss: 0.1682, Acc: 0.9811\n",
      "Epoch 26/50 | Train Loss: 0.1789, Acc: 0.9621 | Val Loss: 0.1743, Acc: 0.9670\n",
      "Epoch 27/50 | Train Loss: 0.1738, Acc: 0.9674 | Val Loss: 0.1664, Acc: 0.9858\n",
      "Epoch 28/50 | Train Loss: 0.1737, Acc: 0.9686 | Val Loss: 0.1636, Acc: 0.9717\n",
      "Epoch 29/50 | Train Loss: 0.1725, Acc: 0.9692 | Val Loss: 0.1732, Acc: 0.9717\n",
      "Epoch 30/50 | Train Loss: 0.1699, Acc: 0.9704 | Val Loss: 0.1618, Acc: 0.9717\n",
      "Epoch 31/50 | Train Loss: 0.1685, Acc: 0.9692 | Val Loss: 0.1808, Acc: 0.9623\n",
      "Epoch 32/50 | Train Loss: 0.1680, Acc: 0.9716 | Val Loss: 0.1757, Acc: 0.9670\n",
      "Epoch 33/50 | Train Loss: 0.1670, Acc: 0.9722 | Val Loss: 0.1833, Acc: 0.9623\n",
      "Early stopping triggered at epoch 33.\n"
     ]
    }
   ],
   "source": [
    "\n",
    "train_loss_history = []\n",
    "val_loss_history = []\n",
    "\n",
    "train_acc_history = []\n",
    "val_acc_history = []\n",
    "\n",
    "patience = 3  # Number of epochs to wait for improvement\n",
    "best_val_loss = float('inf')\n",
    "epochs_no_improve = 0\n",
    "\n",
    "for epoch in range(epochs):\n",
    "    model.train()\n",
    "    train_loss = 0\n",
    "    correct = 0\n",
    "\n",
    "    for X_batch, y_batch, mask_batch in train_loader:\n",
    "        \n",
    "        X_batch = X_batch.to(device)\n",
    "        y_batch = y_batch.to(device)\n",
    "        mask_batch = mask_batch.to(device)\n",
    "\n",
    "        optimizer.zero_grad()\n",
    "        outputs = model(x=X_batch, temporal_mask=mask_batch)\n",
    "        loss = criterion(outputs, y_batch)\n",
    "        loss.backward()\n",
    "        optimizer.step()\n",
    "        \n",
    "\n",
    "        train_loss += loss.item() * X_batch.size(0)\n",
    "        correct += (outputs.argmax(1) == y_batch).sum().item()\n",
    "\n",
    "    train_loss /= len(train_loader.dataset)\n",
    "    train_acc = correct / len(train_loader.dataset)\n",
    "    \n",
    "    train_loss_history.append(train_loss)\n",
    "    train_acc_history.append(train_acc)\n",
    "\n",
    "     # ---------- VALIDATION ----------\n",
    "    model.eval()\n",
    "    val_loss = 0\n",
    "    val_correct = 0\n",
    "    with torch.no_grad():\n",
    "        for X_batch, y_batch, mask_batch in val_loader:\n",
    "            X_batch = X_batch.to(device)\n",
    "            y_batch = y_batch.to(device)\n",
    "            mask_batch = mask_batch.to(device)\n",
    "            \n",
    "            outputs = model(x=X_batch, temporal_mask=mask_batch)\n",
    "            loss = criterion(outputs, y_batch)\n",
    "\n",
    "            val_loss += loss.item() * X_batch.size(0)\n",
    "            val_correct += (outputs.argmax(1) == y_batch).sum().item()\n",
    "\n",
    "    val_loss /= len(val_loader.dataset)\n",
    "    \n",
    "    scheduler.step() # Update learning rate\n",
    "    \n",
    "    val_acc = val_correct / len(val_loader.dataset)\n",
    "    \n",
    "    val_loss_history.append(val_loss)\n",
    "    val_acc_history.append(val_acc)\n",
    "\n",
    "    print(f\"Epoch {epoch+1}/{epochs} | Train Loss: {train_loss:.4f}, Acc: {train_acc:.4f} | Val Loss: {val_loss:.4f}, Acc: {val_acc:.4f}\")\n",
    "    \n",
    "    # ---------- EARLY STOPPING ----------\n",
    "    if val_loss < best_val_loss:\n",
    "        best_val_loss = val_loss\n",
    "        epochs_no_improve = 0\n",
    "    else:\n",
    "        epochs_no_improve += 1\n",
    "\n",
    "    if epochs_no_improve >= patience:\n",
    "        print(f\"Early stopping triggered at epoch {epoch+1}.\")\n",
    "        break"
   ]
  },
  {
   "cell_type": "code",
   "execution_count": 9,
   "id": "898fd116",
   "metadata": {},
   "outputs": [
    {
     "name": "stdout",
     "output_type": "stream",
     "text": [
      "                precision    recall  f1-score   support\n",
      "\n",
      "        squats       0.95      0.92      0.93        85\n",
      "     deadlifts       0.95      1.00      0.98        62\n",
      "shoulder_press       0.92      0.92      0.92        65\n",
      "\n",
      "      accuracy                           0.94       212\n",
      "     macro avg       0.94      0.95      0.94       212\n",
      "  weighted avg       0.94      0.94      0.94       212\n",
      "\n"
     ]
    }
   ],
   "source": [
    "# Switch to eval mode\n",
    "model.eval()\n",
    "\n",
    "# Collect all predictions and true labels\n",
    "all_preds = []\n",
    "all_labels = []\n",
    "\n",
    "with torch.no_grad():\n",
    "    for X_batch, y_batch, mask_batch in test_loader:\n",
    "        X_batch = X_batch.to(device)\n",
    "        y_batch = y_batch.to(device)\n",
    "        mask_batch = mask_batch.to(device)\n",
    "\n",
    "        # If your model uses the mask in forward()\n",
    "        outputs = model(X_batch, mask_batch)\n",
    "\n",
    "        preds = outputs.argmax(1)\n",
    "\n",
    "        all_preds.extend(preds.cpu().numpy())\n",
    "        all_labels.extend(y_batch.cpu().numpy())\n",
    "\n",
    "# Generate classification report\n",
    "report = classification_report(all_labels, all_preds, target_names=['squats', 'deadlifts', 'shoulder_press'])\n",
    "print(report)"
   ]
  },
  {
   "cell_type": "code",
   "execution_count": 10,
   "id": "b29591de",
   "metadata": {},
   "outputs": [
    {
     "name": "stdout",
     "output_type": "stream",
     "text": [
      "[[78  2  5]\n",
      " [ 0 62  0]\n",
      " [ 4  1 60]]\n"
     ]
    },
    {
     "data": {
      "image/png": "[encoded data removed]",
      "text/plain": [
       "<Figure size 640x480 with 2 Axes>"
      ]
     },
     "metadata": {},
     "output_type": "display_data"
    }
   ],
   "source": [
    "matrix = confusion_matrix(all_labels, all_preds)\n",
    "print(matrix)\n",
    "\n",
    "class_names = ['Squats', 'Deadlifts', 'Shoulder Press']\n",
    "\n",
    "ConfusionMatrixDisplay.from_predictions(all_labels, all_preds,\n",
    "                                        display_labels=class_names,\n",
    "                                        cmap='Blues')\n",
    "plt.title(\"Confusion Matrix\")\n",
    "plt.show()"
   ]
  },
  {
   "cell_type": "code",
   "execution_count": 11,
   "id": "857eb6b6",
   "metadata": {},
   "outputs": [
    {
     "data": {
      "image/png": "[encoded data removed]",
      "text/plain": [
       "<Figure size 1000x500 with 1 Axes>"
      ]
     },
     "metadata": {},
     "output_type": "display_data"
    }
   ],
   "source": [
    "# Plot training and validation loss\n",
    "plt.figure(figsize=(10, 5))\n",
    "plt.plot(train_loss_history, label='Training loss')\n",
    "plt.plot(val_loss_history, label='Validation loss')\n",
    "plt.xlabel('Epoch')\n",
    "plt.ylabel('Loss')\n",
    "plt.legend()\n",
    "plt.show()"
   ]
  },
  {
   "cell_type": "code",
   "execution_count": 12,
   "id": "4ac83c83",
   "metadata": {},
   "outputs": [
    {
     "data": {
      "image/png": "[encoded data removed]",
      "text/plain": [
       "<Figure size 1000x500 with 1 Axes>"
      ]
     },
     "metadata": {},
     "output_type": "display_data"
    }
   ],
   "source": [
    "plt.figure(figsize=(10, 5))\n",
    "plt.plot(train_acc_history, label='Training accuracy')\n",
    "plt.plot(val_acc_history, label='Validation accuracy')\n",
    "plt.xlabel('Epoch')\n",
    "plt.ylabel('Accuracy')\n",
    "plt.legend()\n",
    "plt.show()"
   ]
  },
  {
   "cell_type": "code",
   "execution_count": 13,
   "id": "13316e06",
   "metadata": {},
   "outputs": [],
   "source": [
    "# Save model to disk\n",
    "# OLD\n",
    "# torch.save(model.state_dict(), '../../models/hierarchical transformer/hierarchical_transformer_v2_weights_2025-06-23_complete.pth')"
   ]
  },
  {
   "cell_type": "code",
   "execution_count": 14,
   "id": "b7002964",
   "metadata": {},
   "outputs": [],
   "source": [
    "model_name = \"hierarchical_transformer\"\n",
    "filename = generate_model_filename(base_name=model_name, params=parameters)\n",
    "# Save\n",
    "save_path = os.path.join(\"../../models\", model_name, filename)\n",
    "os.makedirs(os.path.dirname(save_path), exist_ok=True)\n",
    "torch.save(model.state_dict(), save_path)\n"
   ]
  },
  {
   "cell_type": "code",
   "execution_count": null,
   "id": "bd954024",
   "metadata": {},
   "outputs": [],
   "source": []
  }
 ],
 "metadata": {
  "kernelspec": {
   "display_name": "thesis",
   "language": "python",
   "name": "python3"
  },
  "language_info": {
   "codemirror_mode": {
    "name": "ipython",
    "version": 3
   },
   "file_extension": ".py",
   "mimetype": "text/x-python",
   "name": "python",
   "nbconvert_exporter": "python",
   "pygments_lexer": "ipython3",
   "version": "3.12.10"
  }
 },
 "nbformat": 4,
 "nbformat_minor": 5
}
