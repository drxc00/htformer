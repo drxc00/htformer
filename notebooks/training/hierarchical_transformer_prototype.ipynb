{
 "cells": [
  {
   "cell_type": "code",
   "execution_count": null,
   "metadata": {},
   "outputs": [],
   "source": [
    "import sys\n",
    "import os\n",
    "\n",
    "# Go up to project root (from inside training/)\n",
    "project_root = os.path.abspath(os.path.join(os.getcwd(), '../..'))\n",
    "if project_root not in sys.path:\n",
    "    sys.path.append(project_root)"
   ]
  },
  {
   "cell_type": "code",
   "execution_count": null,
   "metadata": {},
   "outputs": [],
   "source": [
    "import numpy as np\n",
    "import torch\n",
    "import torch.nn as nn\n",
    "from core.models.hierarchical_transformer_prototype import HierarchicalTransformer\n",
    "import gc\n",
    "import random\n",
    "# Training\n",
    "import torch.optim as optim\n",
    "from torch.utils.data import TensorDataset, DataLoader\n",
    "from sklearn.model_selection import train_test_split\n",
    "from sklearn.metrics import classification_report, confusion_matrix\n",
    "import matplotlib.pyplot as plt"
   ]
  },
  {
   "cell_type": "code",
   "execution_count": 2,
   "metadata": {},
   "outputs": [
    {
     "name": "stdout",
     "output_type": "stream",
     "text": [
      "Clean slate initialized!\n"
     ]
    }
   ],
   "source": [
    "def initial_cleanup():\n",
    "    # Memory cleanup\n",
    "    if torch.cuda.is_available():\n",
    "        torch.cuda.empty_cache()\n",
    "        torch.cuda.ipc_collect()\n",
    "    gc.collect()\n",
    "    \n",
    "    # Set random seeds\n",
    "    random.seed(69)\n",
    "    np.random.seed(69)\n",
    "    torch.manual_seed(69)\n",
    "    if torch.cuda.is_available():\n",
    "        torch.cuda.manual_seed(69)\n",
    "        torch.cuda.manual_seed_all(69)\n",
    "    torch.backends.cudnn.deterministic = True\n",
    "    torch.backends.cudnn.benchmark = False\n",
    "    \n",
    "    print(\"Clean slate initialized!\")\n",
    "\n",
    "# Call this at the top of your notebook\n",
    "initial_cleanup()"
   ]
  },
  {
   "cell_type": "code",
   "execution_count": null,
   "metadata": {},
   "outputs": [
    {
     "name": "stdout",
     "output_type": "stream",
     "text": [
      "(1992, 378, 33, 3) (1992,)\n"
     ]
    }
   ],
   "source": [
    "# Load data\n",
    "data = np.load('../../data/keypoints/deadlifts_squats_shoulder_press_2025-06-20.npz')\n",
    "X = data['X'][:, :, :, :3] \n",
    "y = data['y']\n",
    "print(X.shape, y.shape)"
   ]
  },
  {
   "cell_type": "markdown",
   "metadata": {},
   "source": [
    "## Training the model"
   ]
  },
  {
   "cell_type": "code",
   "execution_count": null,
   "metadata": {},
   "outputs": [],
   "source": [
    "data = np.load('../../data/keypoints/deadlifts_squats_shoulder_press_2025-06-03.npz')\n",
    "X = data['X'][:, :, :, :3]  # drop visibility\n",
    "y = data['y']\n",
    "\n",
    "# Convert to PyTorch tensors\n",
    "X_tensor = torch.tensor(X).float()\n",
    "y_tensor = torch.tensor(y).long()\n",
    "\n",
    "\n",
    "X_temp, X_test, y_temp, y_test = train_test_split(X_tensor, y_tensor, test_size=0.1, random_state=69)\n",
    "\n",
    "val_ratio = 0.1 / 0.9  # ≈ 0.1111 of remaining\n",
    "X_train, X_val, y_train, y_val = train_test_split(X_temp, y_temp, test_size=val_ratio, random_state=69)\n",
    "\n",
    "# Create dataloaders\n",
    "train_dataset = TensorDataset(X_train, y_train)\n",
    "val_dataset = TensorDataset(X_val, y_val)\n",
    "test_dataset = TensorDataset(X_test, y_test)\n",
    "\n",
    "\n",
    "train_loader = DataLoader(train_dataset, batch_size=16, shuffle=True)\n",
    "val_loader = DataLoader(val_dataset, batch_size=16)\n",
    "test_loader = DataLoader(test_dataset, batch_size=16)"
   ]
  },
  {
   "cell_type": "code",
   "execution_count": 14,
   "metadata": {},
   "outputs": [
    {
     "data": {
      "text/plain": [
       "tensor([0, 1, 2])"
      ]
     },
     "execution_count": 14,
     "metadata": {},
     "output_type": "execute_result"
    }
   ],
   "source": [
    "torch.unique(y_tensor)"
   ]
  },
  {
   "cell_type": "code",
   "execution_count": 15,
   "metadata": {},
   "outputs": [],
   "source": [
    "device = torch.device(\"cuda\" if torch.cuda.is_available() else \"cpu\")\n",
    "\n",
    "model = HierarchicalTransformer(\n",
    "    num_joints=33,\n",
    "    num_frames=378,\n",
    "    d_model=64,\n",
    "    dim_feedforward=512,\n",
    "    nhead=4,\n",
    "    num_spatial_layers=1,\n",
    "    num_temporal_layers=1,\n",
    "    num_classes=len(torch.unique(y_tensor))\n",
    ").to(device)\n",
    "\n",
    "criterion = nn.CrossEntropyLoss()\n",
    "optimizer = optim.Adam(model.parameters(), lr=1e-4)"
   ]
  },
  {
   "cell_type": "code",
   "execution_count": null,
   "metadata": {},
   "outputs": [
    {
     "name": "stdout",
     "output_type": "stream",
     "text": [
      "Epoch 1/64 | Train Loss: 1.1054, Acc: 0.3653 | Val Loss: 1.0774, Acc: 0.4118\n",
      "Epoch 2/64 | Train Loss: 1.0841, Acc: 0.3998 | Val Loss: 1.0651, Acc: 0.4363\n",
      "Epoch 3/64 | Train Loss: 1.0561, Acc: 0.4742 | Val Loss: 1.0111, Acc: 0.4167\n",
      "Epoch 4/64 | Train Loss: 0.9530, Acc: 0.5800 | Val Loss: 0.8083, Acc: 0.7451\n",
      "Epoch 5/64 | Train Loss: 0.7716, Acc: 0.7472 | Val Loss: 0.6272, Acc: 0.9167\n",
      "Epoch 6/64 | Train Loss: 0.6301, Acc: 0.8413 | Val Loss: 0.5318, Acc: 0.8333\n",
      "Epoch 7/64 | Train Loss: 0.5391, Acc: 0.9010 | Val Loss: 0.4522, Acc: 0.8873\n",
      "Epoch 8/64 | Train Loss: 0.4717, Acc: 0.9010 | Val Loss: 0.4004, Acc: 0.9167\n",
      "Epoch 9/64 | Train Loss: 0.4206, Acc: 0.9176 | Val Loss: 0.3663, Acc: 0.9216\n",
      "Epoch 10/64 | Train Loss: 0.3934, Acc: 0.9164 | Val Loss: 0.3714, Acc: 0.9069\n",
      "Epoch 11/64 | Train Loss: 0.3511, Acc: 0.9244 | Val Loss: 0.3137, Acc: 0.9314\n",
      "Epoch 12/64 | Train Loss: 0.3254, Acc: 0.9293 | Val Loss: 0.3169, Acc: 0.9118\n",
      "Epoch 13/64 | Train Loss: 0.2987, Acc: 0.9311 | Val Loss: 0.2808, Acc: 0.9461\n",
      "Epoch 14/64 | Train Loss: 0.2836, Acc: 0.9354 | Val Loss: 0.2623, Acc: 0.9461\n",
      "Epoch 15/64 | Train Loss: 0.2645, Acc: 0.9373 | Val Loss: 0.2678, Acc: 0.9216\n",
      "Epoch 16/64 | Train Loss: 0.2501, Acc: 0.9446 | Val Loss: 0.2413, Acc: 0.9510\n",
      "Epoch 17/64 | Train Loss: 0.2359, Acc: 0.9483 | Val Loss: 0.2414, Acc: 0.9314\n",
      "Epoch 18/64 | Train Loss: 0.2318, Acc: 0.9459 | Val Loss: 0.2255, Acc: 0.9559\n",
      "Epoch 19/64 | Train Loss: 0.2129, Acc: 0.9483 | Val Loss: 0.2084, Acc: 0.9559\n",
      "Epoch 20/64 | Train Loss: 0.2054, Acc: 0.9514 | Val Loss: 0.2026, Acc: 0.9657\n",
      "Epoch 21/64 | Train Loss: 0.1948, Acc: 0.9545 | Val Loss: 0.2120, Acc: 0.9510\n",
      "Epoch 22/64 | Train Loss: 0.1904, Acc: 0.9533 | Val Loss: 0.1975, Acc: 0.9657\n",
      "Epoch 23/64 | Train Loss: 0.1826, Acc: 0.9520 | Val Loss: 0.1883, Acc: 0.9510\n",
      "Epoch 24/64 | Train Loss: 0.1756, Acc: 0.9569 | Val Loss: 0.1788, Acc: 0.9559\n",
      "Epoch 25/64 | Train Loss: 0.1640, Acc: 0.9619 | Val Loss: 0.1834, Acc: 0.9559\n",
      "Epoch 26/64 | Train Loss: 0.1612, Acc: 0.9643 | Val Loss: 0.1738, Acc: 0.9608\n",
      "Epoch 27/64 | Train Loss: 0.1526, Acc: 0.9674 | Val Loss: 0.1887, Acc: 0.9461\n",
      "Epoch 28/64 | Train Loss: 0.1551, Acc: 0.9594 | Val Loss: 0.1695, Acc: 0.9510\n",
      "Epoch 29/64 | Train Loss: 0.1493, Acc: 0.9594 | Val Loss: 0.1684, Acc: 0.9608\n",
      "Epoch 30/64 | Train Loss: 0.1432, Acc: 0.9637 | Val Loss: 0.1726, Acc: 0.9363\n",
      "Epoch 31/64 | Train Loss: 0.1406, Acc: 0.9649 | Val Loss: 0.1574, Acc: 0.9657\n",
      "Epoch 32/64 | Train Loss: 0.1351, Acc: 0.9649 | Val Loss: 0.1544, Acc: 0.9559\n",
      "Epoch 33/64 | Train Loss: 0.1309, Acc: 0.9631 | Val Loss: 0.1601, Acc: 0.9608\n",
      "Epoch 34/64 | Train Loss: 0.1351, Acc: 0.9631 | Val Loss: 0.1722, Acc: 0.9412\n",
      "Epoch 35/64 | Train Loss: 0.1266, Acc: 0.9662 | Val Loss: 0.1473, Acc: 0.9657\n",
      "Epoch 36/64 | Train Loss: 0.1225, Acc: 0.9649 | Val Loss: 0.1505, Acc: 0.9706\n",
      "Epoch 37/64 | Train Loss: 0.1167, Acc: 0.9711 | Val Loss: 0.1542, Acc: 0.9461\n",
      "Epoch 38/64 | Train Loss: 0.1160, Acc: 0.9686 | Val Loss: 0.1654, Acc: 0.9559\n",
      "Epoch 39/64 | Train Loss: 0.1237, Acc: 0.9619 | Val Loss: 0.1637, Acc: 0.9461\n",
      "Epoch 40/64 | Train Loss: 0.1105, Acc: 0.9680 | Val Loss: 0.1387, Acc: 0.9706\n",
      "Epoch 41/64 | Train Loss: 0.1131, Acc: 0.9680 | Val Loss: 0.1414, Acc: 0.9657\n",
      "Epoch 42/64 | Train Loss: 0.1085, Acc: 0.9668 | Val Loss: 0.1417, Acc: 0.9657\n",
      "Epoch 43/64 | Train Loss: 0.1078, Acc: 0.9699 | Val Loss: 0.1466, Acc: 0.9657\n",
      "Epoch 44/64 | Train Loss: 0.1026, Acc: 0.9723 | Val Loss: 0.1529, Acc: 0.9608\n",
      "Epoch 45/64 | Train Loss: 0.1005, Acc: 0.9736 | Val Loss: 0.1385, Acc: 0.9657\n",
      "Epoch 46/64 | Train Loss: 0.0996, Acc: 0.9729 | Val Loss: 0.1497, Acc: 0.9461\n",
      "Epoch 47/64 | Train Loss: 0.0999, Acc: 0.9686 | Val Loss: 0.1447, Acc: 0.9559\n",
      "Epoch 48/64 | Train Loss: 0.0995, Acc: 0.9686 | Val Loss: 0.1380, Acc: 0.9706\n",
      "Epoch 49/64 | Train Loss: 0.0908, Acc: 0.9754 | Val Loss: 0.1282, Acc: 0.9657\n",
      "Epoch 50/64 | Train Loss: 0.0937, Acc: 0.9729 | Val Loss: 0.1288, Acc: 0.9657\n",
      "Epoch 51/64 | Train Loss: 0.0914, Acc: 0.9729 | Val Loss: 0.1374, Acc: 0.9657\n",
      "Epoch 52/64 | Train Loss: 0.0890, Acc: 0.9729 | Val Loss: 0.1273, Acc: 0.9657\n",
      "Epoch 53/64 | Train Loss: 0.0875, Acc: 0.9779 | Val Loss: 0.1280, Acc: 0.9657\n",
      "Epoch 54/64 | Train Loss: 0.0910, Acc: 0.9699 | Val Loss: 0.1226, Acc: 0.9657\n",
      "Epoch 55/64 | Train Loss: 0.0879, Acc: 0.9717 | Val Loss: 0.1372, Acc: 0.9706\n",
      "Epoch 56/64 | Train Loss: 0.0879, Acc: 0.9705 | Val Loss: 0.1347, Acc: 0.9706\n",
      "Epoch 57/64 | Train Loss: 0.0824, Acc: 0.9779 | Val Loss: 0.1307, Acc: 0.9706\n",
      "Epoch 58/64 | Train Loss: 0.0871, Acc: 0.9711 | Val Loss: 0.1284, Acc: 0.9657\n",
      "Epoch 59/64 | Train Loss: 0.0812, Acc: 0.9766 | Val Loss: 0.1270, Acc: 0.9657\n",
      "Epoch 60/64 | Train Loss: 0.0803, Acc: 0.9736 | Val Loss: 0.1351, Acc: 0.9657\n",
      "Epoch 61/64 | Train Loss: 0.0826, Acc: 0.9705 | Val Loss: 0.1333, Acc: 0.9608\n",
      "Epoch 62/64 | Train Loss: 0.0795, Acc: 0.9699 | Val Loss: 0.1218, Acc: 0.9657\n",
      "Epoch 63/64 | Train Loss: 0.0788, Acc: 0.9742 | Val Loss: 0.1307, Acc: 0.9755\n",
      "Epoch 64/64 | Train Loss: 0.0805, Acc: 0.9742 | Val Loss: 0.1167, Acc: 0.9657\n"
     ]
    }
   ],
   "source": [
    "num_epochs = 64\n",
    "train_loss_history = []\n",
    "val_loss_history = []\n",
    "\n",
    "train_acc_history = []\n",
    "val_acc_history = []\n",
    "\n",
    "for epoch in range(num_epochs):\n",
    "    model.train()\n",
    "    train_loss = 0\n",
    "    correct = 0\n",
    "\n",
    "    for X_batch, y_batch in train_loader:\n",
    "        X_batch = X_batch.to(device)\n",
    "        y_batch = y_batch.to(device)\n",
    "\n",
    "        optimizer.zero_grad()\n",
    "        outputs = model(X_batch)\n",
    "        print(\"DEBUG: \")\n",
    "        print(\"Output: \", outputs.shape)\n",
    "        print(\"Y: \", y_batch.shape)\n",
    "        \n",
    "        loss = criterion(outputs, y_batch)\n",
    "        loss.backward()\n",
    "        optimizer.step()\n",
    "\n",
    "        train_loss += loss.item() * X_batch.size(0)\n",
    "        correct += (outputs.argmax(1) == y_batch).sum().item()\n",
    "\n",
    "    train_loss /= len(train_loader.dataset)\n",
    "    train_acc = correct / len(train_loader.dataset)\n",
    "    \n",
    "    train_loss_history.append(train_loss)\n",
    "    train_acc_history.append(train_acc)\n",
    "\n",
    "    # Validation\n",
    "    model.eval()\n",
    "    val_loss = 0\n",
    "    val_correct = 0\n",
    "    with torch.no_grad():\n",
    "        for X_batch, y_batch in val_loader:\n",
    "            X_batch = X_batch.to(device)\n",
    "            y_batch = y_batch.to(device)\n",
    "\n",
    "            outputs = model(X_batch)\n",
    "            loss = criterion(outputs, y_batch)\n",
    "\n",
    "            val_loss += loss.item() * X_batch.size(0)\n",
    "            val_correct += (outputs.argmax(1) == y_batch).sum().item()\n",
    "\n",
    "    val_loss /= len(val_loader.dataset)\n",
    "    val_acc = val_correct / len(val_loader.dataset)\n",
    "    \n",
    "    val_loss_history.append(val_loss)\n",
    "    val_acc_history.append(val_acc)\n",
    "\n",
    "    print(f\"Epoch {epoch+1}/{num_epochs} | Train Loss: {train_loss:.4f}, Acc: {train_acc:.4f} | Val Loss: {val_loss:.4f}, Acc: {val_acc:.4f}\")"
   ]
  },
  {
   "cell_type": "code",
   "execution_count": null,
   "metadata": {},
   "outputs": [],
   "source": [
    "# save\n",
    "torch.save(model.state_dict(), '../../models/hierarchical transformer/hierarchical_transformer_weights_2025-06-20_small_1.pth')"
   ]
  },
  {
   "cell_type": "code",
   "execution_count": null,
   "metadata": {},
   "outputs": [
    {
     "name": "stdout",
     "output_type": "stream",
     "text": [
      "                precision    recall  f1-score   support\n",
      "\n",
      "        squats       0.95      1.00      0.97        52\n",
      "     deadlifts       1.00      0.98      0.99        60\n",
      "shoulder_press       1.00      0.98      0.99        92\n",
      "\n",
      "      accuracy                           0.99       204\n",
      "     macro avg       0.98      0.99      0.98       204\n",
      "  weighted avg       0.99      0.99      0.99       204\n",
      "\n"
     ]
    }
   ],
   "source": [
    "# Switch to eval mode\n",
    "model.eval()\n",
    "\n",
    "# Collect all predictions and true labels\n",
    "all_preds = []\n",
    "all_labels = []\n",
    "\n",
    "with torch.no_grad():\n",
    "    for X_batch, y_batch in test_loader:\n",
    "        X_batch = X_batch.to(device)\n",
    "        y_batch = y_batch.to(device)\n",
    "\n",
    "        outputs = model(X_batch)\n",
    "        preds = outputs.argmax(1)\n",
    "\n",
    "        all_preds.extend(preds.cpu().numpy())\n",
    "        all_labels.extend(y_batch.cpu().numpy())\n",
    "\n",
    "# Generate classification report\n",
    "report = classification_report(all_labels, all_preds, target_names=['squats', 'deadlifts', \"shoulder_press\"])  # replace with your actual class names\n",
    "print(report)"
   ]
  },
  {
   "cell_type": "code",
   "execution_count": null,
   "metadata": {},
   "outputs": [
    {
     "name": "stdout",
     "output_type": "stream",
     "text": [
      "[[52  0  0]\n",
      " [ 1 59  0]\n",
      " [ 2  0 90]]\n"
     ]
    }
   ],
   "source": [
    "matrix = confusion_matrix(all_labels, all_preds)\n",
    "print(matrix)"
   ]
  },
  {
   "cell_type": "code",
   "execution_count": null,
   "metadata": {},
   "outputs": [
    {
     "data": {
      "image/png": "[encoded data removed]",
      "text/plain": [
       "<Figure size 1000x500 with 1 Axes>"
      ]
     },
     "metadata": {},
     "output_type": "display_data"
    }
   ],
   "source": [
    "# Plot training and validation loss\n",
    "plt.figure(figsize=(10, 5))\n",
    "plt.plot(train_loss_history, label='Training loss')\n",
    "plt.plot(val_loss_history, label='Validation loss')\n",
    "plt.xlabel('Epoch')\n",
    "plt.ylabel('Loss')\n",
    "plt.legend()\n",
    "plt.show()"
   ]
  },
  {
   "cell_type": "code",
   "execution_count": 21,
   "metadata": {},
   "outputs": [
    {
     "data": {
      "image/png": "[encoded data removed]",
      "text/plain": [
       "<Figure size 1000x500 with 1 Axes>"
      ]
     },
     "metadata": {},
     "output_type": "display_data"
    }
   ],
   "source": [
    "plt.figure(figsize=(10, 5))\n",
    "plt.plot(train_acc_history, label='Training accuracy')\n",
    "plt.plot(val_acc_history, label='Validation accuracy')\n",
    "plt.xlabel('Epoch')\n",
    "plt.ylabel('Accuracy')\n",
    "plt.legend()\n",
    "plt.show()"
   ]
  },
  {
   "cell_type": "code",
   "execution_count": null,
   "metadata": {},
   "outputs": [],
   "source": []
  }
 ],
 "metadata": {
  "kernelspec": {
   "display_name": "thesis",
   "language": "python",
   "name": "python3"
  },
  "language_info": {
   "codemirror_mode": {
    "name": "ipython",
    "version": 3
   },
   "file_extension": ".py",
   "mimetype": "text/x-python",
   "name": "python",
   "nbconvert_exporter": "python",
   "pygments_lexer": "ipython3",
   "version": "3.12.10"
  }
 },
 "nbformat": 4,
 "nbformat_minor": 2
}
