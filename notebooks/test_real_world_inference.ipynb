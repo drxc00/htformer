{
 "cells": [
  {
   "cell_type": "code",
   "execution_count": 1,
   "id": "2c0159ed",
   "metadata": {},
   "outputs": [],
   "source": [
    "import sys\n",
    "import os\n",
    "\n",
    "# Go up to project root (from inside training/)\n",
    "project_root = os.path.abspath(os.path.join(os.getcwd(), '../.'))\n",
    "if project_root not in sys.path:\n",
    "    sys.path.append(project_root)"
   ]
  },
  {
   "cell_type": "code",
   "execution_count": 2,
   "id": "26cdf638",
   "metadata": {},
   "outputs": [],
   "source": [
    "from core.utils import process_sample\n",
    "from core.models.base_transformer_model import SimpleTransformerEncoder as BaseTransformerModel\n",
    "from core.models.hierarchical_transformer import HierarchicalTransformer\n",
    "import torch\n",
    "import numpy as np\n",
    "import os"
   ]
  },
  {
   "cell_type": "code",
   "execution_count": 3,
   "id": "4abead6e",
   "metadata": {},
   "outputs": [],
   "source": [
    "# Initialize the models\n",
    "htformer_weights = \".././models/final/hierarchical_transformer_f201_d64_h2_s1_t1_do0.1_20250701_2251.pth\"\n",
    "stformer_weights = \".././models/final/base_hierarchical_transformer_f201_d64_h2_do0.1_20250702_0105.pth\""
   ]
  },
  {
   "cell_type": "code",
   "execution_count": 4,
   "id": "a35d9296",
   "metadata": {},
   "outputs": [],
   "source": [
    "device = \"cuda\" if torch.cuda.is_available() else \"cpu\""
   ]
  },
  {
   "cell_type": "code",
   "execution_count": 5,
   "id": "63452b68",
   "metadata": {},
   "outputs": [
    {
     "data": {
      "text/plain": [
       "<All keys matched successfully>"
      ]
     },
     "execution_count": 5,
     "metadata": {},
     "output_type": "execute_result"
    }
   ],
   "source": [
    "htformer = HierarchicalTransformer(\n",
    "    d_model=64,\n",
    "    nhead=2,\n",
    "    num_spatial_layers=1,\n",
    "    num_temporal_layers=1,\n",
    "    num_classes=3,\n",
    "    num_joints=33,\n",
    "    num_frames=201,\n",
    "    dim_feedforward=2048,\n",
    "    dropout=0.1\n",
    ").to(device)\n",
    "\n",
    "htformer.load_state_dict(torch.load(htformer_weights))\n",
    "\n",
    "# Base\n",
    "stformer = BaseTransformerModel(\n",
    "    d_model=64,\n",
    "    nhead=2,\n",
    "    num_layers=2,\n",
    "    num_classes=3,\n",
    "    num_joints=33,\n",
    "    num_frames=201,\n",
    "    dim_feedforward=2048,\n",
    "    dropout=0.1\n",
    ").to(device)\n",
    "\n",
    "stformer.load_state_dict(torch.load(stformer_weights))\n"
   ]
  },
  {
   "cell_type": "code",
   "execution_count": 6,
   "id": "1d060149",
   "metadata": {},
   "outputs": [
    {
     "name": "stdout",
     "output_type": "stream",
     "text": [
      "(247, 33, 4)\n",
      "(93, 33, 4)\n",
      "(110, 33, 4)\n",
      "(74, 33, 4)\n",
      "(135, 33, 4)\n",
      "(78, 33, 4)\n",
      "(126, 33, 4)\n",
      "(80, 33, 4)\n",
      "(73, 33, 4)\n",
      "(96, 33, 4)\n",
      "(108, 33, 4)\n",
      "(79, 33, 4)\n",
      "(83, 33, 4)\n",
      "(110, 33, 4)\n",
      "(120, 33, 4)\n",
      "(120, 33, 4)\n",
      "(39, 33, 4)\n",
      "(49, 33, 4)\n",
      "(105, 33, 4)\n",
      "(79, 33, 4)\n",
      "(86, 33, 4)\n",
      "(80, 33, 4)\n",
      "(80, 33, 4)\n",
      "(120, 33, 4)\n",
      "(108, 33, 4)\n",
      "(113, 33, 4)\n",
      "(89, 33, 4)\n",
      "(70, 33, 4)\n",
      "(108, 33, 4)\n",
      "(104, 33, 4)\n",
      "(93, 33, 4)\n",
      "(108, 33, 4)\n",
      "(101, 33, 4)\n",
      "(111, 33, 4)\n",
      "(74, 33, 4)\n",
      "(93, 33, 4)\n",
      "(154, 33, 4)\n",
      "(84, 33, 4)\n",
      "(158, 33, 4)\n",
      "(103, 33, 4)\n",
      "(86, 33, 4)\n",
      "(86, 33, 4)\n",
      "(70, 33, 4)\n",
      "(109, 33, 4)\n",
      "(89, 33, 4)\n",
      "(90, 33, 4)\n",
      "(111, 33, 4)\n",
      "(77, 33, 4)\n",
      "(63, 33, 4)\n",
      "(87, 33, 4)\n",
      "(65, 33, 4)\n",
      "(75, 33, 4)\n",
      "(85, 33, 4)\n",
      "(97, 33, 4)\n",
      "(89, 33, 4)\n",
      "(93, 33, 4)\n",
      "(80, 33, 4)\n",
      "(80, 33, 4)\n",
      "(119, 33, 4)\n",
      "(62, 33, 4)\n",
      "(75, 33, 4)\n",
      "(60, 33, 4)\n",
      "(91, 33, 4)\n",
      "(78, 33, 4)\n",
      "(82, 33, 4)\n",
      "(84, 33, 4)\n",
      "(94, 33, 4)\n",
      "(102, 33, 4)\n",
      "(72, 33, 4)\n",
      "Filtering out sample with length 247\n",
      "Kept 68 out of 69 samples\n"
     ]
    }
   ],
   "source": [
    "# Prepare the dataset\n",
    "labels = {\"squats\": 0, \"deadlifts\": 1, \"shoulder_press\": 2}\n",
    "temp_samples = []\n",
    "sequence_lengths = []\n",
    "\n",
    "# Load all samples\n",
    "for exercise, label in labels.items():\n",
    "    folder_path = os.path.join(\".././data/keypoints/testing\", exercise)\n",
    "    if not os.path.exists(folder_path):\n",
    "        print(f\"Warning: {folder_path} does not exist\")\n",
    "        continue\n",
    "        \n",
    "    for file in os.listdir(folder_path):\n",
    "        if file.endswith(\".npy\"):\n",
    "            path = os.path.join(folder_path, file)\n",
    "            try:\n",
    "                sample = np.load(path)\n",
    "                print(sample.shape)\n",
    "                temp_samples.append((sample, label, file))\n",
    "                sequence_lengths.append(sample.shape[0])\n",
    "            except Exception as e:\n",
    "                print(f\"Error loading {path}: {e}\")\n",
    "\n",
    "if not temp_samples:\n",
    "    raise ValueError(\"No samples loaded!\")\n",
    "\n",
    "# Determine max_frames using percentile to avoid extreme outliers\n",
    "max_frames = 201\n",
    "\n",
    "# Filter out sequences that are too long\n",
    "filtered_samples = []\n",
    "filtered_lengths = []\n",
    "for i, (sample, label, filename) in enumerate(temp_samples):\n",
    "    if sequence_lengths[i] <= max_frames:\n",
    "        filtered_samples.append((sample, label, filename))\n",
    "        filtered_lengths.append(sequence_lengths[i])\n",
    "    else:\n",
    "        print(f\"Filtering out sample with length {sequence_lengths[i]}\")\n",
    "\n",
    "print(f\"Kept {len(filtered_samples)} out of {len(temp_samples)} samples\")\n",
    "\n",
    "# Create padded arrays with attention masks\n",
    "X = []\n",
    "y = []\n",
    "attention_masks = []\n",
    "final_sequence_lengths = []\n",
    "\n",
    "filenames = []  # to track filenames with final data\n",
    "\n",
    "for sample, label, filename in filtered_samples:\n",
    "    padded_sample, attention_mask, seq_len = process_sample(sample, max_frames)\n",
    "    X.append(padded_sample)\n",
    "    y.append(label)\n",
    "    attention_masks.append(attention_mask)\n",
    "    final_sequence_lengths.append(seq_len)\n",
    "    filenames.append(filename)\n",
    "\n",
    "# Convert to numpy arrays\n",
    "X = np.array(X)\n",
    "y = np.array(y)\n",
    "attention_masks = np.array(attention_masks)\n",
    "final_sequence_lengths = np.array(final_sequence_lengths)"
   ]
  },
  {
   "cell_type": "code",
   "execution_count": 7,
   "id": "4d1bb6ea",
   "metadata": {},
   "outputs": [],
   "source": [
    "# Loaders\n",
    "X = X[:, :, :, :3]# get x y z only\n",
    "\n",
    "# Convert to PyTorch tensors\n",
    "X_tensors = torch.tensor(X, dtype=torch.float32).to(device)\n",
    "mask_tensor = torch.tensor(attention_masks, dtype=torch.float32).to(device)"
   ]
  },
  {
   "cell_type": "code",
   "execution_count": 8,
   "id": "13809e30",
   "metadata": {},
   "outputs": [
    {
     "data": {
      "text/plain": [
       "(torch.Size([68, 201, 33, 3]), torch.Size([68, 201]))"
      ]
     },
     "execution_count": 8,
     "metadata": {},
     "output_type": "execute_result"
    }
   ],
   "source": [
    "X_tensors.shape, mask_tensor.shape"
   ]
  },
  {
   "cell_type": "code",
   "execution_count": 9,
   "id": "79454aad",
   "metadata": {},
   "outputs": [],
   "source": [
    "def infer(model, X: torch.tensor, mask: torch.tensor = None):\n",
    "    model.eval()\n",
    "    outputs = []\n",
    "\n",
    "    with torch.no_grad():\n",
    "        if mask is None:\n",
    "            for x in X:\n",
    "                x = x.unsqueeze(0)\n",
    "                output = model(x)\n",
    "                preds = output.argmax(1)\n",
    "                outputs.extend(preds.cpu().numpy())\n",
    "        else:\n",
    "            for x, m in zip(X, mask):\n",
    "                x = x.unsqueeze(0)\n",
    "                m = m.unsqueeze(0)  # make sure mask is batched too\n",
    "                output = model(x, m)\n",
    "                preds = output.argmax(1)\n",
    "                outputs.extend(preds.cpu().numpy())\n",
    "    \n",
    "    return outputs\n"
   ]
  },
  {
   "cell_type": "code",
   "execution_count": 10,
   "id": "0ac1152b",
   "metadata": {},
   "outputs": [
    {
     "name": "stderr",
     "output_type": "stream",
     "text": [
      "d:\\Thesis\\thesis\\Lib\\site-packages\\torch\\nn\\modules\\transformer.py:505: UserWarning: The PyTorch API of nested tensors is in prototype stage and will change in the near future. We recommend specifying layout=torch.jagged when constructing a nested tensor, as this layout receives active development, has better operator coverage, and works with torch.compile. (Triggered internally at C:\\actions-runner\\_work\\pytorch\\pytorch\\pytorch\\aten\\src\\ATen\\NestedTensorImpl.cpp:182.)\n",
      "  output = torch._nested_tensor_from_mask(\n"
     ]
    }
   ],
   "source": [
    "# Perform inference for both models\n",
    "htformer_outputs = infer(htformer, X_tensors, mask=mask_tensor)\n",
    "stformer_outputs = infer(stformer, X_tensors, mask=None)"
   ]
  },
  {
   "cell_type": "code",
   "execution_count": 11,
   "id": "de8202c8",
   "metadata": {},
   "outputs": [],
   "source": [
    "from sklearn.metrics import confusion_matrix\n",
    "import matplotlib.pyplot as plt\n",
    "from sklearn.metrics import ConfusionMatrixDisplay, classification_report\n",
    "\n",
    "class_names = ['Squats', 'Deadlifts', 'Shoulder Press']"
   ]
  },
  {
   "cell_type": "code",
   "execution_count": 12,
   "id": "99ed60f5",
   "metadata": {},
   "outputs": [
    {
     "data": {
      "text/plain": [
       "<sklearn.metrics._plot.confusion_matrix.ConfusionMatrixDisplay at 0x1760fdc6f30>"
      ]
     },
     "execution_count": 12,
     "metadata": {},
     "output_type": "execute_result"
    },
    {
     "data": {
      "image/png": "[encoded data removed]",
      "text/plain": [
       "<Figure size 640x480 with 2 Axes>"
      ]
     },
     "metadata": {},
     "output_type": "display_data"
    }
   ],
   "source": [
    "ConfusionMatrixDisplay.from_predictions(y, htformer_outputs,\n",
    "                                        display_labels=class_names,\n",
    "                                        cmap='Blues')"
   ]
  },
  {
   "cell_type": "code",
   "execution_count": 13,
   "id": "0e91bdb4",
   "metadata": {},
   "outputs": [
    {
     "data": {
      "text/plain": [
       "<sklearn.metrics._plot.confusion_matrix.ConfusionMatrixDisplay at 0x17656efc8f0>"
      ]
     },
     "execution_count": 13,
     "metadata": {},
     "output_type": "execute_result"
    },
    {
     "data": {
      "image/png": "[encoded data removed]",
      "text/plain": [
       "<Figure size 640x480 with 2 Axes>"
      ]
     },
     "metadata": {},
     "output_type": "display_data"
    }
   ],
   "source": [
    "ConfusionMatrixDisplay.from_predictions(y, stformer_outputs,\n",
    "                                        display_labels=class_names,\n",
    "                                        cmap='Blues')"
   ]
  },
  {
   "cell_type": "code",
   "execution_count": 14,
   "id": "0f3a536a",
   "metadata": {},
   "outputs": [
    {
     "name": "stdout",
     "output_type": "stream",
     "text": [
      "HTFormer Real World Data Inference\n",
      "              precision    recall  f1-score   support\n",
      "\n",
      "           0       0.91      0.88      0.89        24\n",
      "           1       0.95      1.00      0.98        21\n",
      "           2       0.91      0.91      0.91        23\n",
      "\n",
      "    accuracy                           0.93        68\n",
      "   macro avg       0.93      0.93      0.93        68\n",
      "weighted avg       0.93      0.93      0.93        68\n",
      "\n",
      "-----------------------------------------------------\n",
      "STFormer Real World Data Inference\n",
      "              precision    recall  f1-score   support\n",
      "\n",
      "           0       0.80      0.17      0.28        24\n",
      "           1       0.95      1.00      0.98        21\n",
      "           2       0.54      0.96      0.69        23\n",
      "\n",
      "    accuracy                           0.69        68\n",
      "   macro avg       0.76      0.71      0.65        68\n",
      "weighted avg       0.76      0.69      0.63        68\n",
      "\n"
     ]
    }
   ],
   "source": [
    "# reports\n",
    "print(\"HTFormer Real World Data Inference\")\n",
    "print(classification_report(y, htformer_outputs))\n",
    "print(\"-----------------------------------------------------\")\n",
    "print(\"STFormer Real World Data Inference\")\n",
    "print(classification_report(y, stformer_outputs))"
   ]
  },
  {
   "cell_type": "code",
   "execution_count": 15,
   "id": "e93b50bf",
   "metadata": {},
   "outputs": [
    {
     "name": "stdout",
     "output_type": "stream",
     "text": [
      "HTFormer Misclassified Indices: [0, 15, 16, 54, 60]\n",
      "STFormer Misclassified Indices: [2, 3, 4, 5, 6, 7, 8, 9, 10, 12, 13, 14, 15, 16, 18, 19, 20, 21, 22, 23, 60]\n"
     ]
    }
   ],
   "source": [
    "# Identify misclassified indices for each model\n",
    "htformer_misclassified_indices = [i for i, (pred, true) in enumerate(zip(htformer_outputs, y)) if pred != true]\n",
    "stformer_misclassified_indices = [i for i, (pred, true) in enumerate(zip(stformer_outputs, y)) if pred != true]\n",
    "\n",
    "# Print them\n",
    "print(\"HTFormer Misclassified Indices:\", htformer_misclassified_indices)\n",
    "print(\"STFormer Misclassified Indices:\", stformer_misclassified_indices)"
   ]
  },
  {
   "cell_type": "code",
   "execution_count": 16,
   "id": "4cffee2d",
   "metadata": {},
   "outputs": [
    {
     "name": "stdout",
     "output_type": "stream",
     "text": [
      "Misclassified by HTFormer - File: squats_1.npy, True: Squats, Predicted: Shoulder Press\n",
      "Misclassified by HTFormer - File: squats_23.npy, True: Squats, Predicted: Shoulder Press\n",
      "Misclassified by HTFormer - File: squats_24.npy, True: Squats, Predicted: Deadlifts\n",
      "Misclassified by HTFormer - File: shoulder_press_17.npy, True: Shoulder Press, Predicted: Squats\n",
      "Misclassified by HTFormer - File: shoulder_press_22.npy, True: Shoulder Press, Predicted: Squats\n"
     ]
    }
   ],
   "source": [
    "# Example for HTFormer\n",
    "for i, (pred, true) in enumerate(zip(htformer_outputs, y)):\n",
    "    if pred != true:\n",
    "        print(f\"Misclassified by HTFormer - File: {filenames[i]}, True: {class_names[true]}, Predicted: {class_names[pred]}\")"
   ]
  },
  {
   "cell_type": "code",
   "execution_count": null,
   "id": "f4814a60",
   "metadata": {},
   "outputs": [
    {
     "name": "stdout",
     "output_type": "stream",
     "text": [
      "Misclassified by STFormer - File: squats_11.npy, True: Squats, Predicted: Shoulder Press\n",
      "Misclassified by STFormer - File: squats_12.npy, True: Squats, Predicted: Shoulder Press\n",
      "Misclassified by STFormer - File: squats_13.npy, True: Squats, Predicted: Shoulder Press\n",
      "Misclassified by STFormer - File: squats_14.npy, True: Squats, Predicted: Shoulder Press\n",
      "Misclassified by STFormer - File: squats_15.npy, True: Squats, Predicted: Shoulder Press\n",
      "Misclassified by STFormer - File: squats_16.npy, True: Squats, Predicted: Shoulder Press\n",
      "Misclassified by STFormer - File: squats_17.npy, True: Squats, Predicted: Shoulder Press\n",
      "Misclassified by STFormer - File: squats_18.npy, True: Squats, Predicted: Shoulder Press\n",
      "Misclassified by STFormer - File: squats_19.npy, True: Squats, Predicted: Shoulder Press\n",
      "Misclassified by STFormer - File: squats_20.npy, True: Squats, Predicted: Shoulder Press\n",
      "Misclassified by STFormer - File: squats_21.npy, True: Squats, Predicted: Shoulder Press\n",
      "Misclassified by STFormer - File: squats_22.npy, True: Squats, Predicted: Shoulder Press\n",
      "Misclassified by STFormer - File: squats_23.npy, True: Squats, Predicted: Shoulder Press\n",
      "Misclassified by STFormer - File: squats_24.npy, True: Squats, Predicted: Deadlifts\n",
      "Misclassified by STFormer - File: squats_4.npy, True: Squats, Predicted: Shoulder Press\n",
      "Misclassified by STFormer - File: squats_5.npy, True: Squats, Predicted: Shoulder Press\n",
      "Misclassified by STFormer - File: squats_6.npy, True: Squats, Predicted: Shoulder Press\n",
      "Misclassified by STFormer - File: squats_7.npy, True: Squats, Predicted: Shoulder Press\n",
      "Misclassified by STFormer - File: squats_8.npy, True: Squats, Predicted: Shoulder Press\n",
      "Misclassified by STFormer - File: squats_9.npy, True: Squats, Predicted: Shoulder Press\n",
      "Misclassified by STFormer - File: shoulder_press_22.npy, True: Shoulder Press, Predicted: Squats\n"
     ]
    },
    {
     "ename": "",
     "evalue": "",
     "output_type": "error",
     "traceback": [
      "\u001b[1;31mThe Kernel crashed while executing code in the current cell or a previous cell. \n",
      "\u001b[1;31mPlease review the code in the cell(s) to identify a possible cause of the failure. \n",
      "\u001b[1;31mClick <a href='https://aka.ms/vscodeJupyterKernelCrash'>here</a> for more info. \n",
      "\u001b[1;31mView Jupyter <a href='command:jupyter.viewOutput'>log</a> for further details."
     ]
    }
   ],
   "source": [
    "for i, (pred, true) in enumerate(zip(stformer_outputs, y)):\n",
    "    if pred != true:\n",
    "        print(f\"Misclassified by STFormer - File: {filenames[i]}, True: {class_names[true]}, Predicted: {class_names[pred]}\")\n"
   ]
  }
 ],
 "metadata": {
  "kernelspec": {
   "display_name": "thesis",
   "language": "python",
   "name": "python3"
  },
  "language_info": {
   "codemirror_mode": {
    "name": "ipython",
    "version": 3
   },
   "file_extension": ".py",
   "mimetype": "text/x-python",
   "name": "python",
   "nbconvert_exporter": "python",
   "pygments_lexer": "ipython3",
   "version": "3.12.10"
  }
 },
 "nbformat": 4,
 "nbformat_minor": 5
}
