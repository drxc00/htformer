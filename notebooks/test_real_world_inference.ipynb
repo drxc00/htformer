{
 "cells": [
  {
   "cell_type": "code",
   "execution_count": 1,
   "id": "2c0159ed",
   "metadata": {},
   "outputs": [],
   "source": [
    "import sys\n",
    "import os\n",
    "\n",
    "# Go up to project root (from inside training/)\n",
    "project_root = os.path.abspath(os.path.join(os.getcwd(), '../.'))\n",
    "if project_root not in sys.path:\n",
    "    sys.path.append(project_root)"
   ]
  },
  {
   "cell_type": "code",
   "execution_count": 2,
   "id": "26cdf638",
   "metadata": {},
   "outputs": [],
   "source": [
    "from core.utils import process_sample\n",
    "from core.models.base_transformer_model import SimpleTransformerEncoder as BaseTransformerModel\n",
    "from core.models.hierarchical_transformer import HierarchicalTransformer\n",
    "import torch\n",
    "import numpy as np\n",
    "import os"
   ]
  },
  {
   "cell_type": "code",
   "execution_count": 3,
   "id": "4abead6e",
   "metadata": {},
   "outputs": [],
   "source": [
    "# Initialize the models\n",
    "htformer_weights = \".././models/final/hierarchical_transformer_f201_d64_h2_s1_t1_do0.1_20250701_1555.pth\"\n",
    "stformer_weights = \".././models/final/base_hierarchical_transformer_f201_d64_h2_do0.1_20250701_1352.pth\""
   ]
  },
  {
   "cell_type": "code",
   "execution_count": 4,
   "id": "a35d9296",
   "metadata": {},
   "outputs": [],
   "source": [
    "device = \"cuda\" if torch.cuda.is_available() else \"cpu\""
   ]
  },
  {
   "cell_type": "code",
   "execution_count": 5,
   "id": "63452b68",
   "metadata": {},
   "outputs": [
    {
     "data": {
      "text/plain": [
       "<All keys matched successfully>"
      ]
     },
     "execution_count": 5,
     "metadata": {},
     "output_type": "execute_result"
    }
   ],
   "source": [
    "htformer = HierarchicalTransformer(\n",
    "    d_model=64,\n",
    "    nhead=2,\n",
    "    num_spatial_layers=1,\n",
    "    num_temporal_layers=1,\n",
    "    num_classes=3,\n",
    "    num_joints=33,\n",
    "    num_frames=201,\n",
    "    dim_feedforward=2048,\n",
    "    dropout=0.1\n",
    ").to(device)\n",
    "\n",
    "htformer.load_state_dict(torch.load(htformer_weights))\n",
    "\n",
    "# Base\n",
    "stformer = BaseTransformerModel(\n",
    "    d_model=64,\n",
    "    nhead=2,\n",
    "    num_layers=2,\n",
    "    num_classes=3,\n",
    "    num_joints=33,\n",
    "    num_frames=201,\n",
    "    dim_feedforward=2048,\n",
    "    dropout=0.1\n",
    ").to(device)\n",
    "\n",
    "stformer.load_state_dict(torch.load(stformer_weights))\n"
   ]
  },
  {
   "cell_type": "code",
   "execution_count": 6,
   "id": "1d060149",
   "metadata": {},
   "outputs": [
    {
     "name": "stdout",
     "output_type": "stream",
     "text": [
      "(98, 33, 4)\n",
      "(208, 33, 4)\n",
      "(86, 33, 4)\n",
      "(73, 33, 4)\n",
      "(110, 33, 4)\n",
      "(89, 33, 4)\n",
      "(86, 33, 4)\n",
      "(109, 33, 4)\n",
      "(95, 33, 4)\n",
      "(154, 33, 4)\n",
      "(158, 33, 4)\n",
      "(78, 33, 4)\n",
      "(87, 33, 4)\n",
      "(75, 33, 4)\n",
      "(97, 33, 4)\n",
      "Filtering out sample with length 208\n",
      "Kept 14 out of 15 samples\n"
     ]
    }
   ],
   "source": [
    "# Prepare the dataset\n",
    "labels = {\"squats\": 0, \"deadlifts\": 1, \"shoulder_press\": 2}\n",
    "temp_samples = []\n",
    "sequence_lengths = []\n",
    "\n",
    "# Load all samples\n",
    "for exercise, label in labels.items():\n",
    "    folder_path = os.path.join(\".././data/keypoints/testing\", exercise)\n",
    "    if not os.path.exists(folder_path):\n",
    "        print(f\"Warning: {folder_path} does not exist\")\n",
    "        continue\n",
    "        \n",
    "    for file in os.listdir(folder_path):\n",
    "        if file.endswith(\".npy\"):\n",
    "            path = os.path.join(folder_path, file)\n",
    "            try:\n",
    "                sample = np.load(path)\n",
    "                print(sample.shape)\n",
    "                temp_samples.append((sample, label))\n",
    "                sequence_lengths.append(sample.shape[0])\n",
    "            except Exception as e:\n",
    "                print(f\"Error loading {path}: {e}\")\n",
    "\n",
    "if not temp_samples:\n",
    "    raise ValueError(\"No samples loaded!\")\n",
    "\n",
    "# Determine max_frames using percentile to avoid extreme outliers\n",
    "max_frames = 201\n",
    "\n",
    "# Filter out sequences that are too long\n",
    "filtered_samples = []\n",
    "filtered_lengths = []\n",
    "for i, (sample, label) in enumerate(temp_samples):\n",
    "    if sequence_lengths[i] <= max_frames:\n",
    "        filtered_samples.append((sample, label))\n",
    "        filtered_lengths.append(sequence_lengths[i])\n",
    "    else:\n",
    "        print(f\"Filtering out sample with length {sequence_lengths[i]}\")\n",
    "\n",
    "print(f\"Kept {len(filtered_samples)} out of {len(temp_samples)} samples\")\n",
    "\n",
    "# Create padded arrays with attention masks\n",
    "X = []\n",
    "y = []\n",
    "attention_masks = []\n",
    "final_sequence_lengths = []\n",
    "\n",
    "for sample, label in filtered_samples:\n",
    "    padded_sample, attention_mask, seq_len = process_sample(sample, max_frames)\n",
    "    X.append(padded_sample)\n",
    "    y.append(label)\n",
    "    attention_masks.append(attention_mask)\n",
    "    final_sequence_lengths.append(seq_len)\n",
    "\n",
    "# Convert to numpy arrays\n",
    "X = np.array(X)\n",
    "y = np.array(y)\n",
    "attention_masks = np.array(attention_masks)\n",
    "final_sequence_lengths = np.array(final_sequence_lengths)"
   ]
  },
  {
   "cell_type": "code",
   "execution_count": 11,
   "id": "4d1bb6ea",
   "metadata": {},
   "outputs": [],
   "source": [
    "# Loaders\n",
    "X = X[:, :, :, :3]# get x y z only\n",
    "\n",
    "# Convert to PyTorch tensors\n",
    "X_tensors = torch.tensor(X, dtype=torch.float32).to(device)\n",
    "mask_tensor = torch.tensor(attention_masks, dtype=torch.float32).to(device)"
   ]
  },
  {
   "cell_type": "code",
   "execution_count": 12,
   "id": "13809e30",
   "metadata": {},
   "outputs": [
    {
     "data": {
      "text/plain": [
       "(torch.Size([14, 201, 33, 3]), torch.Size([14, 201]))"
      ]
     },
     "execution_count": 12,
     "metadata": {},
     "output_type": "execute_result"
    }
   ],
   "source": [
    "X_tensors.shape, mask_tensor.shape"
   ]
  },
  {
   "cell_type": "code",
   "execution_count": 13,
   "id": "79454aad",
   "metadata": {},
   "outputs": [],
   "source": [
    "def infer(model, X: torch.tensor, mask: torch.tensor = None):\n",
    "    model.eval()\n",
    "    outputs = []\n",
    "\n",
    "    with torch.no_grad():\n",
    "        if mask is None:\n",
    "            for x in X:\n",
    "                x = x.unsqueeze(0)\n",
    "                output = model(x)\n",
    "                preds = output.argmax(1)\n",
    "                outputs.extend(preds.cpu().numpy())\n",
    "        else:\n",
    "            for x, m in zip(X, mask):\n",
    "                x = x.unsqueeze(0)\n",
    "                m = m.unsqueeze(0)  # make sure mask is batched too\n",
    "                output = model(x, m)\n",
    "                preds = output.argmax(1)\n",
    "                outputs.extend(preds.cpu().numpy())\n",
    "    \n",
    "    return outputs\n"
   ]
  },
  {
   "cell_type": "code",
   "execution_count": 14,
   "id": "0ac1152b",
   "metadata": {},
   "outputs": [],
   "source": [
    "# Perform inference for both models\n",
    "htformer_outputs = infer(htformer, X_tensors, mask=mask_tensor)\n",
    "stformer_outputs = infer(stformer, X_tensors, mask=None)"
   ]
  },
  {
   "cell_type": "code",
   "execution_count": 19,
   "id": "de8202c8",
   "metadata": {},
   "outputs": [],
   "source": [
    "from sklearn.metrics import confusion_matrix\n",
    "import matplotlib.pyplot as plt\n",
    "from sklearn.metrics import ConfusionMatrixDisplay, classification_report\n",
    "\n",
    "class_names = ['Squats', 'Deadlifts', 'Shoulder Press']"
   ]
  },
  {
   "cell_type": "code",
   "execution_count": 20,
   "id": "99ed60f5",
   "metadata": {},
   "outputs": [
    {
     "data": {
      "text/plain": [
       "<sklearn.metrics._plot.confusion_matrix.ConfusionMatrixDisplay at 0x1ab37477b30>"
      ]
     },
     "execution_count": 20,
     "metadata": {},
     "output_type": "execute_result"
    },
    {
     "data": {
      "image/png": "[encoded data removed]",
      "text/plain": [
       "<Figure size 640x480 with 2 Axes>"
      ]
     },
     "metadata": {},
     "output_type": "display_data"
    }
   ],
   "source": [
    "ConfusionMatrixDisplay.from_predictions(y, htformer_outputs,\n",
    "                                        display_labels=class_names,\n",
    "                                        cmap='Blues')"
   ]
  },
  {
   "cell_type": "code",
   "execution_count": 21,
   "id": "0e91bdb4",
   "metadata": {},
   "outputs": [
    {
     "data": {
      "text/plain": [
       "<sklearn.metrics._plot.confusion_matrix.ConfusionMatrixDisplay at 0x1aae6dbb080>"
      ]
     },
     "execution_count": 21,
     "metadata": {},
     "output_type": "execute_result"
    },
    {
     "data": {
      "image/png": "[encoded data removed]",
      "text/plain": [
       "<Figure size 640x480 with 2 Axes>"
      ]
     },
     "metadata": {},
     "output_type": "display_data"
    }
   ],
   "source": [
    "ConfusionMatrixDisplay.from_predictions(y, stformer_outputs,\n",
    "                                        display_labels=class_names,\n",
    "                                        cmap='Blues')"
   ]
  },
  {
   "cell_type": "code",
   "execution_count": 22,
   "id": "0f3a536a",
   "metadata": {},
   "outputs": [
    {
     "name": "stdout",
     "output_type": "stream",
     "text": [
      "HTFormer Real World Data Inference\n",
      "              precision    recall  f1-score   support\n",
      "\n",
      "           0       1.00      1.00      1.00         4\n",
      "           1       1.00      1.00      1.00         6\n",
      "           2       1.00      1.00      1.00         4\n",
      "\n",
      "    accuracy                           1.00        14\n",
      "   macro avg       1.00      1.00      1.00        14\n",
      "weighted avg       1.00      1.00      1.00        14\n",
      "\n",
      "-----------------------------------------------------\n",
      "STFormer Real World Data Inference\n",
      "              precision    recall  f1-score   support\n",
      "\n",
      "           0       1.00      0.25      0.40         4\n",
      "           1       1.00      1.00      1.00         6\n",
      "           2       0.57      1.00      0.73         4\n",
      "\n",
      "    accuracy                           0.79        14\n",
      "   macro avg       0.86      0.75      0.71        14\n",
      "weighted avg       0.88      0.79      0.75        14\n",
      "\n"
     ]
    }
   ],
   "source": [
    "# reports\n",
    "print(\"HTFormer Real World Data Inference\")\n",
    "print(classification_report(y, htformer_outputs))\n",
    "print(\"-----------------------------------------------------\")\n",
    "print(\"STFormer Real World Data Inference\")\n",
    "print(classification_report(y, stformer_outputs))"
   ]
  },
  {
   "cell_type": "code",
   "execution_count": null,
   "id": "e93b50bf",
   "metadata": {},
   "outputs": [],
   "source": []
  }
 ],
 "metadata": {
  "kernelspec": {
   "display_name": "thesis",
   "language": "python",
   "name": "python3"
  },
  "language_info": {
   "codemirror_mode": {
    "name": "ipython",
    "version": 3
   },
   "file_extension": ".py",
   "mimetype": "text/x-python",
   "name": "python",
   "nbconvert_exporter": "python",
   "pygments_lexer": "ipython3",
   "version": "3.12.10"
  }
 },
 "nbformat": 4,
 "nbformat_minor": 5
}
