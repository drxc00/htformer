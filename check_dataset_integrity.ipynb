{
 "cells": [
  {
   "cell_type": "code",
   "execution_count": 1,
   "id": "1a82ca47",
   "metadata": {},
   "outputs": [],
   "source": [
    "import numpy as np\n"
   ]
  },
  {
   "cell_type": "code",
   "execution_count": 2,
   "id": "f69427ac",
   "metadata": {},
   "outputs": [],
   "source": [
    "data = np.load(\"data/keypoints/deadlifts_squats_shoulder_press_2025-06-03.npz\")[\"X\"]"
   ]
  },
  {
   "cell_type": "code",
   "execution_count": 3,
   "id": "9f810b14",
   "metadata": {},
   "outputs": [
    {
     "data": {
      "text/plain": [
       "(2034, 378, 33, 4)"
      ]
     },
     "execution_count": 3,
     "metadata": {},
     "output_type": "execute_result"
    }
   ],
   "source": [
    "data.shape"
   ]
  },
  {
   "cell_type": "code",
   "execution_count": 4,
   "id": "88e3982a",
   "metadata": {},
   "outputs": [
    {
     "name": "stdout",
     "output_type": "stream",
     "text": [
      "Found 11 exact duplicate pairs.\n"
     ]
    }
   ],
   "source": [
    "# exact matching\n",
    "import hashlib\n",
    "\n",
    "def hash_sample(sample, precision=5):\n",
    "    rounded = np.round(sample, precision)\n",
    "    flat = rounded.flatten()\n",
    "    return hashlib.md5(flat.tobytes()).hexdigest()\n",
    "\n",
    "hashes = {}\n",
    "duplicates = []\n",
    "\n",
    "for idx in range(data.shape[0]):\n",
    "    h = hash_sample(data[idx])\n",
    "    if h in hashes:\n",
    "        duplicates.append((hashes[h], idx))\n",
    "    else:\n",
    "        hashes[h] = idx\n",
    "\n",
    "print(f\"Found {len(duplicates)} exact duplicate pairs.\")"
   ]
  },
  {
   "cell_type": "code",
   "execution_count": 6,
   "id": "ad98d928",
   "metadata": {},
   "outputs": [
    {
     "name": "stdout",
     "output_type": "stream",
     "text": [
      "Found 66 near-identical pairs.\n"
     ]
    }
   ],
   "source": [
    "# pair wise comparison\n",
    "duplicates = []\n",
    "\n",
    "for i in range(len(data)):\n",
    "    for j in range(i + 1, len(data)):\n",
    "        if np.allclose(data[i], data[j], rtol=1e-5, atol=1e-8):\n",
    "            duplicates.append((i, j))\n",
    "\n",
    "print(f\"Found {len(duplicates)} near-identical pairs.\")"
   ]
  },
  {
   "cell_type": "code",
   "execution_count": 7,
   "id": "736c9742",
   "metadata": {},
   "outputs": [
    {
     "name": "stdout",
     "output_type": "stream",
     "text": [
      "Duplicate pair: Sample 95 and Sample 366\n",
      "Duplicate pair: Sample 95 and Sample 498\n",
      "Duplicate pair: Sample 95 and Sample 502\n",
      "Duplicate pair: Sample 95 and Sample 513\n",
      "Duplicate pair: Sample 95 and Sample 546\n",
      "Duplicate pair: Sample 95 and Sample 1542\n",
      "Duplicate pair: Sample 95 and Sample 1545\n",
      "Duplicate pair: Sample 95 and Sample 1546\n",
      "Duplicate pair: Sample 95 and Sample 1547\n",
      "Duplicate pair: Sample 95 and Sample 1551\n",
      "Duplicate pair: Sample 95 and Sample 1566\n",
      "Duplicate pair: Sample 366 and Sample 498\n",
      "Duplicate pair: Sample 366 and Sample 502\n",
      "Duplicate pair: Sample 366 and Sample 513\n",
      "Duplicate pair: Sample 366 and Sample 546\n",
      "Duplicate pair: Sample 366 and Sample 1542\n",
      "Duplicate pair: Sample 366 and Sample 1545\n",
      "Duplicate pair: Sample 366 and Sample 1546\n",
      "Duplicate pair: Sample 366 and Sample 1547\n",
      "Duplicate pair: Sample 366 and Sample 1551\n",
      "Duplicate pair: Sample 366 and Sample 1566\n",
      "Duplicate pair: Sample 498 and Sample 502\n",
      "Duplicate pair: Sample 498 and Sample 513\n",
      "Duplicate pair: Sample 498 and Sample 546\n",
      "Duplicate pair: Sample 498 and Sample 1542\n",
      "Duplicate pair: Sample 498 and Sample 1545\n",
      "Duplicate pair: Sample 498 and Sample 1546\n",
      "Duplicate pair: Sample 498 and Sample 1547\n",
      "Duplicate pair: Sample 498 and Sample 1551\n",
      "Duplicate pair: Sample 498 and Sample 1566\n",
      "Duplicate pair: Sample 502 and Sample 513\n",
      "Duplicate pair: Sample 502 and Sample 546\n",
      "Duplicate pair: Sample 502 and Sample 1542\n",
      "Duplicate pair: Sample 502 and Sample 1545\n",
      "Duplicate pair: Sample 502 and Sample 1546\n",
      "Duplicate pair: Sample 502 and Sample 1547\n",
      "Duplicate pair: Sample 502 and Sample 1551\n",
      "Duplicate pair: Sample 502 and Sample 1566\n",
      "Duplicate pair: Sample 513 and Sample 546\n",
      "Duplicate pair: Sample 513 and Sample 1542\n",
      "Duplicate pair: Sample 513 and Sample 1545\n",
      "Duplicate pair: Sample 513 and Sample 1546\n",
      "Duplicate pair: Sample 513 and Sample 1547\n",
      "Duplicate pair: Sample 513 and Sample 1551\n",
      "Duplicate pair: Sample 513 and Sample 1566\n",
      "Duplicate pair: Sample 546 and Sample 1542\n",
      "Duplicate pair: Sample 546 and Sample 1545\n",
      "Duplicate pair: Sample 546 and Sample 1546\n",
      "Duplicate pair: Sample 546 and Sample 1547\n",
      "Duplicate pair: Sample 546 and Sample 1551\n",
      "Duplicate pair: Sample 546 and Sample 1566\n",
      "Duplicate pair: Sample 1542 and Sample 1545\n",
      "Duplicate pair: Sample 1542 and Sample 1546\n",
      "Duplicate pair: Sample 1542 and Sample 1547\n",
      "Duplicate pair: Sample 1542 and Sample 1551\n",
      "Duplicate pair: Sample 1542 and Sample 1566\n",
      "Duplicate pair: Sample 1545 and Sample 1546\n",
      "Duplicate pair: Sample 1545 and Sample 1547\n",
      "Duplicate pair: Sample 1545 and Sample 1551\n",
      "Duplicate pair: Sample 1545 and Sample 1566\n",
      "Duplicate pair: Sample 1546 and Sample 1547\n",
      "Duplicate pair: Sample 1546 and Sample 1551\n",
      "Duplicate pair: Sample 1546 and Sample 1566\n",
      "Duplicate pair: Sample 1547 and Sample 1551\n",
      "Duplicate pair: Sample 1547 and Sample 1566\n",
      "Duplicate pair: Sample 1551 and Sample 1566\n"
     ]
    }
   ],
   "source": [
    "for a, b in duplicates:\n",
    "    print(f\"Duplicate pair: Sample {a} and Sample {b}\")"
   ]
  },
  {
   "cell_type": "code",
   "execution_count": null,
   "id": "36268410",
   "metadata": {},
   "outputs": [],
   "source": []
  }
 ],
 "metadata": {
  "kernelspec": {
   "display_name": "thesis",
   "language": "python",
   "name": "python3"
  },
  "language_info": {
   "codemirror_mode": {
    "name": "ipython",
    "version": 3
   },
   "file_extension": ".py",
   "mimetype": "text/x-python",
   "name": "python",
   "nbconvert_exporter": "python",
   "pygments_lexer": "ipython3",
   "version": "3.12.10"
  }
 },
 "nbformat": 4,
 "nbformat_minor": 5
}
