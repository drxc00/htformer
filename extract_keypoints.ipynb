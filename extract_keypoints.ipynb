{
 "cells": [
  {
   "cell_type": "markdown",
   "id": "da2205fe",
   "metadata": {},
   "source": [
    "# Extract the keypoints form the augmented videos"
   ]
  },
  {
   "cell_type": "code",
   "execution_count": 1,
   "id": "cdcf0618",
   "metadata": {},
   "outputs": [],
   "source": [
    "import numpy as np\n",
    "from keypoint_extractor import KeypointExtractorV2"
   ]
  },
  {
   "cell_type": "code",
   "execution_count": 2,
   "id": "d0293d6f",
   "metadata": {},
   "outputs": [],
   "source": [
    "def extract_keypoints(input_dir, output_dir, exercise):\n",
    "    \"\"\"\n",
    "    Extract keypoints from video files in the input directory and save them to the output directory.\n",
    "    \n",
    "    Args:\n",
    "        input_dir (str): Path to the input directory containing video files.\n",
    "        output_dir (str): Path to the output directory to save the extracted keypoints.\n",
    "        exercise (str): Name of the exercise to extract keypoints for.\n",
    "    \"\"\"\n",
    "    # Create output directory if it doesn't exist\n",
    "    if not os.path.exists(output_dir):\n",
    "        os.makedirs(output_dir)\n",
    "    \n",
    "    # Create KeypointExtractor instance\n",
    "    extractor = KeypointExtractorV2(model_path=\"models/mediapipe/pose_landmarker_full.task\")\n",
    "    \n",
    "    file_count = 0  # Reset file count for each extraction session\n",
    "    \n",
    "    # Loop through all files in the input directory\n",
    "    for file in os.listdir(input_dir):\n",
    "        if file.endswith(\".mp4\"):\n",
    "            # Extract keypoints from the file\n",
    "            keypoints = extractor.extract(os.path.join(input_dir, file))\n",
    "            \n",
    "            # Save keypoints to a NumPy file\n",
    "            output_path = os.path.join(output_dir, exercise + \"_\" + str(file_count) + \".npy\")\n",
    "            np.save(output_path, keypoints)\n",
    "            \n",
    "            file_count += 1\n",
    "            \n",
    "            print(f\"Extracted keypoints for {file}\")"
   ]
  },
  {
   "cell_type": "code",
   "execution_count": 4,
   "id": "4778828a",
   "metadata": {},
   "outputs": [],
   "source": [
    "from multiprocessing import Process\n",
    "\n",
    "def extract_deadlift():\n",
    "    input_dir = \"data/augmented/deadlifts/videos\"\n",
    "    output_dir = \"data/augmented/deadlifts/keypoints\"\n",
    "    exercise = \"deadlift\"\n",
    "    \n",
    "    extract_keypoints(input_dir, output_dir, exercise)\n",
    "    \n",
    "def extract_squat():\n",
    "    input_dir = \"data/augmented/squats/videos\"\n",
    "    output_dir = \"data/augmented/squats/keypoints\"\n",
    "    exercise = \"squat\"\n",
    "    \n",
    "    extract_keypoints(input_dir, output_dir, exercise)"
   ]
  },
  {
   "cell_type": "code",
   "execution_count": 5,
   "id": "98ddb7fe",
   "metadata": {},
   "outputs": [],
   "source": [
    "p1 = Process(target=extract_deadlift)\n",
    "p2 = Process(target=extract_squat)\n",
    "\n",
    "p1.start()\n",
    "p2.start()\n",
    "\n",
    "p1.join()\n",
    "p2.join()\n"
   ]
  },
  {
   "cell_type": "markdown",
   "id": "46fd7e45",
   "metadata": {},
   "source": []
  }
 ],
 "metadata": {
  "kernelspec": {
   "display_name": "thesis",
   "language": "python",
   "name": "python3"
  },
  "language_info": {
   "codemirror_mode": {
    "name": "ipython",
    "version": 3
   },
   "file_extension": ".py",
   "mimetype": "text/x-python",
   "name": "python",
   "nbconvert_exporter": "python",
   "pygments_lexer": "ipython3",
   "version": "3.12.10"
  }
 },
 "nbformat": 4,
 "nbformat_minor": 5
}
