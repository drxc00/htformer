{
 "cells": [
  {
   "cell_type": "code",
   "execution_count": null,
   "id": "481bc55a",
   "metadata": {},
   "outputs": [],
   "source": [
    "from keypoint_extractor import KeypointExtractorV2\n",
    "from augment import DataAugmentor\n",
    "import numpy as np\n",
    "import os"
   ]
  },
  {
   "cell_type": "code",
   "execution_count": null,
   "id": "d5c43147",
   "metadata": {},
   "outputs": [],
   "source": [
    "# Select the directory where the videos are stored\n",
    "exercise = \"shoulder_press\""
   ]
  },
  {
   "cell_type": "code",
   "execution_count": null,
   "id": "39f1dca7",
   "metadata": {},
   "outputs": [],
   "source": [
    "# Augmentation\n",
    "augmentor = DataAugmentor(input_dir=f\"data/raw/{exercise}\", output_dir=f\"data/augmented/{exercise}\")"
   ]
  },
  {
   "cell_type": "code",
   "execution_count": null,
   "id": "bb2be08c",
   "metadata": {},
   "outputs": [],
   "source": [
    "# Run\n",
    "augmentor.run()"
   ]
  },
  {
   "cell_type": "code",
   "execution_count": null,
   "id": "5ed29ded",
   "metadata": {},
   "outputs": [],
   "source": [
    "# Keypoints extraction\n",
    "extractor = KeypointExtractorV2(model_path=\"models/mediapipe/pose_landmarker_heavy.task\")"
   ]
  },
  {
   "cell_type": "code",
   "execution_count": null,
   "id": "e139a844",
   "metadata": {},
   "outputs": [],
   "source": [
    "# Create output directory if it doesn't exist\n",
    "input_dir = f\"data/augmented/{exercise}/\"\n",
    "output_dir = f\"data/keypoints/{exercise}/\"\n",
    "if not os.path.exists(output_dir):\n",
    "    os.makedirs(output_dir)\n",
    "\n",
    "file_count = 0  # Reset file count for each extraction session\n",
    "\n",
    "# Loop through all files in the input directory\n",
    "for file in os.listdir(input_dir):\n",
    "    if file.endswith(\".mp4\"):\n",
    "        # Extract keypoints from the file\n",
    "        keypoints = extractor.extract(os.path.join(input_dir, file))\n",
    "        \n",
    "        # Save keypoints to a NumPy file\n",
    "        output_path = os.path.join(output_dir, exercise + \"_\" + str(file_count) + \".npy\")\n",
    "        np.save(output_path, keypoints)\n",
    "        \n",
    "        file_count += 1\n",
    "        \n",
    "        print(f\"Extracted keypoints for {file}\")"
   ]
  }
 ],
 "metadata": {
  "kernelspec": {
   "display_name": "thesis",
   "language": "python",
   "name": "python3"
  },
  "language_info": {
   "codemirror_mode": {
    "name": "ipython",
    "version": 3
   },
   "file_extension": ".py",
   "mimetype": "text/x-python",
   "name": "python",
   "nbconvert_exporter": "python",
   "pygments_lexer": "ipython3",
   "version": "3.12.10"
  }
 },
 "nbformat": 4,
 "nbformat_minor": 5
}
